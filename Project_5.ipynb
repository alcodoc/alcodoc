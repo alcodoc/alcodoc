{
 "cells": [
  {
   "cell_type": "code",
   "execution_count": 29,
   "id": "7ca1b62a",
   "metadata": {},
   "outputs": [],
   "source": [
    "import numpy as np \n",
    "import pandas as pd \n",
    "import matplotlib.pyplot as plt\n",
    "import seaborn as sns\n",
    "%matplotlib inline\n",
    "\n",
    "\n",
    "import imblearn\n",
    "from imblearn.over_sampling import SMOTE"
   ]
  },
  {
   "cell_type": "code",
   "execution_count": 30,
   "id": "b3b18ff0",
   "metadata": {},
   "outputs": [
    {
     "name": "stdout",
     "output_type": "stream",
     "text": [
      "Requirement already satisfied: imbalanced-learn in c:\\anaconda\\lib\\site-packages (0.9.0)\n",
      "Requirement already satisfied: scipy>=1.1.0 in c:\\anaconda\\lib\\site-packages (from imbalanced-learn) (1.6.2)\n",
      "Requirement already satisfied: joblib>=0.11 in c:\\anaconda\\lib\\site-packages (from imbalanced-learn) (1.0.1)\n",
      "Requirement already satisfied: threadpoolctl>=2.0.0 in c:\\anaconda\\lib\\site-packages (from imbalanced-learn) (2.1.0)\n",
      "Requirement already satisfied: numpy>=1.14.6 in c:\\anaconda\\lib\\site-packages (from imbalanced-learn) (1.20.1)\n",
      "Requirement already satisfied: scikit-learn>=1.0.1 in c:\\anaconda\\lib\\site-packages (from imbalanced-learn) (1.0.2)\n"
     ]
    }
   ],
   "source": [
    "!pip install imbalanced-learn\n",
    "# установим библиотеку imbalanced-learn для создания \n",
    "# дублирующей выборки класса меньшинства (метод SMOTE)"
   ]
  },
  {
   "cell_type": "code",
   "execution_count": 1138,
   "id": "04f046e9",
   "metadata": {},
   "outputs": [],
   "source": [
    "df_train = pd.read_csv('train.csv')\n",
    "df_test = pd.read_csv('test.csv')\n",
    "sample_submission = pd.read_csv('sample_submission.csv')"
   ]
  },
  {
   "cell_type": "markdown",
   "id": "c1e75694",
   "metadata": {},
   "source": [
    "**Описания полей**\n",
    "\n",
    "**client_id** - идентификатор клиента\n",
    "\n",
    "**education** - уровень образования\n",
    "\n",
    "**sex** - пол заемщика\n",
    "\n",
    "**age** - возраст заемщика\n",
    "\n",
    "**car** - флаг наличия автомобиля\n",
    "\n",
    "**car_type** - флаг автомобиля иномарки\n",
    "\n",
    "**decline_app_cnt** - количество отказанных прошлых заявок\n",
    "\n",
    "**good_work** - флаг наличия “хорошей” работы\n",
    "\n",
    "**bki_request_cnt** - количество запросов в БКИ\n",
    "\n",
    "**home_address** - категоризатор домашнего адреса\n",
    "\n",
    "**work_address** - категоризатор рабочего адреса\n",
    "\n",
    "**income** - доход заемщика\n",
    "\n",
    "**foreign_passport** - наличие загранпаспорта\n",
    "\n",
    "**sna** - связь заемщика с клиентами банка\n",
    "\n",
    "**first_time** - давность наличия информации о заемщике\n",
    "\n",
    "**score_bki** - скоринговый балл по данным из БКИ\n",
    "\n",
    "**region_rating** - рейтинг региона\n",
    "\n",
    "**app_date** - дата подачи заявки\n",
    "\n",
    "**default** - флаг дефолта по кредиту"
   ]
  },
  {
   "cell_type": "markdown",
   "id": "958f6aed",
   "metadata": {},
   "source": [
    "### Обработка признаков."
   ]
  },
  {
   "cell_type": "markdown",
   "id": "c02caae6",
   "metadata": {},
   "source": [
    "Объединяем тренинговую и тестовую части в один датасет для совместной обработки признаков."
   ]
  },
  {
   "cell_type": "code",
   "execution_count": 1139,
   "id": "9d567ad2",
   "metadata": {},
   "outputs": [],
   "source": [
    "df_train['sample'] = 1 # помечаем где у нас трейн\n",
    "df_test['sample'] = 0  # помечаем где у нас тест\n",
    "df_test['default'] = 0 # в тесте у нас нет значения default, мы его должны предсказать, по этому пока просто заполняем нулями\n",
    "\n",
    "data = df_test.append(df_train, sort=False).reset_index(drop=True) # объединяем"
   ]
  },
  {
   "cell_type": "code",
   "execution_count": 1140,
   "id": "8649c3cf",
   "metadata": {},
   "outputs": [
    {
     "data": {
      "text/html": [
       "<div>\n",
       "<style scoped>\n",
       "    .dataframe tbody tr th:only-of-type {\n",
       "        vertical-align: middle;\n",
       "    }\n",
       "\n",
       "    .dataframe tbody tr th {\n",
       "        vertical-align: top;\n",
       "    }\n",
       "\n",
       "    .dataframe thead th {\n",
       "        text-align: right;\n",
       "    }\n",
       "</style>\n",
       "<table border=\"1\" class=\"dataframe\">\n",
       "  <thead>\n",
       "    <tr style=\"text-align: right;\">\n",
       "      <th></th>\n",
       "      <th>client_id</th>\n",
       "      <th>app_date</th>\n",
       "      <th>education</th>\n",
       "      <th>sex</th>\n",
       "      <th>age</th>\n",
       "      <th>car</th>\n",
       "      <th>car_type</th>\n",
       "      <th>decline_app_cnt</th>\n",
       "      <th>good_work</th>\n",
       "      <th>score_bki</th>\n",
       "      <th>bki_request_cnt</th>\n",
       "      <th>region_rating</th>\n",
       "      <th>home_address</th>\n",
       "      <th>work_address</th>\n",
       "      <th>income</th>\n",
       "      <th>sna</th>\n",
       "      <th>first_time</th>\n",
       "      <th>foreign_passport</th>\n",
       "      <th>sample</th>\n",
       "      <th>default</th>\n",
       "    </tr>\n",
       "  </thead>\n",
       "  <tbody>\n",
       "    <tr>\n",
       "      <th>0</th>\n",
       "      <td>74835</td>\n",
       "      <td>22MAR2014</td>\n",
       "      <td>GRD</td>\n",
       "      <td>M</td>\n",
       "      <td>29</td>\n",
       "      <td>Y</td>\n",
       "      <td>Y</td>\n",
       "      <td>0</td>\n",
       "      <td>0</td>\n",
       "      <td>-2.271884</td>\n",
       "      <td>3</td>\n",
       "      <td>50</td>\n",
       "      <td>1</td>\n",
       "      <td>2</td>\n",
       "      <td>50000</td>\n",
       "      <td>1</td>\n",
       "      <td>4</td>\n",
       "      <td>N</td>\n",
       "      <td>0</td>\n",
       "      <td>0</td>\n",
       "    </tr>\n",
       "    <tr>\n",
       "      <th>1</th>\n",
       "      <td>17527</td>\n",
       "      <td>24JAN2014</td>\n",
       "      <td>SCH</td>\n",
       "      <td>F</td>\n",
       "      <td>39</td>\n",
       "      <td>N</td>\n",
       "      <td>N</td>\n",
       "      <td>5</td>\n",
       "      <td>0</td>\n",
       "      <td>-1.504999</td>\n",
       "      <td>2</td>\n",
       "      <td>50</td>\n",
       "      <td>1</td>\n",
       "      <td>2</td>\n",
       "      <td>5000</td>\n",
       "      <td>4</td>\n",
       "      <td>3</td>\n",
       "      <td>N</td>\n",
       "      <td>0</td>\n",
       "      <td>0</td>\n",
       "    </tr>\n",
       "    <tr>\n",
       "      <th>2</th>\n",
       "      <td>75683</td>\n",
       "      <td>23MAR2014</td>\n",
       "      <td>UGR</td>\n",
       "      <td>M</td>\n",
       "      <td>50</td>\n",
       "      <td>Y</td>\n",
       "      <td>Y</td>\n",
       "      <td>0</td>\n",
       "      <td>0</td>\n",
       "      <td>-1.691339</td>\n",
       "      <td>1</td>\n",
       "      <td>50</td>\n",
       "      <td>1</td>\n",
       "      <td>2</td>\n",
       "      <td>30000</td>\n",
       "      <td>1</td>\n",
       "      <td>3</td>\n",
       "      <td>Y</td>\n",
       "      <td>0</td>\n",
       "      <td>0</td>\n",
       "    </tr>\n",
       "    <tr>\n",
       "      <th>3</th>\n",
       "      <td>26883</td>\n",
       "      <td>03FEB2014</td>\n",
       "      <td>SCH</td>\n",
       "      <td>M</td>\n",
       "      <td>56</td>\n",
       "      <td>N</td>\n",
       "      <td>N</td>\n",
       "      <td>0</td>\n",
       "      <td>0</td>\n",
       "      <td>-2.374182</td>\n",
       "      <td>1</td>\n",
       "      <td>40</td>\n",
       "      <td>1</td>\n",
       "      <td>2</td>\n",
       "      <td>17000</td>\n",
       "      <td>1</td>\n",
       "      <td>3</td>\n",
       "      <td>N</td>\n",
       "      <td>0</td>\n",
       "      <td>0</td>\n",
       "    </tr>\n",
       "    <tr>\n",
       "      <th>4</th>\n",
       "      <td>28862</td>\n",
       "      <td>04FEB2014</td>\n",
       "      <td>GRD</td>\n",
       "      <td>F</td>\n",
       "      <td>38</td>\n",
       "      <td>N</td>\n",
       "      <td>N</td>\n",
       "      <td>0</td>\n",
       "      <td>0</td>\n",
       "      <td>-2.487502</td>\n",
       "      <td>0</td>\n",
       "      <td>80</td>\n",
       "      <td>2</td>\n",
       "      <td>3</td>\n",
       "      <td>120000</td>\n",
       "      <td>1</td>\n",
       "      <td>3</td>\n",
       "      <td>N</td>\n",
       "      <td>0</td>\n",
       "      <td>0</td>\n",
       "    </tr>\n",
       "  </tbody>\n",
       "</table>\n",
       "</div>"
      ],
      "text/plain": [
       "   client_id   app_date education sex  age car car_type  decline_app_cnt  \\\n",
       "0      74835  22MAR2014       GRD   M   29   Y        Y                0   \n",
       "1      17527  24JAN2014       SCH   F   39   N        N                5   \n",
       "2      75683  23MAR2014       UGR   M   50   Y        Y                0   \n",
       "3      26883  03FEB2014       SCH   M   56   N        N                0   \n",
       "4      28862  04FEB2014       GRD   F   38   N        N                0   \n",
       "\n",
       "   good_work  score_bki  bki_request_cnt  region_rating  home_address  \\\n",
       "0          0  -2.271884                3             50             1   \n",
       "1          0  -1.504999                2             50             1   \n",
       "2          0  -1.691339                1             50             1   \n",
       "3          0  -2.374182                1             40             1   \n",
       "4          0  -2.487502                0             80             2   \n",
       "\n",
       "   work_address  income  sna  first_time foreign_passport  sample  default  \n",
       "0             2   50000    1           4                N       0        0  \n",
       "1             2    5000    4           3                N       0        0  \n",
       "2             2   30000    1           3                Y       0        0  \n",
       "3             2   17000    1           3                N       0        0  \n",
       "4             3  120000    1           3                N       0        0  "
      ]
     },
     "execution_count": 1140,
     "metadata": {},
     "output_type": "execute_result"
    }
   ],
   "source": [
    "data.head()"
   ]
  },
  {
   "cell_type": "code",
   "execution_count": 1141,
   "id": "9b9a41c6",
   "metadata": {},
   "outputs": [
    {
     "name": "stdout",
     "output_type": "stream",
     "text": [
      "<class 'pandas.core.frame.DataFrame'>\n",
      "RangeIndex: 110148 entries, 0 to 110147\n",
      "Data columns (total 20 columns):\n",
      " #   Column            Non-Null Count   Dtype  \n",
      "---  ------            --------------   -----  \n",
      " 0   client_id         110148 non-null  int64  \n",
      " 1   app_date          110148 non-null  object \n",
      " 2   education         109670 non-null  object \n",
      " 3   sex               110148 non-null  object \n",
      " 4   age               110148 non-null  int64  \n",
      " 5   car               110148 non-null  object \n",
      " 6   car_type          110148 non-null  object \n",
      " 7   decline_app_cnt   110148 non-null  int64  \n",
      " 8   good_work         110148 non-null  int64  \n",
      " 9   score_bki         110148 non-null  float64\n",
      " 10  bki_request_cnt   110148 non-null  int64  \n",
      " 11  region_rating     110148 non-null  int64  \n",
      " 12  home_address      110148 non-null  int64  \n",
      " 13  work_address      110148 non-null  int64  \n",
      " 14  income            110148 non-null  int64  \n",
      " 15  sna               110148 non-null  int64  \n",
      " 16  first_time        110148 non-null  int64  \n",
      " 17  foreign_passport  110148 non-null  object \n",
      " 18  sample            110148 non-null  int64  \n",
      " 19  default           110148 non-null  int64  \n",
      "dtypes: float64(1), int64(13), object(6)\n",
      "memory usage: 16.8+ MB\n"
     ]
    }
   ],
   "source": [
    "data.info()"
   ]
  },
  {
   "cell_type": "code",
   "execution_count": 1142,
   "id": "c9a76aa2",
   "metadata": {},
   "outputs": [
    {
     "data": {
      "text/plain": [
       "client_id             0\n",
       "app_date              0\n",
       "education           478\n",
       "sex                   0\n",
       "age                   0\n",
       "car                   0\n",
       "car_type              0\n",
       "decline_app_cnt       0\n",
       "good_work             0\n",
       "score_bki             0\n",
       "bki_request_cnt       0\n",
       "region_rating         0\n",
       "home_address          0\n",
       "work_address          0\n",
       "income                0\n",
       "sna                   0\n",
       "first_time            0\n",
       "foreign_passport      0\n",
       "sample                0\n",
       "default               0\n",
       "dtype: int64"
      ]
     },
     "execution_count": 1142,
     "metadata": {},
     "output_type": "execute_result"
    }
   ],
   "source": [
    "data.isnull().sum()"
   ]
  },
  {
   "cell_type": "markdown",
   "id": "82b208da",
   "metadata": {},
   "source": [
    "#### Заполнение пропусков\n",
    "Пропуски только в столбце образования (education). Зарплата зависит от уровня квалификации, поэтому посмотрим связь признаков education и income. "
   ]
  },
  {
   "cell_type": "code",
   "execution_count": 1145,
   "id": "c85af822",
   "metadata": {},
   "outputs": [
    {
     "data": {
      "text/plain": [
       "education\n",
       "ACD    85949.405498\n",
       "GRD    54315.008916\n",
       "PGR    79753.214477\n",
       "SCH    32033.254681\n",
       "UGR    39009.904868\n",
       "Name: income, dtype: float64"
      ]
     },
     "execution_count": 1145,
     "metadata": {},
     "output_type": "execute_result"
    },
    {
     "data": {
      "image/png": "[encoded data removed]",
      "text/plain": [
       "<Figure size 432x288 with 1 Axes>"
      ]
     },
     "metadata": {
      "needs_background": "light"
     },
     "output_type": "display_data"
    }
   ],
   "source": [
    "data.groupby('education').income.mean().plot(kind = 'bar')\n",
    "data.groupby('education').income.mean()"
   ]
  },
  {
   "cell_type": "markdown",
   "id": "10ca9bf9",
   "metadata": {},
   "source": [
    "Заполним пропуски в образовании в разрезе дохода. Для этого напишем функцию."
   ]
  },
  {
   "cell_type": "code",
   "execution_count": 1146,
   "id": "e58bc8a9",
   "metadata": {},
   "outputs": [],
   "source": [
    "def edu_nan(row):\n",
    "    \"\"\"Функция проверяет доход клиента, у которого пропуск в образовании,\n",
    "    и в зависимости от дохода подставляет уровень образования. Уровни отсечения -\n",
    "    это средний доход по образовательной группе.\"\"\"\n",
    "    if pd.isnull(row['education']):\n",
    "        if row['income'] < 32033:\n",
    "            return 'SCH'\n",
    "        if row['income'] < 39010:\n",
    "            return 'UGR'\n",
    "        if row['income'] < 54315:\n",
    "            return 'GRD'\n",
    "        if row['income'] < 79753:\n",
    "            return 'PGR'\n",
    "        else:\n",
    "            return 'ACD'\n",
    "    else:\n",
    "        return row['education']        "
   ]
  },
  {
   "cell_type": "code",
   "execution_count": 1147,
   "id": "97c7dfb6",
   "metadata": {},
   "outputs": [],
   "source": [
    "data['education'] = data.apply(edu_nan, axis = 1)\n",
    "# Заполняем пробелы функцией."
   ]
  },
  {
   "cell_type": "code",
   "execution_count": 1148,
   "id": "281c34e5",
   "metadata": {},
   "outputs": [
    {
     "data": {
      "text/plain": [
       "0"
      ]
     },
     "execution_count": 1148,
     "metadata": {},
     "output_type": "execute_result"
    }
   ],
   "source": [
    "data.education.isnull().sum()\n",
    "# Проверяем"
   ]
  },
  {
   "cell_type": "markdown",
   "id": "5d17926d",
   "metadata": {},
   "source": [
    "#### Упорядочение переменной education\n",
    "Education - это категориальная порядковая переменная, поэтому можно заменить строковый названия категорий числовыми значениями. \n",
    "\n",
    "1. SCH - school (среднее образование)\n",
    "2. UGR - undergraduates (старшекурсник)\n",
    "3. GRD - graduate (выпускник)\n",
    "4. PGR - practice graduate (магистр+стажировка)\n",
    "5. ACD - высшая категория образования"
   ]
  },
  {
   "cell_type": "code",
   "execution_count": 1149,
   "id": "6d34d8ed",
   "metadata": {},
   "outputs": [],
   "source": [
    "data = data.replace({'education':{'SCH':1, 'UGR':2, 'GRD':3, 'PGR':4, 'ACD':5}})"
   ]
  },
  {
   "cell_type": "markdown",
   "id": "242bbee7",
   "metadata": {},
   "source": [
    "#### Работа с типами признаков.\n",
    "Датасет содержит бинарные, категориальные и цифровые признаки. Для простоты из совместной обработки сохраним списки этих переменных в отдельные переменные."
   ]
  },
  {
   "cell_type": "code",
   "execution_count": 1150,
   "id": "010711ad",
   "metadata": {},
   "outputs": [],
   "source": [
    "num_cols = ['age', 'decline_app_cnt', 'score_bki', 'bki_request_cnt', 'income']\n",
    "cat_cols = ['education', 'first_time', 'sna', 'work_address', 'home_address', 'region_rating']\n",
    "bin_cols = ['sex', 'car', 'car_type', 'good_work', 'foreign_passport']"
   ]
  },
  {
   "cell_type": "markdown",
   "id": "4e796c50",
   "metadata": {},
   "source": [
    "#### Числовые признаки - распределение\n",
    "Посмотрим распределение числовых признаков"
   ]
  },
  {
   "cell_type": "code",
   "execution_count": 1151,
   "id": "169e8674",
   "metadata": {},
   "outputs": [
    {
     "data": {
      "image/png": "[encoded data removed]",
      "text/plain": [
       "<Figure size 432x288 with 1 Axes>"
      ]
     },
     "metadata": {
      "needs_background": "light"
     },
     "output_type": "display_data"
    },
    {
     "data": {
      "image/png": "[encoded data removed]",
      "text/plain": [
       "<Figure size 432x288 with 1 Axes>"
      ]
     },
     "metadata": {
      "needs_background": "light"
     },
     "output_type": "display_data"
    },
    {
     "data": {
      "image/png": "[encoded data removed]",
      "text/plain": [
       "<Figure size 432x288 with 1 Axes>"
      ]
     },
     "metadata": {
      "needs_background": "light"
     },
     "output_type": "display_data"
    },
    {
     "data": {
      "image/png": "[encoded data removed]",
      "text/plain": [
       "<Figure size 432x288 with 1 Axes>"
      ]
     },
     "metadata": {
      "needs_background": "light"
     },
     "output_type": "display_data"
    },
    {
     "data": {
      "image/png": "[encoded data removed]",
      "text/plain": [
       "<Figure size 432x288 with 1 Axes>"
      ]
     },
     "metadata": {
      "needs_background": "light"
     },
     "output_type": "display_data"
    }
   ],
   "source": [
    "for i in num_cols:\n",
    "    # Используем цикл, чтобы создать распределения для всех признаков сразу.\n",
    "    plt.figure()\n",
    "    # Создаем новую плоскость для графика\n",
    "    data[i].hist(bins = 100)\n",
    "    # Рисуем в плоскости график\n",
    "    plt.title(i)\n",
    "    # Подписываем\n",
    "    plt.show()\n",
    "    # Показываем"
   ]
  },
  {
   "cell_type": "markdown",
   "id": "1bd637d3",
   "metadata": {},
   "source": [
    "Только признак score_bki имеет нормальное распределение, остальные числовые признаки имеют смещенное распределение с тяжелым правым хвостом. Для того чтобы сделать распределение данных переменных более нормальным, можно работать с логарифмированными величинами этих переменных. \n",
    "\n",
    "В признаках 'bki_request_cnt' и 'decline_app_cnt' имеются нулевые значения, поэтому перед логарифмированием увеличим каждое значение в этих переменных на 1, то есть сдвинем все значения вправо. Это не изменит соотношение величин между собой. "
   ]
  },
  {
   "cell_type": "code",
   "execution_count": 1153,
   "id": "4091526c",
   "metadata": {},
   "outputs": [],
   "source": [
    "data['decline_app_cnt'] = np.log(data['decline_app_cnt'] + 1)\n",
    "data['bki_request_cnt'] = np.log(data['bki_request_cnt'] + 1)\n",
    "data['age'] = np.log(data['age'])\n",
    "data['income'] = np.log(data['income'])"
   ]
  },
  {
   "cell_type": "markdown",
   "id": "6726485d",
   "metadata": {},
   "source": [
    "Посмотрим распределение числовых признаков после логарифмирования."
   ]
  },
  {
   "cell_type": "code",
   "execution_count": 1154,
   "id": "7f5c0da1",
   "metadata": {},
   "outputs": [
    {
     "data": {
      "image/png": "[encoded data removed]",
      "text/plain": [
       "<Figure size 432x288 with 1 Axes>"
      ]
     },
     "metadata": {
      "needs_background": "light"
     },
     "output_type": "display_data"
    },
    {
     "data": {
      "image/png": "[encoded data removed]",
      "text/plain": [
       "<Figure size 432x288 with 1 Axes>"
      ]
     },
     "metadata": {
      "needs_background": "light"
     },
     "output_type": "display_data"
    },
    {
     "data": {
      "image/png": "[encoded data removed]",
      "text/plain": [
       "<Figure size 432x288 with 1 Axes>"
      ]
     },
     "metadata": {
      "needs_background": "light"
     },
     "output_type": "display_data"
    },
    {
     "data": {
      "image/png": "[encoded data removed]",
      "text/plain": [
       "<Figure size 432x288 with 1 Axes>"
      ]
     },
     "metadata": {
      "needs_background": "light"
     },
     "output_type": "display_data"
    },
    {
     "data": {
      "image/png": "[encoded data removed]",
      "text/plain": [
       "<Figure size 432x288 with 1 Axes>"
      ]
     },
     "metadata": {
      "needs_background": "light"
     },
     "output_type": "display_data"
    }
   ],
   "source": [
    "for i in num_cols:\n",
    "    # Используем цикл, чтобы создать распределения для всех признаков сразу.\n",
    "    plt.figure()\n",
    "    # Создаем новую плоскость для графика\n",
    "    data[i].hist(bins = 100)\n",
    "    # Рисуем в плоскости график\n",
    "    plt.title(i)\n",
    "    # Подписываем\n",
    "    plt.show()\n",
    "    # Показываем"
   ]
  },
  {
   "cell_type": "markdown",
   "id": "b57885da",
   "metadata": {},
   "source": [
    "После логарифмирования распределение признаков стало гораздо ближе к нормальному."
   ]
  },
  {
   "cell_type": "markdown",
   "id": "0bdd2f6b",
   "metadata": {},
   "source": [
    "#### Числовые признаки - корреляция.\n",
    "Проверим нет ли среди числовых признаков сильно скоррелированных."
   ]
  },
  {
   "cell_type": "code",
   "execution_count": 1155,
   "id": "782956b6",
   "metadata": {},
   "outputs": [
    {
     "data": {
      "text/html": [
       "<div>\n",
       "<style scoped>\n",
       "    .dataframe tbody tr th:only-of-type {\n",
       "        vertical-align: middle;\n",
       "    }\n",
       "\n",
       "    .dataframe tbody tr th {\n",
       "        vertical-align: top;\n",
       "    }\n",
       "\n",
       "    .dataframe thead th {\n",
       "        text-align: right;\n",
       "    }\n",
       "</style>\n",
       "<table border=\"1\" class=\"dataframe\">\n",
       "  <thead>\n",
       "    <tr style=\"text-align: right;\">\n",
       "      <th></th>\n",
       "      <th>age</th>\n",
       "      <th>decline_app_cnt</th>\n",
       "      <th>score_bki</th>\n",
       "      <th>bki_request_cnt</th>\n",
       "      <th>income</th>\n",
       "    </tr>\n",
       "  </thead>\n",
       "  <tbody>\n",
       "    <tr>\n",
       "      <th>age</th>\n",
       "      <td>1.000000</td>\n",
       "      <td>-0.130482</td>\n",
       "      <td>-0.110160</td>\n",
       "      <td>0.051850</td>\n",
       "      <td>-0.090123</td>\n",
       "    </tr>\n",
       "    <tr>\n",
       "      <th>decline_app_cnt</th>\n",
       "      <td>-0.130482</td>\n",
       "      <td>1.000000</td>\n",
       "      <td>0.207342</td>\n",
       "      <td>0.127531</td>\n",
       "      <td>-0.011682</td>\n",
       "    </tr>\n",
       "    <tr>\n",
       "      <th>score_bki</th>\n",
       "      <td>-0.110160</td>\n",
       "      <td>0.207342</td>\n",
       "      <td>1.000000</td>\n",
       "      <td>0.141600</td>\n",
       "      <td>0.004366</td>\n",
       "    </tr>\n",
       "    <tr>\n",
       "      <th>bki_request_cnt</th>\n",
       "      <td>0.051850</td>\n",
       "      <td>0.127531</td>\n",
       "      <td>0.141600</td>\n",
       "      <td>1.000000</td>\n",
       "      <td>0.079106</td>\n",
       "    </tr>\n",
       "    <tr>\n",
       "      <th>income</th>\n",
       "      <td>-0.090123</td>\n",
       "      <td>-0.011682</td>\n",
       "      <td>0.004366</td>\n",
       "      <td>0.079106</td>\n",
       "      <td>1.000000</td>\n",
       "    </tr>\n",
       "  </tbody>\n",
       "</table>\n",
       "</div>"
      ],
      "text/plain": [
       "                      age  decline_app_cnt  score_bki  bki_request_cnt  \\\n",
       "age              1.000000        -0.130482  -0.110160         0.051850   \n",
       "decline_app_cnt -0.130482         1.000000   0.207342         0.127531   \n",
       "score_bki       -0.110160         0.207342   1.000000         0.141600   \n",
       "bki_request_cnt  0.051850         0.127531   0.141600         1.000000   \n",
       "income          -0.090123        -0.011682   0.004366         0.079106   \n",
       "\n",
       "                   income  \n",
       "age             -0.090123  \n",
       "decline_app_cnt -0.011682  \n",
       "score_bki        0.004366  \n",
       "bki_request_cnt  0.079106  \n",
       "income           1.000000  "
      ]
     },
     "execution_count": 1155,
     "metadata": {},
     "output_type": "execute_result"
    }
   ],
   "source": [
    "data[num_cols].corr()\n",
    "# Все числовые переменные слабо скоррелированы между собой. "
   ]
  },
  {
   "cell_type": "code",
   "execution_count": 1156,
   "id": "4fe6c92b",
   "metadata": {},
   "outputs": [
    {
     "data": {
      "text/plain": [
       "<AxesSubplot:>"
      ]
     },
     "execution_count": 1156,
     "metadata": {},
     "output_type": "execute_result"
    },
    {
     "data": {
      "image/png": "[encoded data removed]",
      "text/plain": [
       "<Figure size 432x288 with 2 Axes>"
      ]
     },
     "metadata": {
      "needs_background": "light"
     },
     "output_type": "display_data"
    }
   ],
   "source": [
    "sns.heatmap(data[num_cols].corr().abs(), vmin=0, vmax=1)"
   ]
  },
  {
   "cell_type": "markdown",
   "id": "a071173b",
   "metadata": {},
   "source": [
    "Среди числовых признаков нет сильно скоррелированных между собой."
   ]
  },
  {
   "cell_type": "markdown",
   "id": "65554671",
   "metadata": {},
   "source": [
    "#### Числовые признаки - значимость\n",
    "Для возможного уменьшения размерности и улучшения предсказательной силы моделей проведем отбор важных признаков, чтобы знать от каких признаков можно отказаться. Для оценки значимости числовых переменных будем использовать функцию f_classif из библиотеки sklearn. В качестве меры значимости мы будем использовать значение f-статистики. "
   ]
  },
  {
   "cell_type": "code",
   "execution_count": 1157,
   "id": "5f241212",
   "metadata": {},
   "outputs": [],
   "source": [
    "from sklearn.feature_selection import  f_classif \n",
    "# Импортируем нужную функцию."
   ]
  },
  {
   "cell_type": "code",
   "execution_count": 1158,
   "id": "ae0fcf13",
   "metadata": {},
   "outputs": [
    {
     "data": {
      "text/plain": [
       "<AxesSubplot:>"
      ]
     },
     "execution_count": 1158,
     "metadata": {},
     "output_type": "execute_result"
    },
    {
     "data": {
      "image/png": "[encoded data removed]",
      "text/plain": [
       "<Figure size 432x288 with 1 Axes>"
      ]
     },
     "metadata": {
      "needs_background": "light"
     },
     "output_type": "display_data"
    }
   ],
   "source": [
    "imp_num = f_classif(data[num_cols], data['default'])[0]\n",
    "# Функция возвращает2 массива.Берем только первый - f_statistic с индексом [0].\n",
    "# Сохраняем этот массив в переменную.\n",
    "\n",
    "imp_num = pd.Series(imp_num, index = num_cols)\n",
    "# Переводим массив в серию для использования визуализации.\n",
    "\n",
    "imp_num.sort_values(inplace = True)\n",
    "imp_num.plot(kind = 'barh')\n",
    "# Выводим значения f_statistic (значимости признаков для целевой переменной) на диаграмме."
   ]
  },
  {
   "cell_type": "markdown",
   "id": "aa10c2dd",
   "metadata": {},
   "source": [
    "**Признак AGE самый мало значимый, поэтому его не включаем в модель.**"
   ]
  },
  {
   "cell_type": "markdown",
   "id": "5baf0090",
   "metadata": {},
   "source": [
    "#### Бинарные признаки\n",
    "Бинарные признаки в датасете почти все имеют строковые значения. Необходимо преобразовать признаки в числовые. Для этого воспользуемся уже готовыми библиотечными функциями. Для бинарных признаков мы будем использовать LabelEncoder"
   ]
  },
  {
   "cell_type": "code",
   "execution_count": 1159,
   "id": "6d58cff9",
   "metadata": {},
   "outputs": [
    {
     "name": "stdout",
     "output_type": "stream",
     "text": [
      "['sex'] ['M' 'F']\n",
      "['car'] ['Y' 'N']\n",
      "['car_type'] ['Y' 'N']\n",
      "['good_work'] [0 1]\n",
      "['foreign_passport'] ['N' 'Y']\n"
     ]
    }
   ],
   "source": [
    "for i in bin_cols:\n",
    "    print([i], data[i].unique())"
   ]
  },
  {
   "cell_type": "code",
   "execution_count": 1160,
   "id": "d2bcb80d",
   "metadata": {},
   "outputs": [],
   "source": [
    "from sklearn.preprocessing import LabelEncoder\n",
    "# Загружаем нужную функцию."
   ]
  },
  {
   "cell_type": "code",
   "execution_count": 1161,
   "id": "74cfbd29",
   "metadata": {},
   "outputs": [],
   "source": [
    "le = LabelEncoder()\n",
    "# Создаем объект - экземпляр класса .\n",
    "\n",
    "for column in bin_cols:\n",
    "    # Перебираем в цикле каждый бинарный признак.\n",
    "    data[column] = le.fit_transform(data[column])\n",
    "    # Присваиваем новые значения столбцам вызывая методы fit и transform класса LabelEncoder"
   ]
  },
  {
   "cell_type": "code",
   "execution_count": 1162,
   "id": "b4827340",
   "metadata": {},
   "outputs": [
    {
     "data": {
      "text/html": [
       "<div>\n",
       "<style scoped>\n",
       "    .dataframe tbody tr th:only-of-type {\n",
       "        vertical-align: middle;\n",
       "    }\n",
       "\n",
       "    .dataframe tbody tr th {\n",
       "        vertical-align: top;\n",
       "    }\n",
       "\n",
       "    .dataframe thead th {\n",
       "        text-align: right;\n",
       "    }\n",
       "</style>\n",
       "<table border=\"1\" class=\"dataframe\">\n",
       "  <thead>\n",
       "    <tr style=\"text-align: right;\">\n",
       "      <th></th>\n",
       "      <th>sex</th>\n",
       "      <th>car</th>\n",
       "      <th>car_type</th>\n",
       "      <th>good_work</th>\n",
       "      <th>foreign_passport</th>\n",
       "    </tr>\n",
       "  </thead>\n",
       "  <tbody>\n",
       "    <tr>\n",
       "      <th>0</th>\n",
       "      <td>1</td>\n",
       "      <td>1</td>\n",
       "      <td>1</td>\n",
       "      <td>0</td>\n",
       "      <td>0</td>\n",
       "    </tr>\n",
       "    <tr>\n",
       "      <th>1</th>\n",
       "      <td>0</td>\n",
       "      <td>0</td>\n",
       "      <td>0</td>\n",
       "      <td>0</td>\n",
       "      <td>0</td>\n",
       "    </tr>\n",
       "    <tr>\n",
       "      <th>2</th>\n",
       "      <td>1</td>\n",
       "      <td>1</td>\n",
       "      <td>1</td>\n",
       "      <td>0</td>\n",
       "      <td>1</td>\n",
       "    </tr>\n",
       "    <tr>\n",
       "      <th>3</th>\n",
       "      <td>1</td>\n",
       "      <td>0</td>\n",
       "      <td>0</td>\n",
       "      <td>0</td>\n",
       "      <td>0</td>\n",
       "    </tr>\n",
       "    <tr>\n",
       "      <th>4</th>\n",
       "      <td>0</td>\n",
       "      <td>0</td>\n",
       "      <td>0</td>\n",
       "      <td>0</td>\n",
       "      <td>0</td>\n",
       "    </tr>\n",
       "  </tbody>\n",
       "</table>\n",
       "</div>"
      ],
      "text/plain": [
       "   sex  car  car_type  good_work  foreign_passport\n",
       "0    1    1         1          0                 0\n",
       "1    0    0         0          0                 0\n",
       "2    1    1         1          0                 1\n",
       "3    1    0         0          0                 0\n",
       "4    0    0         0          0                 0"
      ]
     },
     "execution_count": 1162,
     "metadata": {},
     "output_type": "execute_result"
    }
   ],
   "source": [
    "# убедимся в преобразовании    \n",
    "data[bin_cols].head()"
   ]
  },
  {
   "cell_type": "markdown",
   "id": "c5730f7e",
   "metadata": {},
   "source": [
    "#### Категориальные признаки - значимость.\n",
    " Для оценки значимости числовых переменных будем использовать функцию mutual_info_classif из библиотеки sklearn.  "
   ]
  },
  {
   "cell_type": "code",
   "execution_count": 1163,
   "id": "2b9a85e3",
   "metadata": {},
   "outputs": [],
   "source": [
    "from sklearn.feature_selection import mutual_info_classif\n",
    "# Импортируем нужную функцию."
   ]
  },
  {
   "cell_type": "code",
   "execution_count": 1164,
   "id": "f925c1a3",
   "metadata": {},
   "outputs": [
    {
     "data": {
      "text/plain": [
       "<AxesSubplot:>"
      ]
     },
     "execution_count": 1164,
     "metadata": {},
     "output_type": "execute_result"
    },
    {
     "data": {
      "image/png": "[encoded data removed]",
      "text/plain": [
       "<Figure size 432x288 with 1 Axes>"
      ]
     },
     "metadata": {
      "needs_background": "light"
     },
     "output_type": "display_data"
    }
   ],
   "source": [
    "imp_cat = mutual_info_classif(data[bin_cols + cat_cols ], data['default'], discrete_features =True)\n",
    "\n",
    "imp_cat = pd.Series(imp_cat, index = bin_cols + cat_cols)\n",
    "\n",
    "imp_cat.sort_values(inplace = True)\n",
    "imp_cat.plot(kind = 'barh')"
   ]
  },
  {
   "cell_type": "markdown",
   "id": "b0e72ae4",
   "metadata": {},
   "source": [
    "**Признаки CAR и SEX самые мало значимые, поэтому их не включаем в модель.**"
   ]
  },
  {
   "cell_type": "markdown",
   "id": "4071615c",
   "metadata": {},
   "source": [
    "**С учетом значимости оставляем для модели только следующие признаки.**"
   ]
  },
  {
   "cell_type": "code",
   "execution_count": 1165,
   "id": "b140ea02",
   "metadata": {},
   "outputs": [],
   "source": [
    "data = data[['score_bki', 'decline_app_cnt', 'bki_request_cnt',\n",
    "            'education','region_rating','home_address','work_address',\n",
    "           'sna','first_time','sample','default','foreign_passport',\n",
    "              'car_type','good_work','income']]"
   ]
  },
  {
   "cell_type": "code",
   "execution_count": 1191,
   "id": "73ac1fb3",
   "metadata": {},
   "outputs": [
    {
     "name": "stdout",
     "output_type": "stream",
     "text": [
      "<class 'pandas.core.frame.DataFrame'>\n",
      "RangeIndex: 110148 entries, 0 to 110147\n",
      "Data columns (total 15 columns):\n",
      " #   Column            Non-Null Count   Dtype  \n",
      "---  ------            --------------   -----  \n",
      " 0   score_bki         110148 non-null  float64\n",
      " 1   decline_app_cnt   110148 non-null  float64\n",
      " 2   bki_request_cnt   110148 non-null  float64\n",
      " 3   education         110148 non-null  int64  \n",
      " 4   region_rating     110148 non-null  int64  \n",
      " 5   home_address      110148 non-null  int64  \n",
      " 6   work_address      110148 non-null  int64  \n",
      " 7   sna               110148 non-null  int64  \n",
      " 8   first_time        110148 non-null  int64  \n",
      " 9   sample            110148 non-null  int64  \n",
      " 10  default           110148 non-null  int64  \n",
      " 11  foreign_passport  110148 non-null  int32  \n",
      " 12  car_type          110148 non-null  int32  \n",
      " 13  good_work         110148 non-null  int64  \n",
      " 14  income            110148 non-null  float64\n",
      "dtypes: float64(4), int32(2), int64(9)\n",
      "memory usage: 11.8 MB\n"
     ]
    }
   ],
   "source": [
    "data.info()"
   ]
  },
  {
   "cell_type": "markdown",
   "id": "348575d5",
   "metadata": {},
   "source": [
    "**После обработки признаков обратно выделяем из датасета  обучающую и валидационную выборки.**"
   ]
  },
  {
   "cell_type": "code",
   "execution_count": 1180,
   "id": "96d4bb33",
   "metadata": {},
   "outputs": [],
   "source": [
    "train_data = data.query('sample == 1').drop(['sample'], axis=1)\n",
    "test_data = data.query('sample == 0').drop(['sample', 'default'], axis=1)\n",
    "# По признаку sample выделяем нужные части, а самм признак удаляем."
   ]
  },
  {
   "cell_type": "markdown",
   "id": "82c649b3",
   "metadata": {},
   "source": [
    "#### Целевая переменная\n",
    "Соотношение классов: клиенты допустившие дефолт - default = 1 и клиенты без дефолта - default = 0 , почти 1:7. Выборка плохо сбалансирована по классам."
   ]
  },
  {
   "cell_type": "code",
   "execution_count": 1181,
   "id": "d25fb62a",
   "metadata": {},
   "outputs": [
    {
     "data": {
      "text/plain": [
       "6.874413145539906"
      ]
     },
     "execution_count": 1181,
     "metadata": {},
     "output_type": "execute_result"
    }
   ],
   "source": [
    "train_data.default[train_data.default == 0].count() / train_data.default[train_data.default == 1].count()"
   ]
  },
  {
   "cell_type": "code",
   "execution_count": 1182,
   "id": "cc0c85e6",
   "metadata": {},
   "outputs": [
    {
     "data": {
      "text/plain": [
       "1     9372\n",
       "0    64427\n",
       "Name: default, dtype: int64"
      ]
     },
     "execution_count": 1182,
     "metadata": {},
     "output_type": "execute_result"
    },
    {
     "data": {
      "image/png": "[encoded data removed]",
      "text/plain": [
       "<Figure size 432x288 with 1 Axes>"
      ]
     },
     "metadata": {
      "needs_background": "light"
     },
     "output_type": "display_data"
    }
   ],
   "source": [
    "train_data['default'].value_counts(ascending=True).plot(kind='barh')\n",
    "train_data['default'].value_counts(ascending=True)"
   ]
  },
  {
   "cell_type": "markdown",
   "id": "c19e3e39",
   "metadata": {},
   "source": [
    "**Необходимо провести балансировку классов в тренировочных данных.**"
   ]
  },
  {
   "cell_type": "markdown",
   "id": "58ee7b3c",
   "metadata": {},
   "source": [
    "**Обучающую выборку разделяем на матрицу признаков и целевую переменную.**"
   ]
  },
  {
   "cell_type": "code",
   "execution_count": 1183,
   "id": "e5f7af98",
   "metadata": {},
   "outputs": [],
   "source": [
    "y = train_data['default'].values  # наш таргет\n",
    "X = train_data.drop(['default'], axis=1).values"
   ]
  },
  {
   "cell_type": "code",
   "execution_count": 1184,
   "id": "01cc4f4c",
   "metadata": {},
   "outputs": [
    {
     "data": {
      "text/plain": [
       "((73799, 13), (73799,))"
      ]
     },
     "execution_count": 1184,
     "metadata": {},
     "output_type": "execute_result"
    }
   ],
   "source": [
    "X.shape, y.shape"
   ]
  },
  {
   "cell_type": "markdown",
   "id": "41a986b8",
   "metadata": {},
   "source": [
    "#### Балансировка классов дефолтных и бездефолтных клиентов"
   ]
  },
  {
   "cell_type": "code",
   "execution_count": 1185,
   "id": "ff477c28",
   "metadata": {},
   "outputs": [],
   "source": [
    "import imblearn\n",
    "from imblearn.over_sampling import SMOTE\n",
    "# Импортируем нужную библиотеку."
   ]
  },
  {
   "cell_type": "code",
   "execution_count": 1186,
   "id": "6661f609",
   "metadata": {},
   "outputs": [],
   "source": [
    "oversample = SMOTE()\n",
    "# Создаем экземпляр класса.\n",
    "X, y = oversample.fit_resample(X, y)\n",
    "# Вызываем метод класса."
   ]
  },
  {
   "cell_type": "code",
   "execution_count": 1187,
   "id": "e7358c8f",
   "metadata": {},
   "outputs": [
    {
     "data": {
      "text/plain": [
       "((64427,), (64427,))"
      ]
     },
     "execution_count": 1187,
     "metadata": {},
     "output_type": "execute_result"
    }
   ],
   "source": [
    "y[y==1].shape, y[y==0].shape\n",
    "# Размеры классов 1 и 0 теперь одинаковы."
   ]
  },
  {
   "cell_type": "markdown",
   "id": "48996e42",
   "metadata": {},
   "source": [
    "### Обучающую выборку разбиваем на тренировочную и тестовую"
   ]
  },
  {
   "cell_type": "code",
   "execution_count": 1188,
   "id": "b04da9b3",
   "metadata": {},
   "outputs": [],
   "source": [
    "from sklearn.model_selection import train_test_split\n",
    "# Импортируем нужную функцию."
   ]
  },
  {
   "cell_type": "code",
   "execution_count": 1189,
   "id": "a1c794f9",
   "metadata": {},
   "outputs": [],
   "source": [
    "X_train, X_test, y_train, y_test = train_test_split(X, y, test_size = 0.2, random_state = 42)\n",
    "# Размер тестовой выборки 20%."
   ]
  },
  {
   "cell_type": "code",
   "execution_count": 1190,
   "id": "69ff50c9",
   "metadata": {},
   "outputs": [
    {
     "data": {
      "text/plain": [
       "((103083, 13), (25771, 13), (103083,), (25771,))"
      ]
     },
     "execution_count": 1190,
     "metadata": {},
     "output_type": "execute_result"
    }
   ],
   "source": [
    "X_train.shape, X_test.shape, y_train.shape, y_test.shape"
   ]
  },
  {
   "cell_type": "markdown",
   "id": "b45d013a",
   "metadata": {},
   "source": [
    "#### Нормализация числовых ризнаков в тренировочной матрице признаков"
   ]
  },
  {
   "cell_type": "code",
   "execution_count": 1192,
   "id": "994f996d",
   "metadata": {},
   "outputs": [],
   "source": [
    "from sklearn.preprocessing import StandardScaler\n",
    "# Загружаем нужную функцию из библиотеки\n",
    "\n",
    "scaler = StandardScaler()\n",
    "# Создаем объект scaler, который расчитает параметры нормализации для набора признаков X \n",
    "# и будет хранить параметры нормализации для последующих данных."
   ]
  },
  {
   "cell_type": "code",
   "execution_count": 1193,
   "id": "a44d8b60",
   "metadata": {},
   "outputs": [],
   "source": [
    "X_train[:, [1, 2, 3]] = scaler.fit_transform(X_train[:, [1, 2, 3]])"
   ]
  },
  {
   "cell_type": "markdown",
   "id": "4b85ba1e",
   "metadata": {},
   "source": [
    "### Обучение модели"
   ]
  },
  {
   "cell_type": "code",
   "execution_count": 1194,
   "id": "ea57febb",
   "metadata": {},
   "outputs": [],
   "source": [
    "from sklearn.linear_model import LogisticRegression\n",
    "# Импортируем инструмент для создания и обучения модели"
   ]
  },
  {
   "cell_type": "code",
   "execution_count": 1195,
   "id": "0cc767a6",
   "metadata": {},
   "outputs": [],
   "source": [
    "logreg = LogisticRegression(solver = 'liblinear', max_iter = 1000, class_weight='balanced')\n",
    "# Создаем модель. Количество итераций - 1000."
   ]
  },
  {
   "cell_type": "code",
   "execution_count": 1196,
   "id": "6cf84c6f",
   "metadata": {},
   "outputs": [
    {
     "data": {
      "text/plain": [
       "LogisticRegression(class_weight='balanced', max_iter=1000, solver='liblinear')"
      ]
     },
     "execution_count": 1196,
     "metadata": {},
     "output_type": "execute_result"
    }
   ],
   "source": [
    "logreg.fit(X_train, y_train)\n",
    "# Обучаем модель"
   ]
  },
  {
   "cell_type": "markdown",
   "id": "bb36c307",
   "metadata": {},
   "source": [
    "### Предсказываем значения целевой переменной при помощи обученной модели."
   ]
  },
  {
   "cell_type": "code",
   "execution_count": 1197,
   "id": "2e506be2",
   "metadata": {},
   "outputs": [],
   "source": [
    "y_pred = logreg.predict(X_test)"
   ]
  },
  {
   "cell_type": "markdown",
   "id": "dd81c1e7",
   "metadata": {},
   "source": [
    "### Оцениваем модель по метрикам"
   ]
  },
  {
   "cell_type": "code",
   "execution_count": 1198,
   "id": "f19d99e6",
   "metadata": {},
   "outputs": [
    {
     "name": "stdout",
     "output_type": "stream",
     "text": [
      "0.6641185829032633\n",
      "0.6821385593948771\n",
      "0.6154800682487979\n",
      "0.6470971950424006\n"
     ]
    }
   ],
   "source": [
    "from sklearn.metrics import accuracy_score, precision_score, recall_score, f1_score\n",
    "\n",
    "print(accuracy_score(y_test, y_pred))\n",
    "print(precision_score(y_test, y_pred))\n",
    "print(recall_score(y_test, y_pred))\n",
    "print(f1_score(y_test, y_pred))"
   ]
  },
  {
   "cell_type": "markdown",
   "id": "2eda7b36",
   "metadata": {},
   "source": [
    "### Обучение модели на всей обучающей выборке\n",
    "Если метрики качества модели на предыдущем этапе устраивают, то обучаем модель на всей обучающей выборке, то есть берем для обучения не только X_train и y_train, а целиком X и y."
   ]
  },
  {
   "cell_type": "code",
   "execution_count": 1200,
   "id": "d7afcf47",
   "metadata": {},
   "outputs": [],
   "source": [
    "# Проводим стандартизацию числовых признаков всей обучающей выборки.\n",
    "scaler = StandardScaler()\n",
    "X[:, [1, 2, 3]] = scaler.fit_transform(X[:, [1, 2, 3]])"
   ]
  },
  {
   "cell_type": "code",
   "execution_count": 1202,
   "id": "b59244ef",
   "metadata": {},
   "outputs": [],
   "source": [
    "logreg_final = LogisticRegression(solver='liblinear', max_iter=1000)\n",
    "# Создаем модель.\n",
    "logreg_final.fit(X, y)\n",
    "# Обучаем модель.\n",
    "predict_submission = logreg_final.predict(np.array(test_data))\n",
    "# Предсказываем целевую переменную."
   ]
  },
  {
   "cell_type": "code",
   "execution_count": 1204,
   "id": "3263fe04",
   "metadata": {},
   "outputs": [
    {
     "data": {
      "text/html": [
       "<div>\n",
       "<style scoped>\n",
       "    .dataframe tbody tr th:only-of-type {\n",
       "        vertical-align: middle;\n",
       "    }\n",
       "\n",
       "    .dataframe tbody tr th {\n",
       "        vertical-align: top;\n",
       "    }\n",
       "\n",
       "    .dataframe thead th {\n",
       "        text-align: right;\n",
       "    }\n",
       "</style>\n",
       "<table border=\"1\" class=\"dataframe\">\n",
       "  <thead>\n",
       "    <tr style=\"text-align: right;\">\n",
       "      <th></th>\n",
       "      <th>client_id</th>\n",
       "      <th>default</th>\n",
       "    </tr>\n",
       "  </thead>\n",
       "  <tbody>\n",
       "    <tr>\n",
       "      <th>0</th>\n",
       "      <td>74835</td>\n",
       "      <td>0</td>\n",
       "    </tr>\n",
       "    <tr>\n",
       "      <th>1</th>\n",
       "      <td>17527</td>\n",
       "      <td>1</td>\n",
       "    </tr>\n",
       "    <tr>\n",
       "      <th>2</th>\n",
       "      <td>75683</td>\n",
       "      <td>0</td>\n",
       "    </tr>\n",
       "    <tr>\n",
       "      <th>3</th>\n",
       "      <td>26883</td>\n",
       "      <td>0</td>\n",
       "    </tr>\n",
       "    <tr>\n",
       "      <th>4</th>\n",
       "      <td>28862</td>\n",
       "      <td>0</td>\n",
       "    </tr>\n",
       "    <tr>\n",
       "      <th>5</th>\n",
       "      <td>99881</td>\n",
       "      <td>1</td>\n",
       "    </tr>\n",
       "    <tr>\n",
       "      <th>6</th>\n",
       "      <td>26630</td>\n",
       "      <td>1</td>\n",
       "    </tr>\n",
       "    <tr>\n",
       "      <th>7</th>\n",
       "      <td>79934</td>\n",
       "      <td>0</td>\n",
       "    </tr>\n",
       "    <tr>\n",
       "      <th>8</th>\n",
       "      <td>16605</td>\n",
       "      <td>0</td>\n",
       "    </tr>\n",
       "    <tr>\n",
       "      <th>9</th>\n",
       "      <td>105449</td>\n",
       "      <td>0</td>\n",
       "    </tr>\n",
       "  </tbody>\n",
       "</table>\n",
       "</div>"
      ],
      "text/plain": [
       "   client_id  default\n",
       "0      74835        0\n",
       "1      17527        1\n",
       "2      75683        0\n",
       "3      26883        0\n",
       "4      28862        0\n",
       "5      99881        1\n",
       "6      26630        1\n",
       "7      79934        0\n",
       "8      16605        0\n",
       "9     105449        0"
      ]
     },
     "execution_count": 1204,
     "metadata": {},
     "output_type": "execute_result"
    }
   ],
   "source": [
    "sample_submission['default'] = predict_submission\n",
    "sample_submission.to_csv('submission.csv', index=False)\n",
    "sample_submission.head(10)"
   ]
  },
  {
   "cell_type": "code",
   "execution_count": 1205,
   "id": "c5139c55",
   "metadata": {},
   "outputs": [
    {
     "data": {
      "text/html": [
       "<div>\n",
       "<style scoped>\n",
       "    .dataframe tbody tr th:only-of-type {\n",
       "        vertical-align: middle;\n",
       "    }\n",
       "\n",
       "    .dataframe tbody tr th {\n",
       "        vertical-align: top;\n",
       "    }\n",
       "\n",
       "    .dataframe thead th {\n",
       "        text-align: right;\n",
       "    }\n",
       "</style>\n",
       "<table border=\"1\" class=\"dataframe\">\n",
       "  <thead>\n",
       "    <tr style=\"text-align: right;\">\n",
       "      <th></th>\n",
       "      <th>client_id</th>\n",
       "      <th>default</th>\n",
       "    </tr>\n",
       "  </thead>\n",
       "  <tbody>\n",
       "    <tr>\n",
       "      <th>count</th>\n",
       "      <td>36349.000000</td>\n",
       "      <td>36349.000000</td>\n",
       "    </tr>\n",
       "    <tr>\n",
       "      <th>mean</th>\n",
       "      <td>54945.647473</td>\n",
       "      <td>0.326611</td>\n",
       "    </tr>\n",
       "    <tr>\n",
       "      <th>std</th>\n",
       "      <td>31706.052195</td>\n",
       "      <td>0.468980</td>\n",
       "    </tr>\n",
       "    <tr>\n",
       "      <th>min</th>\n",
       "      <td>4.000000</td>\n",
       "      <td>0.000000</td>\n",
       "    </tr>\n",
       "    <tr>\n",
       "      <th>25%</th>\n",
       "      <td>27744.000000</td>\n",
       "      <td>0.000000</td>\n",
       "    </tr>\n",
       "    <tr>\n",
       "      <th>50%</th>\n",
       "      <td>54657.000000</td>\n",
       "      <td>0.000000</td>\n",
       "    </tr>\n",
       "    <tr>\n",
       "      <th>75%</th>\n",
       "      <td>82322.000000</td>\n",
       "      <td>1.000000</td>\n",
       "    </tr>\n",
       "    <tr>\n",
       "      <th>max</th>\n",
       "      <td>110148.000000</td>\n",
       "      <td>1.000000</td>\n",
       "    </tr>\n",
       "  </tbody>\n",
       "</table>\n",
       "</div>"
      ],
      "text/plain": [
       "           client_id       default\n",
       "count   36349.000000  36349.000000\n",
       "mean    54945.647473      0.326611\n",
       "std     31706.052195      0.468980\n",
       "min         4.000000      0.000000\n",
       "25%     27744.000000      0.000000\n",
       "50%     54657.000000      0.000000\n",
       "75%     82322.000000      1.000000\n",
       "max    110148.000000      1.000000"
      ]
     },
     "execution_count": 1205,
     "metadata": {},
     "output_type": "execute_result"
    }
   ],
   "source": [
    "sample_submission.describe()"
   ]
  },
  {
   "cell_type": "code",
   "execution_count": null,
   "id": "77650399",
   "metadata": {},
   "outputs": [],
   "source": []
  }
 ],
 "metadata": {
  "kernelspec": {
   "display_name": "Python 3",
   "language": "python",
   "name": "python3"
  },
  "language_info": {
   "codemirror_mode": {
    "name": "ipython",
    "version": 3
   },
   "file_extension": ".py",
   "mimetype": "text/x-python",
   "name": "python",
   "nbconvert_exporter": "python",
   "pygments_lexer": "ipython3",
   "version": "3.8.8"
  }
 },
 "nbformat": 4,
 "nbformat_minor": 5
}
