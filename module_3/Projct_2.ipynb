{
 "cells": [
  {
   "cell_type": "code",
   "execution_count": 783,
   "id": "d906fae0",
   "metadata": {},
   "outputs": [],
   "source": [
    "import pandas as pd\n",
    "import numpy as np\n",
    "import seaborn as sns\n",
    "\n",
    "pd.set_option('display.max_columns', None) # Настройка Pandas для отображения всех столбцов при выводе данных.\n",
    "\n",
    "data = pd.read_csv('main_task.csv')"
   ]
  },
  {
   "cell_type": "markdown",
   "id": "ef7cedba",
   "metadata": {},
   "source": [
    "1. **Restaurant_id** — идентификационный номер ресторана / сети ресторанов;\n",
    "2. **City** — город, в котором находится ресторан;\n",
    "3. **Cuisine Style** — кухня или кухни, к которым можно отнести блюда, предлагаемые в ресторане;\n",
    "4. **Ranking** — место, которое занимает данный ресторан среди всех ресторанов своего города;\n",
    "5. **Rating** — рейтинг ресторана по данным TripAdvisor (именно это значение должна будет предсказывать модель);\n",
    "6. **Price Range** — диапазон цен в ресторане;\n",
    "7. **Number of Reviews** — количество отзывов о ресторане;\n",
    "8. **Reviews** — данные о двух отзывах, которые отображаются на сайте ресторана;\n",
    "9. **URL_TA** — URL страницы ресторана на TripAdvisor;\n",
    "10. **ID_TA** — идентификатор ресторана в базе данных TripAdvisor."
   ]
  },
  {
   "cell_type": "code",
   "execution_count": 784,
   "id": "7f1c73d9",
   "metadata": {},
   "outputs": [],
   "source": [
    "data.rename(columns={'Restaurant_id': 'Restaurant_id',\n",
    "                    'City': 'city',\n",
    "                    'Cuisine Style': 'cuisine_style',\n",
    "                    'Ranking': 'ranking',\n",
    "                    'Rating': 'Rating',\n",
    "                    'Price Range':'price_range',\n",
    "                    'Number of Reviews':'number_of_reviews',\n",
    "                    'Reviews':'reviews',\n",
    "                    'URL_TA':'url_ta',\n",
    "                    'ID_TA':'id_ta'}, inplace=True)"
   ]
  },
  {
   "cell_type": "markdown",
   "id": "7bdeb0f7",
   "metadata": {},
   "source": [
    "### Столбец cuisine_style (кухня или кухни, к которым можно отнести блюда, предлагаемые в ресторане)\n",
    "Кухни предлагаемые в ресторане фактически составляют список, но в датасете он представлен как строка содержащая синтаксические элементы списка. Приведем значения в этом столбце к типу список."
   ]
  },
  {
   "cell_type": "code",
   "execution_count": 785,
   "id": "7adde91a",
   "metadata": {},
   "outputs": [],
   "source": [
    "def str_list(x):\n",
    "    \"\"\"Функция переводит строковое значение перечня кухонь\n",
    "    в список, в котором каждая кухня - отдельная строка.\n",
    "    Применяется к столбцу cuisine_style, принимает и обрабатывает \n",
    "    поочередно каждую запись в этом столбце\"\"\"\n",
    "    if pd.notnull(x):\n",
    "        x = x.lower()     # В нижний регистр для удобства дальнейшей обработки.\n",
    "        x = x[1:-1]       # Убираем символы кавычек в начале и конце строки.\n",
    "        x = x.split(', ') # Разделяем кухни на отдельные строки в списке.\n",
    "        for y in range(len(x)):    # Пробегая по списку, удаляем символы кавычек\n",
    "            x[y] = x[y].strip(\"'\") # из каждой кухни-строки.\n",
    "        return x        "
   ]
  },
  {
   "cell_type": "code",
   "execution_count": 786,
   "id": "422a12bd",
   "metadata": {},
   "outputs": [],
   "source": [
    "data['cuisine_style'] = data['cuisine_style'].apply(str_list)\n",
    "# Переводим строки в данном столбце в список кухонь."
   ]
  },
  {
   "cell_type": "markdown",
   "id": "6281d232",
   "metadata": {},
   "source": [
    "### Столбец price_range (диапазон цен в ресторане)\n",
    "Этот признак уровень цен в ресторане, и является категориальной парядковой переменной. В датасете этот признак принимает всего 3 значения.\n",
    "\n",
    "Избавимся от символьных значений и приведем числовые категории к числовому виду в соответствии со словарем."
   ]
  },
  {
   "cell_type": "code",
   "execution_count": 787,
   "id": "752484ff",
   "metadata": {},
   "outputs": [],
   "source": [
    "data = data.replace({'price_range':{'$':1, '$$ - $$$':2, '$$$$':3}})\n",
    "# Присваиваем диапазонам цен значения от 1 до 3."
   ]
  },
  {
   "cell_type": "markdown",
   "id": "d4f5f555",
   "metadata": {},
   "source": [
    "### Столбец reviews (отзывы на странице ресторана)\n",
    "Отзывы о ресторане фактически составляют список, но в датасете он представлен как строка содержащая синтаксические элементы списка. Приведем значения в этом столбце к типу список.\n",
    "\n",
    "В данном столбце так же содержатся даты отзывов, выделим их в отдельный столбец и приведем к типу DateTime."
   ]
  },
  {
   "cell_type": "code",
   "execution_count": 788,
   "id": "7b92dc0b",
   "metadata": {},
   "outputs": [
    {
     "data": {
      "text/plain": [
       "\"[['Good food at your doorstep', 'A good hotel restaurant'], ['12/31/2017', '11/20/2017']]\""
      ]
     },
     "execution_count": 788,
     "metadata": {},
     "output_type": "execute_result"
    }
   ],
   "source": [
    "data.reviews[0]"
   ]
  },
  {
   "cell_type": "code",
   "execution_count": 789,
   "id": "41d2d8db",
   "metadata": {},
   "outputs": [],
   "source": [
    "def reviews_list(x):\n",
    "    '''Функция для обработки столбца reviews. Принимает и обрабатывает каждую\n",
    "        запись в столбце. Переводит единую строку с отзывами и датами в список\n",
    "        отзывов и список дат.'''\n",
    "    if pd.notnull(x): # В столбце имеются пропуски, которые не обработать функцией.\n",
    "            x = x.lower() # К нижнему регистру для удобства дальнейшей обработки.\n",
    "            x = x[2:-2]   # Удаляем двойные квадратные скобки вначале и вконце строки.\n",
    "            x = x.split('], [') # Разделяем строку и переводим в список: отзывы, даты.\n",
    "            for y in range(len(x)):       # В каждой строке из полученного списка:\n",
    "                x[y] = x[y].strip(\"'\")    # 1. убираем символы ковычек в начале и конце\n",
    "                x[y] = x[y].split(\"', '\") # 2. разделяем строки отзывов и дат на список отзывов и дат.\n",
    "            if len(x[0]) == 1:     # Некоторые списки отзывов и дат содержат один элемент.\n",
    "                x[0].insert(1, '') # Добавляем второй элемент для одинакового формата всех записей.\n",
    "            if len(x[1]) == 1:\n",
    "                x[1].insert(1, '')\n",
    "            return x\n",
    "    else:\n",
    "        return [['', ''], ['', '']] # Вместо пропусков вставляем списки пустых строк.   "
   ]
  },
  {
   "cell_type": "code",
   "execution_count": 790,
   "id": "0bc89f52",
   "metadata": {},
   "outputs": [],
   "source": [
    "data['reviews_list'] = data['reviews'].apply(reviews_list)"
   ]
  },
  {
   "cell_type": "markdown",
   "id": "57d01faa",
   "metadata": {},
   "source": [
    "Распределим отзывы и даты каждый в свой столбец. По содержанию столбца отзывов видно, что более поздняя дата стоит впереди, видимо и более поздний отзыв стоит впереди. Исходя из этого соображения распределим значения."
   ]
  },
  {
   "cell_type": "code",
   "execution_count": 791,
   "id": "98fde610",
   "metadata": {},
   "outputs": [],
   "source": [
    "data['review_2'] = data['reviews_list'].apply(lambda x: x[0][0])\n",
    "data['date_2'] = data['reviews_list'].apply(lambda x: x[1][0])\n",
    "data['review_1'] = data['reviews_list'].apply(lambda x: x[0][1])\n",
    "data['date_1'] = data['reviews_list'].apply(lambda x: x[1][1])"
   ]
  },
  {
   "cell_type": "code",
   "execution_count": 792,
   "id": "31cfd061",
   "metadata": {},
   "outputs": [
    {
     "data": {
      "text/plain": [
       "0"
      ]
     },
     "metadata": {},
     "output_type": "display_data"
    },
    {
     "data": {
      "text/plain": [
       "0"
      ]
     },
     "metadata": {},
     "output_type": "display_data"
    },
    {
     "data": {
      "text/plain": [
       "0"
      ]
     },
     "metadata": {},
     "output_type": "display_data"
    },
    {
     "data": {
      "text/plain": [
       "0"
      ]
     },
     "metadata": {},
     "output_type": "display_data"
    }
   ],
   "source": [
    "display(data.review_2.isnull().sum(),\n",
    "       data.date_2.isnull().sum(),\n",
    "       data.review_1.isnull().sum(),\n",
    "       data.date_1.isnull().sum())"
   ]
  },
  {
   "cell_type": "markdown",
   "id": "95a1cdf6",
   "metadata": {},
   "source": [
    "Столбец отзывов со списком удаляем, он больше не понадобится."
   ]
  },
  {
   "cell_type": "code",
   "execution_count": 793,
   "id": "74754542",
   "metadata": {},
   "outputs": [],
   "source": [
    "data.drop(columns = 'reviews_list', inplace = True)"
   ]
  },
  {
   "cell_type": "markdown",
   "id": "058c891b",
   "metadata": {},
   "source": [
    "### Работа со столбцами date_1 и date_2\n",
    "После выделения этих столбцов из отзывов они имеют строковый тип. Для того, чтобы из них можно было получить полезную информацию, приведем их к типу datetime."
   ]
  },
  {
   "cell_type": "code",
   "execution_count": 794,
   "id": "62f6b91e",
   "metadata": {},
   "outputs": [],
   "source": [
    "data['date_1']= pd.to_datetime(data['date_1'])\n",
    "data['date_2']= pd.to_datetime(data['date_2'])"
   ]
  },
  {
   "cell_type": "markdown",
   "id": "b281c5bb",
   "metadata": {},
   "source": [
    "### Обработка столбца id_ta\n",
    "Это уникальный номер ресторана на сайте ТА. В датасете он имеет строковый тип так как впереди стоит буква d. Удалим эту букву и приведем id к числовому типу."
   ]
  },
  {
   "cell_type": "code",
   "execution_count": 795,
   "id": "d12587da",
   "metadata": {},
   "outputs": [],
   "source": [
    "data['id_ta'] = data['id_ta'].apply(lambda x: str(x)[1:])\n",
    "# Берем срез для исключения букв.\n",
    "\n",
    "data['id_ta'] = pd.to_numeric(data['id_ta'])\n",
    "# Переводим строковое значение в числовое, получаем int64."
   ]
  },
  {
   "cell_type": "markdown",
   "id": "94a60a58",
   "metadata": {},
   "source": [
    "### Извлечение названия ресторана из адреса страницы ресторана на сайте ТА. (url_ta)\n",
    "Можно выделить название ресторана для для определения сети ресторанов. URL каждого ресторана имеет четкую одинаковую для всех структуру. Используя это выделяем название ресторана. Приведем все названия к нижнему регистру для исключения различий ресторанов из-за разного написания.    "
   ]
  },
  {
   "cell_type": "code",
   "execution_count": 796,
   "id": "90ddd29d",
   "metadata": {},
   "outputs": [
    {
     "data": {
      "text/plain": [
       "'/Restaurant_Review-g187147-d1912643-Reviews-R_Yves-Paris_Ile_de_France.html'"
      ]
     },
     "execution_count": 796,
     "metadata": {},
     "output_type": "execute_result"
    }
   ],
   "source": [
    "data.url_ta[0]"
   ]
  },
  {
   "cell_type": "code",
   "execution_count": 797,
   "id": "82b8fc06",
   "metadata": {},
   "outputs": [],
   "source": [
    "def name_rest(row):\n",
    "        '''Функция принимает строку датасета. Используя имя города\n",
    "        из data['city'] разделяет строку url и выбирает часть \n",
    "        содержащую название ресторана. Возвращает название рестрана.'''\n",
    "        name = row['url_ta'].partition( 'Reviews-')[2]\n",
    "        # Разделяем строку адреса по разделителю 'Reviews-'.\n",
    "        # берем третью часть содержащую название ресторана.\n",
    "        name = name.partition('-' + row['city'])[0]\n",
    "        # Строку с названием разделяем по '_город',\n",
    "        # берем первую часть - собственно название ресторана.\n",
    "        name = name.lower() \n",
    "        # Для исключения несовпадений из-за разного написания названия.\n",
    "        return name"
   ]
  },
  {
   "cell_type": "code",
   "execution_count": 798,
   "id": "9c0ed9e0",
   "metadata": {},
   "outputs": [],
   "source": [
    "data['name_rest'] = data.apply(name_rest, axis = 1)\n",
    "# Создаем новый столбец при помощи ранее написанную функцию."
   ]
  },
  {
   "cell_type": "markdown",
   "id": "cdd87b9f",
   "metadata": {},
   "source": [
    "Часто к названию ресторанов принадлежащих крупным сетям добавляют название города или МЕГА и тому подобное. Чтобы эти сетевые рестораны не значились как самостоятельные приведем их название к общему сетевому для таких сетей как:\n",
    "1. mcdonald_s\n",
    "2. burger_king\n",
    "3. subway\n",
    "4. pret_a_manger\n",
    "5. kfc\n",
    "\n",
    "Вручную составим список."
   ]
  },
  {
   "cell_type": "code",
   "execution_count": 799,
   "id": "0c0b1ad0",
   "metadata": {},
   "outputs": [],
   "source": [
    "name_rest_list = ['mcdonald_s','burger_king','subway','pret_a_manger','kfc']"
   ]
  },
  {
   "cell_type": "code",
   "execution_count": 800,
   "id": "5cd957d3",
   "metadata": {},
   "outputs": [],
   "source": [
    "def name_correct(x):\n",
    "        '''Функция проверяет, содержится ли в длинном\n",
    "        названии рестрана стандартное название сетевого \n",
    "        рестрана, и если содержится, то сокращает его \n",
    "        до стандартного.'''\n",
    "        for name in name_rest_list:\n",
    "            if name in x:\n",
    "                x = name\n",
    "        return x"
   ]
  },
  {
   "cell_type": "code",
   "execution_count": 801,
   "id": "0f9cf05b",
   "metadata": {},
   "outputs": [],
   "source": [
    "data['name_rest'] = data['name_rest'].apply(name_correct)"
   ]
  },
  {
   "cell_type": "markdown",
   "id": "3ebbe72f",
   "metadata": {},
   "source": [
    "## Заполнение пропусков"
   ]
  },
  {
   "cell_type": "markdown",
   "id": "6363aa32",
   "metadata": {},
   "source": [
    "### Столбец Cuisine Style"
   ]
  },
  {
   "cell_type": "code",
   "execution_count": 802,
   "id": "684e0d68",
   "metadata": {},
   "outputs": [
    {
     "data": {
      "text/plain": [
       "9283"
      ]
     },
     "execution_count": 802,
     "metadata": {},
     "output_type": "execute_result"
    }
   ],
   "source": [
    "data.cuisine_style.isnull().sum()"
   ]
  },
  {
   "cell_type": "markdown",
   "id": "17e426d3",
   "metadata": {},
   "source": [
    "Предварительно создаем столбец содержащий информацию о том, где были пропуски до заполнения."
   ]
  },
  {
   "cell_type": "code",
   "execution_count": 803,
   "id": "1e248de7",
   "metadata": {},
   "outputs": [],
   "source": [
    "data['cuisine_style_isnan'] = pd.isna(data['cuisine_style']).astype('uint8')"
   ]
  },
  {
   "cell_type": "markdown",
   "id": "13d90614",
   "metadata": {},
   "source": [
    "#### Создание списка кухонь, которые встречаются во всех ресторанах - cuisin_list."
   ]
  },
  {
   "cell_type": "code",
   "execution_count": 804,
   "id": "a91c939d",
   "metadata": {},
   "outputs": [],
   "source": [
    "cuisin_list = list(data[pd.notnull(data.cuisine_style)]\n",
    "                   .explode('cuisine_style').cuisine_style.unique())"
   ]
  },
  {
   "cell_type": "markdown",
   "id": "d6c2db84",
   "metadata": {},
   "source": [
    "В списке кухонь все кухни со строчной буквы, а в отзывах названия кухонь могут начинаться с заглавной. Значения в столбце reviews приведем к нижнему регистру для исключения несовпадений при поиске кухни в отзыве из-за разных регистров букв."
   ]
  },
  {
   "cell_type": "code",
   "execution_count": 805,
   "id": "e6658c15",
   "metadata": {},
   "outputs": [],
   "source": [
    "data['reviews'] = data['reviews'].apply(lambda x: x.lower() if pd.notnull(x) else x)"
   ]
  },
  {
   "cell_type": "code",
   "execution_count": 806,
   "id": "0285d83f",
   "metadata": {},
   "outputs": [],
   "source": [
    "data.reviews.fillna('', inplace = True) \n",
    "# Чтобы не мешали итерации по строкам NaN заменим пустой строкой"
   ]
  },
  {
   "cell_type": "markdown",
   "id": "098a1dfa",
   "metadata": {},
   "source": [
    "#### Создание списока всех слов встречающихся в отзывах - word_list"
   ]
  },
  {
   "cell_type": "code",
   "execution_count": 807,
   "id": "d216653a",
   "metadata": {},
   "outputs": [],
   "source": [
    "reviews_list = list(data['review_1']) + list(data['review_2'])\n",
    "# Сначала составим список всех отзывов из двух столбцов.\n",
    "\n",
    "\n",
    "word_set = set() # Пустое множество для отбора уникальных слов.\n",
    "for review in reviews_list:\n",
    "    for word in review.split(' '): # Разделяем строки на слова.\n",
    "        word_set.add(word) # Добавляем слова в множество.        \n",
    "        \n",
    "        \n",
    "word_list = list(sorted(word_set))\n",
    "# Сортируем и переводим в список для удобства использования."
   ]
  },
  {
   "cell_type": "markdown",
   "id": "a2e96557",
   "metadata": {},
   "source": [
    "Если бегло просмотреть получившийся список слов, то часто можно увидеть названия кухонь."
   ]
  },
  {
   "cell_type": "code",
   "execution_count": 808,
   "id": "ca453fdb",
   "metadata": {},
   "outputs": [],
   "source": [
    "def name_rest_cuisine(row):\n",
    "        '''Функция пробегает по списку кухонь проверяет, есть ли \n",
    "        упоминание кухни в отзыве о ресторане. Если встречается \n",
    "        упоминание кухни, то ее название добавляется в список \n",
    "        кухонь ресторана.'''\n",
    "        if row['cuisine_style'] is None:\n",
    "            cuisine_rest = []\n",
    "            for cuisine in cuisin_list:\n",
    "                if cuisine in row['name_rest']:\n",
    "                    cuisine_rest.append(cuisine)\n",
    "                if cuisine in row['reviews']:\n",
    "                    cuisine_rest.append(cuisine)\n",
    "            if len(cuisine_rest) > 0:\n",
    "                return  list(set(cuisine_rest))\n",
    "            else:\n",
    "                return row['cuisine_style']\n",
    "        else:\n",
    "            return row['cuisine_style']    "
   ]
  },
  {
   "cell_type": "code",
   "execution_count": 809,
   "id": "5c9bc596",
   "metadata": {},
   "outputs": [],
   "source": [
    "data['cuisine_style'] = data.apply(name_rest_cuisine, axis = 1)"
   ]
  },
  {
   "cell_type": "code",
   "execution_count": 810,
   "id": "24cf7f0e",
   "metadata": {},
   "outputs": [
    {
     "data": {
      "text/plain": [
       "6383"
      ]
     },
     "execution_count": 810,
     "metadata": {},
     "output_type": "execute_result"
    }
   ],
   "source": [
    "data.cuisine_style.isnull().sum()"
   ]
  },
  {
   "cell_type": "markdown",
   "id": "9b840aa6",
   "metadata": {},
   "source": [
    "Количество пропусков уменшилось почти на 3 тысячи."
   ]
  },
  {
   "cell_type": "code",
   "execution_count": 811,
   "id": "ed82988b",
   "metadata": {},
   "outputs": [
    {
     "data": {
      "text/plain": [
       "37359"
      ]
     },
     "execution_count": 811,
     "metadata": {},
     "output_type": "execute_result"
    }
   ],
   "source": [
    "rest_list = list(set(data.name_rest))\n",
    "# Создаем список ресторанов для далнейших итераций по нему\n",
    "len(rest_list)"
   ]
  },
  {
   "cell_type": "markdown",
   "id": "0ee65b6c",
   "metadata": {},
   "source": [
    "Количество названий ресторанов гораздо меньше, чем записей в датасете, так как многие рестораны сетевые и имеют несколько точек под одним брендом. Такие бренды имеют одинаковую кухню, и иногда добавляют кухню страны, в которой находится. Это можно использовать для заполнения пропусков  в столбце cuisine_style.\n",
    "\n"
   ]
  },
  {
   "cell_type": "markdown",
   "id": "20ecb4e1",
   "metadata": {},
   "source": [
    "Сначала составим список сетевых ресторанов, внесем в него те рестораны, которые имеют не меньше 3 локаций с одним незванием. Такое количество исключит случайное совпадение названий с большой вероятностью."
   ]
  },
  {
   "cell_type": "code",
   "execution_count": 812,
   "id": "06b8107d",
   "metadata": {},
   "outputs": [],
   "source": [
    "rest = data.name_rest.value_counts() # Создаем серию: ресторан - количество.\n",
    "rest_list_modif = list(set(rest[rest >= 3].index))\n",
    "# Фильтруем серию по количеству и переводим в список."
   ]
  },
  {
   "cell_type": "markdown",
   "id": "9df34c16",
   "metadata": {},
   "source": [
    "На основе списка ресторанов собираем словарь, который будет содержать в качестве ключа название ресторана, а значение - две наиболее часто встречающиеся в этой сети ресторанов кухни."
   ]
  },
  {
   "cell_type": "code",
   "execution_count": 813,
   "id": "39bdad53",
   "metadata": {},
   "outputs": [],
   "source": [
    "rest_cuisine_dict = {}\n",
    "for rest in rest_list_modif:\n",
    "    rest_cuisine_dict[rest] = list(data[data.name_rest == rest]. #Фильтруем по городу\n",
    "                               explode('cuisine_style'). #Разбиваем списки на кухни \n",
    "                               cuisine_style.value_counts(). #Группируем и считаем кухни\n",
    "                               index)[:2] #Берем три самые частые кухни"
   ]
  },
  {
   "cell_type": "code",
   "execution_count": 814,
   "id": "e9783e10",
   "metadata": {},
   "outputs": [],
   "source": [
    "def rest_cuisine(row):\n",
    "    \"\"\"Функция заполняет пропуски кухонь наиболее типичными \n",
    "    кухнями для сетевых ресторанов, если пропуск кухни встречается\n",
    "    у сетевого ресторана.\"\"\"\n",
    "    if row['cuisine_style'] is None:\n",
    "        if row['name_rest'] in rest_list_modif:\n",
    "            return rest_cuisine_dict[row['name_rest']]\n",
    "        else:\n",
    "            return row['cuisine_style']\n",
    "    else:\n",
    "        return row['cuisine_style']  "
   ]
  },
  {
   "cell_type": "code",
   "execution_count": 815,
   "id": "fb9a3224",
   "metadata": {},
   "outputs": [],
   "source": [
    "data['cuisine_style'] = data.apply(rest_cuisine, axis = 1)"
   ]
  },
  {
   "cell_type": "code",
   "execution_count": 816,
   "id": "ec00139b",
   "metadata": {},
   "outputs": [
    {
     "data": {
      "text/plain": [
       "5953"
      ]
     },
     "execution_count": 816,
     "metadata": {},
     "output_type": "execute_result"
    }
   ],
   "source": [
    "data.cuisine_style.isnull().sum()"
   ]
  },
  {
   "cell_type": "markdown",
   "id": "b058f0ab",
   "metadata": {},
   "source": [
    "Оставшиеся пропуски заполним в разрезе города, в котором находится ресторан. Заполнять пропуски будем списками из трех самых часто встречающихся в городе кухонь.\n",
    "\n",
    "Сначала соберем **словарь содержащий самые частые кухни для каждого города. Для словаря список городов**."
   ]
  },
  {
   "cell_type": "code",
   "execution_count": 817,
   "id": "c5320643",
   "metadata": {},
   "outputs": [],
   "source": [
    "city_list = list(set(data.city))"
   ]
  },
  {
   "cell_type": "code",
   "execution_count": 818,
   "id": "80bd9bbb",
   "metadata": {},
   "outputs": [],
   "source": [
    "city_cuisine_count = {}\n",
    "for city in city_list:\n",
    "    city_cuisine_count[city] = list(data[data.city == city]. #Фильтруем по городу\n",
    "                               explode('cuisine_style'). #Разбиваем списки на кухни \n",
    "                               cuisine_style.value_counts(). #Группируем и считаем кухни\n",
    "                               index)[:3] #Берем три самые частые кухни"
   ]
  },
  {
   "cell_type": "markdown",
   "id": "5b9dfe2d",
   "metadata": {},
   "source": [
    "Функция вместо пропуска ставит список кухонь из словаря."
   ]
  },
  {
   "cell_type": "code",
   "execution_count": 819,
   "id": "0ea5f7c5",
   "metadata": {},
   "outputs": [],
   "source": [
    "def sity_cuisine(row):\n",
    "    if row['cuisine_style'] is None:\n",
    "        return city_cuisine_count[row['city']]\n",
    "    else:\n",
    "        return row['cuisine_style']        "
   ]
  },
  {
   "cell_type": "code",
   "execution_count": 820,
   "id": "4e29a338",
   "metadata": {},
   "outputs": [],
   "source": [
    "data['cuisine_style'] = data.apply(sity_cuisine, axis = 1)"
   ]
  },
  {
   "cell_type": "code",
   "execution_count": 821,
   "id": "52200337",
   "metadata": {},
   "outputs": [
    {
     "data": {
      "text/plain": [
       "0"
      ]
     },
     "execution_count": 821,
     "metadata": {},
     "output_type": "execute_result"
    }
   ],
   "source": [
    "data.cuisine_style.isnull().sum()"
   ]
  },
  {
   "cell_type": "markdown",
   "id": "88688d2f",
   "metadata": {},
   "source": [
    "### Замена редких кухонь в толбце cuisine_style\n",
    "Создаем словарь содержащий частоту встречаемости каждой кухни в датасете."
   ]
  },
  {
   "cell_type": "code",
   "execution_count": 822,
   "id": "411bc405",
   "metadata": {},
   "outputs": [
    {
     "data": {
      "text/plain": [
       "{'vegetarian friendly': 16606,\n",
       " 'european': 13800,\n",
       " 'mediterranean': 8354,\n",
       " 'italian': 7272,\n",
       " 'gluten free options': 4672,\n",
       " 'vegan options': 4496,\n",
       " 'french': 4273,\n",
       " 'bar': 4161,\n",
       " 'spanish': 3961,\n",
       " 'cafe': 3276,\n",
       " 'pizza': 3162,\n",
       " 'asian': 3040,\n",
       " 'pub': 2620,\n",
       " 'british': 2111,\n",
       " 'fast food': 1966,\n",
       " 'central european': 1659,\n",
       " 'international': 1593,\n",
       " 'seafood': 1522,\n",
       " 'american': 1511,\n",
       " 'japanese': 1503,\n",
       " 'portuguese': 1434,\n",
       " 'sushi': 1271,\n",
       " 'chinese': 1208,\n",
       " 'indian': 1100,\n",
       " 'german': 944,\n",
       " 'thai': 790,\n",
       " 'middle eastern': 788,\n",
       " 'czech': 780,\n",
       " 'wine bar': 711,\n",
       " 'greek': 710,\n",
       " 'healthy': 658,\n",
       " 'halal': 608,\n",
       " 'grill': 596,\n",
       " 'austrian': 591,\n",
       " 'fusion': 591,\n",
       " 'steakhouse': 579,\n",
       " 'barbecue': 560,\n",
       " 'polish': 550,\n",
       " 'vietnamese': 529,\n",
       " 'contemporary': 525,\n",
       " 'soups': 500,\n",
       " 'eastern european': 496,\n",
       " 'turkish': 478,\n",
       " 'gastropub': 471,\n",
       " 'belgian': 467,\n",
       " 'mexican': 463,\n",
       " 'hungarian': 452,\n",
       " 'delicatessen': 401,\n",
       " 'dutch': 399,\n",
       " 'scandinavian': 390,\n",
       " 'south american': 375,\n",
       " 'irish': 356,\n",
       " 'lebanese': 344,\n",
       " 'swedish': 322,\n",
       " 'latin': 320,\n",
       " 'diner': 315,\n",
       " 'street food': 274,\n",
       " 'danish': 269,\n",
       " 'swiss': 268,\n",
       " 'brew pub': 225,\n",
       " 'korean': 178,\n",
       " 'argentinean': 170,\n",
       " 'scottish': 167,\n",
       " 'african': 162,\n",
       " 'moroccan': 148,\n",
       " 'central american': 137,\n",
       " 'brazilian': 128,\n",
       " 'pakistani': 124,\n",
       " 'caribbean': 96,\n",
       " 'peruvian': 95,\n",
       " 'slovenian': 91,\n",
       " 'balti': 85,\n",
       " 'nepali': 83,\n",
       " 'bangladeshi': 78,\n",
       " 'norwegian': 75,\n",
       " 'israeli': 74,\n",
       " 'russian': 61,\n",
       " 'persian': 60,\n",
       " 'indonesian': 60,\n",
       " 'arabic': 54,\n",
       " 'kosher': 51,\n",
       " 'ethiopian': 47,\n",
       " 'venezuelan': 43,\n",
       " 'malaysian': 31,\n",
       " 'croatian': 28,\n",
       " 'sri lankan': 27,\n",
       " 'jamaican': 26,\n",
       " 'cuban': 25,\n",
       " 'australian': 24,\n",
       " 'tibetan': 24,\n",
       " 'taiwanese': 23,\n",
       " 'afghani': 22,\n",
       " 'colombian': 22,\n",
       " 'hawaiian': 21,\n",
       " 'tunisian': 21,\n",
       " 'cajun & creole': 20,\n",
       " 'egyptian': 20,\n",
       " 'cambodian': 20,\n",
       " 'singaporean': 19,\n",
       " 'ukrainian': 18,\n",
       " 'georgian': 18,\n",
       " 'southwestern': 18,\n",
       " 'armenian': 14,\n",
       " 'filipino': 14,\n",
       " 'mongolian': 14,\n",
       " 'central asian': 12,\n",
       " 'minority chinese': 11,\n",
       " 'romanian': 10,\n",
       " 'albanian': 8,\n",
       " 'chilean': 8,\n",
       " 'new zealand': 6,\n",
       " 'canadian': 5,\n",
       " 'uzbek': 5,\n",
       " 'caucasian': 4,\n",
       " 'ecuadorean': 4,\n",
       " 'native american': 4,\n",
       " 'welsh': 2,\n",
       " 'fujian': 2,\n",
       " 'polynesian': 2,\n",
       " 'azerbaijani': 2,\n",
       " 'burmese': 1,\n",
       " 'yunnan': 1,\n",
       " 'latvian': 1,\n",
       " 'salvadoran': 1,\n",
       " 'xinjiang': 1}"
      ]
     },
     "execution_count": 822,
     "metadata": {},
     "output_type": "execute_result"
    }
   ],
   "source": [
    "cuisine_dict = dict(data.cuisine_style.explode('cuisine_style').value_counts())\n",
    "cuisine_dict"
   ]
  },
  {
   "cell_type": "markdown",
   "id": "b57b7331",
   "metadata": {},
   "source": [
    "Некоторые кухни встречаютс очень редко, заменим слишком узкие кухни на кухни более крупного региона, в котором они находятся. Для установления соответствия вручную составим словарь."
   ]
  },
  {
   "cell_type": "code",
   "execution_count": 823,
   "id": "8ad0259b",
   "metadata": {},
   "outputs": [],
   "source": [
    "change_cuisine_dict = {'burmese':'southeast asian',\n",
    "                        'yunnan': 'chinese',\n",
    "                        'salvadoran': 'latin',\n",
    "                        'latvian': 'eastern european',\n",
    "                        'xinjiang': 'chinese',\n",
    "                        'azerbaijani':'middle eastern', \n",
    "                        'welsh': 'british',\n",
    "                        'fujian': 'chinese',\n",
    "                        'polynesian': 'southeast asian',\n",
    "                        'ecuadorean': 'latin',\n",
    "                        'caucasian': 'middle eastern', \n",
    "                        'native american': 'american',\n",
    "                        'uzbek': 'asian',\n",
    "                        'canadian': 'american',\n",
    "                        'new zealand': 'international',\n",
    "                        'albanian': 'mediterranean',\n",
    "                        'chilean': 'latin',\n",
    "                        'romanian': 'eastern european',\n",
    "                        'minority chinese': 'chinese',\n",
    "                        'filipino': 'southeast asian',\n",
    "                        'armenian':'middle eastern',\n",
    "                        'mongolian': 'asian',\n",
    "                        'southwestern': 'american',\n",
    "                        'georgian': 'middle eastern',\n",
    "                        'ukrainian': 'eastern european',\n",
    "                        'singaporean': 'southeast asian',\n",
    "                        'cajun & creole': 'american',\n",
    "                        'egyptian': 'arabic',\n",
    "                        'colombian': 'latin',\n",
    "                        'cambodian':'southeast asian',\n",
    "                        'tunisian': 'arabic',\n",
    "                        'hawaiian': 'american',\n",
    "                        'taiwanese': 'chinese',\n",
    "                        'afghani': 'asian',\n",
    "                        'cuban': 'caribbean',\n",
    "                        'tibetan': 'chinese',\n",
    "                        'australian': 'international',\n",
    "                        'sri lankan': 'south asian',\n",
    "                        'jamaican': 'caribbean',\n",
    "                        'croatian': 'mediterranean',\n",
    "                        'malaysian': 'southeast asian',\n",
    "                        'venezuelan': 'latin',\n",
    "                        'ethiopian': 'african',\n",
    "                        'kosher': 'israeli',\n",
    "                        'persian': 'arabic',\n",
    "                        'russian': 'eastern european',\n",
    "                        'indonesian': 'southeast asian',\n",
    "                        'slovenian': 'eastern european',\n",
    "                        'bangladeshi': 'south asian',\n",
    "                        'nepali': 'african',\n",
    "                        'balti': 'eastern european',\n",
    "                        'peruvian': 'latin',\n",
    "                        'pakistani': 'south asian',\n",
    "                        'brazilian': 'latin',\n",
    "                        'moroccan': 'african',\n",
    "                        'central american': 'central american',\n",
    "                        'caribbean': 'caribbean',\n",
    "                        'israeli': 'israeli',\n",
    "                        'arabic': 'arabic',\n",
    "                        'norwegian': 'scandinavian',\n",
    "                        'central asian': 'asian',\n",
    "                        'caffe': 'cafe'}"
   ]
  },
  {
   "cell_type": "markdown",
   "id": "31f97b8f",
   "metadata": {},
   "source": [
    "Сначала на основе словаря cuisine_dict составим список кухонь, которые встречаются чаще 150 раз."
   ]
  },
  {
   "cell_type": "code",
   "execution_count": 824,
   "id": "ec73256d",
   "metadata": {},
   "outputs": [],
   "source": [
    "cuisine_list_improv = []\n",
    "for key in cuisine_dict:\n",
    "    if cuisine_dict[key] > 150:\n",
    "        cuisine_list_improv.append(key) "
   ]
  },
  {
   "cell_type": "code",
   "execution_count": 825,
   "id": "b3239fae",
   "metadata": {},
   "outputs": [],
   "source": [
    "def cuisine_improv(x):\n",
    "    \"\"\"функцию, которая будет проверять список кухонь \n",
    "    в каждом ресторане и заменять редкие кухни на кухни\n",
    "    из словаря соответствия кухонь change_cuisine_dict.\"\"\"\n",
    "    y = []\n",
    "    for cuisine in x:\n",
    "        if cuisine in cuisine_list_improv:\n",
    "            y.append(cuisine)\n",
    "        else:\n",
    "            y.append(change_cuisine_dict[cuisine])\n",
    "    return y"
   ]
  },
  {
   "cell_type": "code",
   "execution_count": 826,
   "id": "9f314c28",
   "metadata": {},
   "outputs": [],
   "source": [
    "data['cuisine_style'] = data['cuisine_style'].apply(cuisine_improv)"
   ]
  },
  {
   "cell_type": "markdown",
   "id": "9ea69348",
   "metadata": {},
   "source": [
    "### Столбец price_range"
   ]
  },
  {
   "cell_type": "markdown",
   "id": "ec736b2b",
   "metadata": {},
   "source": [
    "Создадим столбец содержащий информацию о том, где были пропуски в исходном столбце."
   ]
  },
  {
   "cell_type": "code",
   "execution_count": 827,
   "id": "58833466",
   "metadata": {},
   "outputs": [],
   "source": [
    "data['price_range_isnan'] = pd.isna(data['price_range']).astype('uint8')"
   ]
  },
  {
   "cell_type": "markdown",
   "id": "0cbeee22",
   "metadata": {},
   "source": [
    "Многие рестораны в датасете сетевые, они придерживаются одинаковой ценовой политики. Составим словарь с медианным прайсом для каждого ресторана. В случае отсутствия для данного ресторана значения цены в соответствующем столбце, заполним пропуск из словаря значением для этой сети ресторанов."
   ]
  },
  {
   "cell_type": "code",
   "execution_count": 828,
   "id": "c0f1bf81",
   "metadata": {},
   "outputs": [
    {
     "data": {
      "text/plain": [
       "13886"
      ]
     },
     "execution_count": 828,
     "metadata": {},
     "output_type": "execute_result"
    }
   ],
   "source": [
    "data.price_range.isnull().sum()"
   ]
  },
  {
   "cell_type": "code",
   "execution_count": 829,
   "id": "85014c51",
   "metadata": {},
   "outputs": [],
   "source": [
    "rest_price_dict = dict(data.groupby('name_rest')\n",
    "                       .price_range.median().sort_values())\n",
    "# Словарь с медианным прайсом для каждого ресторана."
   ]
  },
  {
   "cell_type": "code",
   "execution_count": 830,
   "id": "020eb263",
   "metadata": {},
   "outputs": [],
   "source": [
    "def rest_price(row):\n",
    "    \"\"\"Функция в случае отсутствия значения в столбце \n",
    "    price_range заменяет его средним значением для \n",
    "    сети ресторанов.\"\"\"\n",
    "    if pd.isnull(row['price_range']):\n",
    "        return round(rest_price_dict[row['name_rest']],0)\n",
    "    else:\n",
    "        return row['price_range']"
   ]
  },
  {
   "cell_type": "code",
   "execution_count": 831,
   "id": "1c44a8a7",
   "metadata": {},
   "outputs": [],
   "source": [
    "data['price_range'] = data.apply(rest_price, axis = 1)"
   ]
  },
  {
   "cell_type": "code",
   "execution_count": 832,
   "id": "ced1fa37",
   "metadata": {},
   "outputs": [
    {
     "data": {
      "text/plain": [
       "12802"
      ]
     },
     "execution_count": 832,
     "metadata": {},
     "output_type": "execute_result"
    }
   ],
   "source": [
    "data.price_range.isnull().sum()"
   ]
  },
  {
   "cell_type": "markdown",
   "id": "0943af62",
   "metadata": {},
   "source": [
    "Заполнилось более тысячи пропусков. Дальнейшее заполнение проведем позднее, после создания новых столбцов."
   ]
  },
  {
   "cell_type": "markdown",
   "id": "7fa668f3",
   "metadata": {},
   "source": [
    "### Создание столбца ranking_normal"
   ]
  },
  {
   "cell_type": "markdown",
   "id": "9e608a1d",
   "metadata": {},
   "source": [
    "Так как в столбце ranking для каждого ресторана указано его уровень среди ресторанов своего города, то невозможно сравнивать Такуровень ресторанов из разных городов. Будем предполагать, что лучшие рестораны в каждом городе примерно одного уровня, и худшие тоже примерно равного уровня. Для того, чтобы можно было сравнивать рестораны из разных городов, проведем MinMax нормализацию рейтинга для каждого города.\n",
    "\n",
    "Сначала составим словарь содержащий для каждого города норму для нормализации, она будет равна максимальное значение ranking минус 1, то есть минимальное значение. Минимум для всех будет 1, так как лучший ресторан на первом месте даже если ресторан стоящий на первом месте в датасет не попал."
   ]
  },
  {
   "cell_type": "code",
   "execution_count": 833,
   "id": "c8a7c6fa",
   "metadata": {},
   "outputs": [],
   "source": [
    "ranking_norma_dict = {}\n",
    "for city in city_list:\n",
    "    ranking_norma_dict[city] = data[data['city'] == city].ranking.max() - 1"
   ]
  },
  {
   "cell_type": "markdown",
   "id": "b54fcd6f",
   "metadata": {},
   "source": [
    "Далее проведем нормализацию."
   ]
  },
  {
   "cell_type": "code",
   "execution_count": 834,
   "id": "80f971d3",
   "metadata": {},
   "outputs": [],
   "source": [
    "data['ranking_norm'] = data.apply(lambda x:(x['ranking'] - 1) \n",
    "                                  / ranking_norma_dict[x['city']] , axis = 1)"
   ]
  },
  {
   "cell_type": "code",
   "execution_count": 835,
   "id": "2927c7f7",
   "metadata": {},
   "outputs": [
    {
     "data": {
      "text/html": [
       "<div>\n",
       "<style scoped>\n",
       "    .dataframe tbody tr th:only-of-type {\n",
       "        vertical-align: middle;\n",
       "    }\n",
       "\n",
       "    .dataframe tbody tr th {\n",
       "        vertical-align: top;\n",
       "    }\n",
       "\n",
       "    .dataframe thead th {\n",
       "        text-align: right;\n",
       "    }\n",
       "</style>\n",
       "<table border=\"1\" class=\"dataframe\">\n",
       "  <thead>\n",
       "    <tr style=\"text-align: right;\">\n",
       "      <th></th>\n",
       "      <th>Rating</th>\n",
       "      <th>ranking_norm</th>\n",
       "    </tr>\n",
       "  </thead>\n",
       "  <tbody>\n",
       "    <tr>\n",
       "      <th>Rating</th>\n",
       "      <td>1.000000</td>\n",
       "      <td>-0.544589</td>\n",
       "    </tr>\n",
       "    <tr>\n",
       "      <th>ranking_norm</th>\n",
       "      <td>-0.544589</td>\n",
       "      <td>1.000000</td>\n",
       "    </tr>\n",
       "  </tbody>\n",
       "</table>\n",
       "</div>"
      ],
      "text/plain": [
       "                Rating  ranking_norm\n",
       "Rating        1.000000     -0.544589\n",
       "ranking_norm -0.544589      1.000000"
      ]
     },
     "execution_count": 835,
     "metadata": {},
     "output_type": "execute_result"
    }
   ],
   "source": [
    "data[['Rating','ranking_norm']].corr()"
   ]
  },
  {
   "cell_type": "code",
   "execution_count": 836,
   "id": "9f89cd27",
   "metadata": {},
   "outputs": [
    {
     "data": {
      "text/plain": [
       "<AxesSubplot:>"
      ]
     },
     "execution_count": 836,
     "metadata": {},
     "output_type": "execute_result"
    },
    {
     "data": {
      "image/png": "[encoded data removed]",
      "text/plain": [
       "<Figure size 432x288 with 1 Axes>"
      ]
     },
     "metadata": {
      "needs_background": "light"
     },
     "output_type": "display_data"
    }
   ],
   "source": [
    "data.ranking_norm.hist()\n",
    "# Распределение плоское."
   ]
  },
  {
   "cell_type": "markdown",
   "id": "bbdf7c41",
   "metadata": {},
   "source": [
    "### Создание столбца ranking_standard"
   ]
  },
  {
   "cell_type": "markdown",
   "id": "b4731016",
   "metadata": {},
   "source": [
    "При помощи нормализации мы привели рейтинги ресторанов в каждом городе к одному масштабу. Но лучший ресторан Любляны не равен по уровню лучшему ресторану Женевы. Необходимо найти критерий, по которому можно сравнить уровень ресторанов в разных городах. Таким критерием можно выбрть сеть ресторанов, в которой придерживаются одного стандарта обслуживания, набора кухонь и ценовой политики. Такими ресторанами сравнения могут стать рестораны  mcdonald_s, burger_king и subway. Если к каком то городе нет mcdonald_s, смотрим burger_king, если и его нет, смотрим  subway."
   ]
  },
  {
   "cell_type": "code",
   "execution_count": 837,
   "id": "f16939cb",
   "metadata": {},
   "outputs": [
    {
     "data": {
      "text/plain": [
       "mcdonald_s        135\n",
       "burger_king        62\n",
       "subway             62\n",
       "kfc                61\n",
       "pret_a_manger      53\n",
       "pizza_express      36\n",
       "domino_s_pizza     32\n",
       "pizza_hut          25\n",
       "eat                24\n",
       "telepizza          20\n",
       "Name: name_rest, dtype: int64"
      ]
     },
     "execution_count": 837,
     "metadata": {},
     "output_type": "execute_result"
    }
   ],
   "source": [
    "data.name_rest.value_counts().head(10)"
   ]
  },
  {
   "cell_type": "code",
   "execution_count": 838,
   "id": "afd7c4e3",
   "metadata": {},
   "outputs": [],
   "source": [
    "mcdonald_s_max = {}\n",
    "for city in city_list:\n",
    "    mcdonald_s_max[city] = data[(data.name_rest == 'mcdonald_s')\n",
    "                                & (data.city == city)].ranking_norm.max()"
   ]
  },
  {
   "cell_type": "code",
   "execution_count": 839,
   "id": "909f4722",
   "metadata": {},
   "outputs": [
    {
     "data": {
      "text/plain": [
       "{'Copenhagen': 0.9332654100866021,\n",
       " 'Paris': 0.998069360028602,\n",
       " 'Zurich': 0.8980490874764002,\n",
       " 'Helsinki': 0.6833333333333333,\n",
       " 'Hamburg': 0.9316270566727605,\n",
       " 'Berlin': 0.9786532726416575,\n",
       " 'Milan': 0.9835830411220912,\n",
       " 'Amsterdam': 0.8913177339901478,\n",
       " 'London': 0.9874110563765737,\n",
       " 'Lisbon': 0.876210979547901,\n",
       " 'Barcelona': 0.9550994227068633,\n",
       " 'Brussels': 0.8384948384948385,\n",
       " 'Ljubljana': nan,\n",
       " 'Luxembourg': 1.0,\n",
       " 'Warsaw': 0.7448598130841122,\n",
       " 'Bratislava': 0.6283783783783784,\n",
       " 'Krakow': 0.6395816572807723,\n",
       " 'Rome': nan,\n",
       " 'Lyon': 0.9898686679174484,\n",
       " 'Oporto': 0.7147673634524613,\n",
       " 'Budapest': 0.9109560935576528,\n",
       " 'Prague': 0.9586816336278958,\n",
       " 'Vienna': 0.9410397908800465,\n",
       " 'Oslo': 0.8283450704225352,\n",
       " 'Dublin': 0.9948953547728433,\n",
       " 'Munich': 0.9489500362056481,\n",
       " 'Madrid': 0.9879654859218892,\n",
       " 'Geneva': 0.9454674220963173,\n",
       " 'Athens': 0.5005599104143337,\n",
       " 'Stockholm': nan,\n",
       " 'Edinburgh': 0.9076487252124645}"
      ]
     },
     "execution_count": 839,
     "metadata": {},
     "output_type": "execute_result"
    }
   ],
   "source": [
    "mcdonald_s_max"
   ]
  },
  {
   "cell_type": "code",
   "execution_count": 840,
   "id": "8f9f4d3d",
   "metadata": {},
   "outputs": [],
   "source": [
    "burger_king_max = {}\n",
    "for city in city_list:\n",
    "    burger_king_max[city] = data[(data.name_rest == 'burger_king')\n",
    "                                 & (data.city == city)].ranking_norm.max()"
   ]
  },
  {
   "cell_type": "code",
   "execution_count": 841,
   "id": "98f56987",
   "metadata": {},
   "outputs": [
    {
     "data": {
      "text/plain": [
       "{'Copenhagen': nan,\n",
       " 'Paris': 0.9868430461208437,\n",
       " 'Zurich': 0.7658904971680303,\n",
       " 'Helsinki': 0.7578947368421053,\n",
       " 'Hamburg': 0.9692870201096893,\n",
       " 'Berlin': 0.9996860775388479,\n",
       " 'Milan': nan,\n",
       " 'Amsterdam': 0.5603448275862069,\n",
       " 'London': 0.9694094751566016,\n",
       " 'Lisbon': 0.39720129171151775,\n",
       " 'Barcelona': 0.9701090442591405,\n",
       " 'Brussels': nan,\n",
       " 'Ljubljana': nan,\n",
       " 'Luxembourg': nan,\n",
       " 'Warsaw': nan,\n",
       " 'Bratislava': nan,\n",
       " 'Krakow': 0.5164923572003218,\n",
       " 'Rome': 0.8186711522287636,\n",
       " 'Lyon': 0.9891181988742964,\n",
       " 'Oporto': nan,\n",
       " 'Budapest': 0.969224456298728,\n",
       " 'Prague': 0.910198232624791,\n",
       " 'Vienna': 0.9831542259657275,\n",
       " 'Oslo': 0.8908450704225352,\n",
       " 'Dublin': 0.8994384890250128,\n",
       " 'Munich': 0.9163649529326575,\n",
       " 'Madrid': 0.9692325158946412,\n",
       " 'Geneva': nan,\n",
       " 'Athens': nan,\n",
       " 'Stockholm': 0.9309784815265936,\n",
       " 'Edinburgh': 0.975070821529745}"
      ]
     },
     "execution_count": 841,
     "metadata": {},
     "output_type": "execute_result"
    }
   ],
   "source": [
    "burger_king_max"
   ]
  },
  {
   "cell_type": "code",
   "execution_count": 842,
   "id": "78deda56",
   "metadata": {},
   "outputs": [],
   "source": [
    "subway_max = {}\n",
    "for city in city_list:\n",
    "    subway_max[city] = data[(data.name_rest == 'subway')\n",
    "                            & (data.city == city)].ranking_norm.max()"
   ]
  },
  {
   "cell_type": "code",
   "execution_count": 843,
   "id": "662ad661",
   "metadata": {},
   "outputs": [
    {
     "data": {
      "text/plain": [
       "{'Copenhagen': nan,\n",
       " 'Paris': 0.9002502681444404,\n",
       " 'Zurich': 0.7463813719320327,\n",
       " 'Helsinki': 0.8605263157894737,\n",
       " 'Hamburg': 0.9261425959780621,\n",
       " 'Berlin': 0.917595353947575,\n",
       " 'Milan': nan,\n",
       " 'Amsterdam': nan,\n",
       " 'London': 0.9766465973362525,\n",
       " 'Lisbon': 0.990043057050592,\n",
       " 'Barcelona': 0.8116741500962156,\n",
       " 'Brussels': nan,\n",
       " 'Ljubljana': 0.6745182012847966,\n",
       " 'Luxembourg': nan,\n",
       " 'Warsaw': nan,\n",
       " 'Bratislava': 0.5146396396396397,\n",
       " 'Krakow': nan,\n",
       " 'Rome': nan,\n",
       " 'Lyon': 0.8386491557223265,\n",
       " 'Oporto': nan,\n",
       " 'Budapest': 0.6934755847353303,\n",
       " 'Prague': 0.5598280391688559,\n",
       " 'Vienna': nan,\n",
       " 'Oslo': 0.6161971830985915,\n",
       " 'Dublin': 0.8861664114344053,\n",
       " 'Munich': 0.8312816799420709,\n",
       " 'Madrid': 0.6148955495004541,\n",
       " 'Geneva': nan,\n",
       " 'Athens': nan,\n",
       " 'Stockholm': 0.8968737312220869,\n",
       " 'Edinburgh': 0.945042492917847}"
      ]
     },
     "execution_count": 843,
     "metadata": {},
     "output_type": "execute_result"
    }
   ],
   "source": [
    "subway_max"
   ]
  },
  {
   "cell_type": "markdown",
   "id": "434dd8c6",
   "metadata": {},
   "source": [
    "Из  трех словарей собираем один, содержащий сетевой ресторан в каждом городе. В трех городах таким рестораном будет не Макдоналдс, но ресторан такого же уровня."
   ]
  },
  {
   "cell_type": "code",
   "execution_count": 844,
   "id": "a9cf984c",
   "metadata": {},
   "outputs": [],
   "source": [
    "standard_rest = {}\n",
    "for city in city_list:\n",
    "    if pd.notnull(mcdonald_s_max[city]):\n",
    "        standard_rest[city] = mcdonald_s_max[city]\n",
    "        # Сначала ищем Макдоналдс для каждого города.\n",
    "    elif pd.notnull(burger_king_max[city]):\n",
    "        standard_rest[city] = burger_king_max[city]\n",
    "        # Далее ищем Бургер Кинг\n",
    "    else:\n",
    "        standard_rest[city] = subway_max[city]\n",
    "        # Любляну заполним Сабвеем."
   ]
  },
  {
   "cell_type": "code",
   "execution_count": 845,
   "id": "0b2d65c0",
   "metadata": {},
   "outputs": [
    {
     "data": {
      "text/plain": [
       "Athens        0.500560\n",
       "Bratislava    0.628378\n",
       "Krakow        0.639582\n",
       "Ljubljana     0.674518\n",
       "Helsinki      0.683333\n",
       "Oporto        0.714767\n",
       "Warsaw        0.744860\n",
       "Rome          0.818671\n",
       "Oslo          0.828345\n",
       "Brussels      0.838495\n",
       "Lisbon        0.876211\n",
       "Amsterdam     0.891318\n",
       "Zurich        0.898049\n",
       "Edinburgh     0.907649\n",
       "Budapest      0.910956\n",
       "Stockholm     0.930978\n",
       "Hamburg       0.931627\n",
       "Copenhagen    0.933265\n",
       "Vienna        0.941040\n",
       "Geneva        0.945467\n",
       "Munich        0.948950\n",
       "Barcelona     0.955099\n",
       "Prague        0.958682\n",
       "Berlin        0.978653\n",
       "Milan         0.983583\n",
       "London        0.987411\n",
       "Madrid        0.987965\n",
       "Lyon          0.989869\n",
       "Dublin        0.994895\n",
       "Paris         0.998069\n",
       "Luxembourg    1.000000\n",
       "dtype: float64"
      ]
     },
     "execution_count": 845,
     "metadata": {},
     "output_type": "execute_result"
    }
   ],
   "source": [
    "rest_standard = pd.Series(standard_rest).sort_values()\n",
    "rest_standard\n",
    "# Рестораны имеющие общий стандарт обслуживания занимают разные позиции в разных городах."
   ]
  },
  {
   "cell_type": "markdown",
   "id": "ba3a9713",
   "metadata": {},
   "source": [
    "В Люксембурге mcdonald_s занимает самую нижнюю позицию, то есть в этом городе остальные рестораны более высокого уровня, а значит, в этом городе средний уровень ресторанов выше чем в других городах. Расчитаем смещение уровня других городов по отношению к Люксембургу."
   ]
  },
  {
   "cell_type": "code",
   "execution_count": 846,
   "id": "154ac98a",
   "metadata": {},
   "outputs": [],
   "source": [
    "delta_standard = {}\n",
    "for city in city_list:\n",
    "    delta_standard[city] = rest_standard.max() - rest_standard[city]"
   ]
  },
  {
   "cell_type": "code",
   "execution_count": 847,
   "id": "c2d610b3",
   "metadata": {},
   "outputs": [],
   "source": [
    "data['ranking_standard'] = data.apply(lambda x: x['ranking_norm']\n",
    "                                      + delta_standard[x['city']], axis = 1)"
   ]
  },
  {
   "cell_type": "code",
   "execution_count": 848,
   "id": "55409f57",
   "metadata": {},
   "outputs": [
    {
     "data": {
      "text/plain": [
       "<AxesSubplot:>"
      ]
     },
     "execution_count": 848,
     "metadata": {},
     "output_type": "execute_result"
    },
    {
     "data": {
      "image/png": "[encoded data removed]",
      "text/plain": [
       "<Figure size 432x288 with 1 Axes>"
      ]
     },
     "metadata": {
      "needs_background": "light"
     },
     "output_type": "display_data"
    }
   ],
   "source": [
    "data.ranking_standard.hist(bins = 30)"
   ]
  },
  {
   "cell_type": "code",
   "execution_count": 849,
   "id": "e8fa5570",
   "metadata": {},
   "outputs": [
    {
     "data": {
      "text/html": [
       "<div>\n",
       "<style scoped>\n",
       "    .dataframe tbody tr th:only-of-type {\n",
       "        vertical-align: middle;\n",
       "    }\n",
       "\n",
       "    .dataframe tbody tr th {\n",
       "        vertical-align: top;\n",
       "    }\n",
       "\n",
       "    .dataframe thead th {\n",
       "        text-align: right;\n",
       "    }\n",
       "</style>\n",
       "<table border=\"1\" class=\"dataframe\">\n",
       "  <thead>\n",
       "    <tr style=\"text-align: right;\">\n",
       "      <th></th>\n",
       "      <th>ranking_standard</th>\n",
       "      <th>Rating</th>\n",
       "    </tr>\n",
       "  </thead>\n",
       "  <tbody>\n",
       "    <tr>\n",
       "      <th>ranking_standard</th>\n",
       "      <td>1.000000</td>\n",
       "      <td>-0.485843</td>\n",
       "    </tr>\n",
       "    <tr>\n",
       "      <th>Rating</th>\n",
       "      <td>-0.485843</td>\n",
       "      <td>1.000000</td>\n",
       "    </tr>\n",
       "  </tbody>\n",
       "</table>\n",
       "</div>"
      ],
      "text/plain": [
       "                  ranking_standard    Rating\n",
       "ranking_standard          1.000000 -0.485843\n",
       "Rating                   -0.485843  1.000000"
      ]
     },
     "execution_count": 849,
     "metadata": {},
     "output_type": "execute_result"
    }
   ],
   "source": [
    "data[['ranking_standard','Rating']].corr()"
   ]
  },
  {
   "cell_type": "markdown",
   "id": "5617d08e",
   "metadata": {},
   "source": [
    "### Создание столбца ranking_categories\n",
    "Разделим непрерывную последовательность рейтингов ресторанов на категории для заполнения пропусков в других столбцах в разрезе этого признака."
   ]
  },
  {
   "cell_type": "code",
   "execution_count": 850,
   "id": "363f50fe",
   "metadata": {},
   "outputs": [],
   "source": [
    "bins_ranking = 100 # Настраиваемый параметр."
   ]
  },
  {
   "cell_type": "code",
   "execution_count": 851,
   "id": "c7954141",
   "metadata": {},
   "outputs": [],
   "source": [
    "def ranking_categorization(x):\n",
    "    \"\"\"Функция разбивает последовательность рейтингов\n",
    "    на заданное число категорий\"\"\"\n",
    "    one_category = data.ranking_norm.max() / bins_ranking\n",
    "    # Размер одной категории.\n",
    "    return round(x / one_category, 0)"
   ]
  },
  {
   "cell_type": "code",
   "execution_count": 852,
   "id": "add10534",
   "metadata": {},
   "outputs": [],
   "source": [
    "data['ranking_categories'] = data['ranking_norm'].apply(ranking_categorization)"
   ]
  },
  {
   "cell_type": "code",
   "execution_count": 853,
   "id": "51ef150d",
   "metadata": {},
   "outputs": [
    {
     "data": {
      "text/html": [
       "<div>\n",
       "<style scoped>\n",
       "    .dataframe tbody tr th:only-of-type {\n",
       "        vertical-align: middle;\n",
       "    }\n",
       "\n",
       "    .dataframe tbody tr th {\n",
       "        vertical-align: top;\n",
       "    }\n",
       "\n",
       "    .dataframe thead th {\n",
       "        text-align: right;\n",
       "    }\n",
       "</style>\n",
       "<table border=\"1\" class=\"dataframe\">\n",
       "  <thead>\n",
       "    <tr style=\"text-align: right;\">\n",
       "      <th></th>\n",
       "      <th>Rating</th>\n",
       "      <th>ranking_norm</th>\n",
       "      <th>ranking_categories</th>\n",
       "    </tr>\n",
       "  </thead>\n",
       "  <tbody>\n",
       "    <tr>\n",
       "      <th>Rating</th>\n",
       "      <td>1.000000</td>\n",
       "      <td>-0.544589</td>\n",
       "      <td>-0.544628</td>\n",
       "    </tr>\n",
       "    <tr>\n",
       "      <th>ranking_norm</th>\n",
       "      <td>-0.544589</td>\n",
       "      <td>1.000000</td>\n",
       "      <td>0.999949</td>\n",
       "    </tr>\n",
       "    <tr>\n",
       "      <th>ranking_categories</th>\n",
       "      <td>-0.544628</td>\n",
       "      <td>0.999949</td>\n",
       "      <td>1.000000</td>\n",
       "    </tr>\n",
       "  </tbody>\n",
       "</table>\n",
       "</div>"
      ],
      "text/plain": [
       "                      Rating  ranking_norm  ranking_categories\n",
       "Rating              1.000000     -0.544589           -0.544628\n",
       "ranking_norm       -0.544589      1.000000            0.999949\n",
       "ranking_categories -0.544628      0.999949            1.000000"
      ]
     },
     "execution_count": 853,
     "metadata": {},
     "output_type": "execute_result"
    }
   ],
   "source": [
    "data[['Rating','ranking_norm', 'ranking_categories']].corr()"
   ]
  },
  {
   "cell_type": "markdown",
   "id": "64f97ce1",
   "metadata": {},
   "source": [
    "### Продолжаем заполнять price_range\n",
    "Окончательное заполнение пропусков в столбце с ценовой категорией проведем на основе вновь созданного столбца ranking_absolut."
   ]
  },
  {
   "cell_type": "code",
   "execution_count": 854,
   "id": "d1ff1689",
   "metadata": {},
   "outputs": [
    {
     "data": {
      "text/plain": [
       "<AxesSubplot:>"
      ]
     },
     "execution_count": 854,
     "metadata": {},
     "output_type": "execute_result"
    },
    {
     "data": {
      "image/png": "[encoded data removed]",
      "text/plain": [
       "<Figure size 432x288 with 1 Axes>"
      ]
     },
     "metadata": {
      "needs_background": "light"
     },
     "output_type": "display_data"
    }
   ],
   "source": [
    "data[pd.isnull(data.price_range)].ranking_categories.hist(bins=100)\n",
    "# Больше всего незаполненных прайсов у ресторанов стоящих в рейтинге ниже среднего."
   ]
  },
  {
   "cell_type": "code",
   "execution_count": 855,
   "id": "8ed02bcc",
   "metadata": {},
   "outputs": [
    {
     "data": {
      "text/plain": [
       "<AxesSubplot:>"
      ]
     },
     "execution_count": 855,
     "metadata": {},
     "output_type": "execute_result"
    },
    {
     "data": {
      "image/png": "[encoded data removed]",
      "text/plain": [
       "<Figure size 432x288 with 1 Axes>"
      ]
     },
     "metadata": {
      "needs_background": "light"
     },
     "output_type": "display_data"
    }
   ],
   "source": [
    "data[pd.notnull(data.price_range)].ranking_categories.hist(bins=100)\n",
    "# У ресторанов с заполненным прайсом картина противоположная."
   ]
  },
  {
   "cell_type": "code",
   "execution_count": 856,
   "id": "7ca1164b",
   "metadata": {},
   "outputs": [],
   "source": [
    "def price_completion(row):\n",
    "    if pd.isnull(row['price_range']):\n",
    "        if row['ranking_categories'] > bins_ranking / 2:\n",
    "            return 1.0\n",
    "        else:\n",
    "            return 2.0 \n",
    "    else:\n",
    "        return row['price_range']"
   ]
  },
  {
   "cell_type": "code",
   "execution_count": 857,
   "id": "c1ed0503",
   "metadata": {},
   "outputs": [],
   "source": [
    "data['price_range'] = data.apply(price_completion, axis = 1)"
   ]
  },
  {
   "cell_type": "code",
   "execution_count": 858,
   "id": "dd4dbb52",
   "metadata": {},
   "outputs": [
    {
     "data": {
      "text/plain": [
       "0"
      ]
     },
     "execution_count": 858,
     "metadata": {},
     "output_type": "execute_result"
    }
   ],
   "source": [
    "data['price_range'].isnull().sum()"
   ]
  },
  {
   "cell_type": "code",
   "execution_count": 859,
   "id": "db728b77",
   "metadata": {},
   "outputs": [
    {
     "data": {
      "text/plain": [
       "<AxesSubplot:>"
      ]
     },
     "execution_count": 859,
     "metadata": {},
     "output_type": "execute_result"
    },
    {
     "data": {
      "image/png": "[encoded data removed]",
      "text/plain": [
       "<Figure size 432x288 with 1 Axes>"
      ]
     },
     "metadata": {
      "needs_background": "light"
     },
     "output_type": "display_data"
    }
   ],
   "source": [
    "data[pd.notnull(data.price_range)].ranking_categories.hist(bins=100)\n",
    "# После заполнения пропусков картина выровнялась."
   ]
  },
  {
   "cell_type": "code",
   "execution_count": 860,
   "id": "7d92ad22",
   "metadata": {},
   "outputs": [
    {
     "data": {
      "text/html": [
       "<div>\n",
       "<style scoped>\n",
       "    .dataframe tbody tr th:only-of-type {\n",
       "        vertical-align: middle;\n",
       "    }\n",
       "\n",
       "    .dataframe tbody tr th {\n",
       "        vertical-align: top;\n",
       "    }\n",
       "\n",
       "    .dataframe thead th {\n",
       "        text-align: right;\n",
       "    }\n",
       "</style>\n",
       "<table border=\"1\" class=\"dataframe\">\n",
       "  <thead>\n",
       "    <tr style=\"text-align: right;\">\n",
       "      <th></th>\n",
       "      <th>Rating</th>\n",
       "      <th>ranking</th>\n",
       "      <th>ranking_categories</th>\n",
       "      <th>price_range</th>\n",
       "    </tr>\n",
       "  </thead>\n",
       "  <tbody>\n",
       "    <tr>\n",
       "      <th>Rating</th>\n",
       "      <td>1.000000</td>\n",
       "      <td>-0.368371</td>\n",
       "      <td>-0.544628</td>\n",
       "      <td>0.120475</td>\n",
       "    </tr>\n",
       "    <tr>\n",
       "      <th>ranking</th>\n",
       "      <td>-0.368371</td>\n",
       "      <td>1.000000</td>\n",
       "      <td>0.572254</td>\n",
       "      <td>-0.240847</td>\n",
       "    </tr>\n",
       "    <tr>\n",
       "      <th>ranking_categories</th>\n",
       "      <td>-0.544628</td>\n",
       "      <td>0.572254</td>\n",
       "      <td>1.000000</td>\n",
       "      <td>-0.459464</td>\n",
       "    </tr>\n",
       "    <tr>\n",
       "      <th>price_range</th>\n",
       "      <td>0.120475</td>\n",
       "      <td>-0.240847</td>\n",
       "      <td>-0.459464</td>\n",
       "      <td>1.000000</td>\n",
       "    </tr>\n",
       "  </tbody>\n",
       "</table>\n",
       "</div>"
      ],
      "text/plain": [
       "                      Rating   ranking  ranking_categories  price_range\n",
       "Rating              1.000000 -0.368371           -0.544628     0.120475\n",
       "ranking            -0.368371  1.000000            0.572254    -0.240847\n",
       "ranking_categories -0.544628  0.572254            1.000000    -0.459464\n",
       "price_range         0.120475 -0.240847           -0.459464     1.000000"
      ]
     },
     "execution_count": 860,
     "metadata": {},
     "output_type": "execute_result"
    }
   ],
   "source": [
    "data[['Rating','ranking','ranking_categories','price_range']].corr()\n",
    "# Корреляция price_range с целевой переменной многократно увеличилась."
   ]
  },
  {
   "cell_type": "markdown",
   "id": "7c5f7746",
   "metadata": {},
   "source": [
    "### Создание столбца age_ta (продолжительность существования ресторана на TripAdvisor)\n",
    "Для определения того, как долго существует ресторан, будем ориентироваться на идентификационный номер ресторана на сайте ТА. Очевидно, что эти номера присваивают по мере регистрации ресторана на сайте, а это значит, что чем больше id_ta, тем моложе ресторан. Минимальный и максимальный номера определят срез ресторанов, который попал в датасет.\n",
    "\n",
    "Вторым источником информации будут даты самого первого и самого последнего отзыва в датасете. По этим датам мы определим временной период, за который были взяты данные. Понятно, что дата регистрации и дата первого отзыва могут немного отличаться, но этой погрешностью мы пренебрежем.\n"
   ]
  },
  {
   "cell_type": "code",
   "execution_count": 861,
   "id": "9194d632",
   "metadata": {},
   "outputs": [
    {
     "data": {
      "text/plain": [
       "Timestamp('2007-11-14 00:00:00')"
      ]
     },
     "metadata": {},
     "output_type": "display_data"
    },
    {
     "data": {
      "text/plain": [
       "Timestamp('2018-02-26 00:00:00')"
      ]
     },
     "metadata": {},
     "output_type": "display_data"
    },
    {
     "data": {
      "text/plain": [
       "Timestamp('2004-04-21 00:00:00')"
      ]
     },
     "metadata": {},
     "output_type": "display_data"
    },
    {
     "data": {
      "text/plain": [
       "Timestamp('2018-02-26 00:00:00')"
      ]
     },
     "metadata": {},
     "output_type": "display_data"
    }
   ],
   "source": [
    "display(data['date_1'].min(),\n",
    "        data['date_1'].max(),\n",
    "        data['date_2'].min(),\n",
    "        data['date_2'].max())"
   ]
  },
  {
   "cell_type": "markdown",
   "id": "e5233ac4",
   "metadata": {},
   "source": [
    "Последние даты и первого и второго отзыва совпадают (2018-02-26), очевидно это и есть дата взятия данных с сайта для данного датасета. Самый ранний отзыв в датасете - 2004-04-21, примем эту дату за начало отсчета.\n",
    "\n",
    "Расчитаем временной период, за который были взяты данные."
   ]
  },
  {
   "cell_type": "code",
   "execution_count": 862,
   "id": "9c30b005",
   "metadata": {},
   "outputs": [
    {
     "data": {
      "text/plain": [
       "Timedelta('5059 days 00:00:00')"
      ]
     },
     "execution_count": 862,
     "metadata": {},
     "output_type": "execute_result"
    }
   ],
   "source": [
    "time_period = data['date_2'].max() - data['date_2'].min()\n",
    "time_period"
   ]
  },
  {
   "cell_type": "markdown",
   "id": "9d52a86b",
   "metadata": {},
   "source": [
    "Посмотрим, сколько ресторанов было зарегестрировано на ТА за это время."
   ]
  },
  {
   "cell_type": "code",
   "execution_count": 863,
   "id": "fb6112ce",
   "metadata": {},
   "outputs": [
    {
     "data": {
      "text/plain": [
       "12827031"
      ]
     },
     "metadata": {},
     "output_type": "display_data"
    },
    {
     "data": {
      "text/plain": [
       "680315"
      ]
     },
     "metadata": {},
     "output_type": "display_data"
    },
    {
     "data": {
      "text/plain": [
       "13507346"
      ]
     },
     "metadata": {},
     "output_type": "display_data"
    }
   ],
   "source": [
    "quantity_rest = data.id_ta.max() - data.id_ta.min()\n",
    "display(quantity_rest, data.id_ta.min(), data.id_ta.max())"
   ]
  },
  {
   "cell_type": "markdown",
   "id": "f2d55fd3",
   "metadata": {},
   "source": [
    "На TripAdvisor было зарегистрировано за это время более 13.5 миллионов ресторанов, а в нашем датасете 40000.\n",
    "\n",
    "Проверим, сколько ресторанов в день регистрировалось в среднем на ТА."
   ]
  },
  {
   "cell_type": "code",
   "execution_count": 864,
   "id": "ff9f2055",
   "metadata": {},
   "outputs": [
    {
     "data": {
      "text/plain": [
       "2535.0"
      ]
     },
     "execution_count": 864,
     "metadata": {},
     "output_type": "execute_result"
    }
   ],
   "source": [
    "daily_quantity = round(quantity_rest / 5059, 0)\n",
    "daily_quantity"
   ]
  },
  {
   "cell_type": "markdown",
   "id": "e925e2b3",
   "metadata": {},
   "source": [
    "Создадим функцию, которая будет разбивать последовательность номеров id_ta на интервалы номеров присваиваемых в течение одного дня (5059), и определять в какой интервал попадает переданный ей id из датасета. Таким образом эта функция будет определять сколько дней назад ресторан был зарегистрирован на сайте TripAdvisor."
   ]
  },
  {
   "cell_type": "code",
   "execution_count": 865,
   "id": "ca312316",
   "metadata": {},
   "outputs": [],
   "source": [
    "def age_rest(x):\n",
    "    days = 5060\n",
    "    min_id = 680315\n",
    "    max_id = 13507346\n",
    "    for i in range(1, 5061):\n",
    "        if (min_id <= x < min_id + i*2535):\n",
    "            return days\n",
    "        else:\n",
    "            days = days - 1            "
   ]
  },
  {
   "cell_type": "code",
   "execution_count": 866,
   "id": "ae8ae664",
   "metadata": {},
   "outputs": [],
   "source": [
    "data['age_ta'] = data['id_ta'].apply(age_rest)"
   ]
  },
  {
   "cell_type": "code",
   "execution_count": 867,
   "id": "1bd9bc90",
   "metadata": {},
   "outputs": [
    {
     "data": {
      "text/html": [
       "<div>\n",
       "<style scoped>\n",
       "    .dataframe tbody tr th:only-of-type {\n",
       "        vertical-align: middle;\n",
       "    }\n",
       "\n",
       "    .dataframe tbody tr th {\n",
       "        vertical-align: top;\n",
       "    }\n",
       "\n",
       "    .dataframe thead th {\n",
       "        text-align: right;\n",
       "    }\n",
       "</style>\n",
       "<table border=\"1\" class=\"dataframe\">\n",
       "  <thead>\n",
       "    <tr style=\"text-align: right;\">\n",
       "      <th></th>\n",
       "      <th>Rating</th>\n",
       "      <th>age_ta</th>\n",
       "      <th>id_ta</th>\n",
       "    </tr>\n",
       "  </thead>\n",
       "  <tbody>\n",
       "    <tr>\n",
       "      <th>Rating</th>\n",
       "      <td>1.000000</td>\n",
       "      <td>-0.159111</td>\n",
       "      <td>0.159111</td>\n",
       "    </tr>\n",
       "    <tr>\n",
       "      <th>age_ta</th>\n",
       "      <td>-0.159111</td>\n",
       "      <td>1.000000</td>\n",
       "      <td>-1.000000</td>\n",
       "    </tr>\n",
       "    <tr>\n",
       "      <th>id_ta</th>\n",
       "      <td>0.159111</td>\n",
       "      <td>-1.000000</td>\n",
       "      <td>1.000000</td>\n",
       "    </tr>\n",
       "  </tbody>\n",
       "</table>\n",
       "</div>"
      ],
      "text/plain": [
       "          Rating    age_ta     id_ta\n",
       "Rating  1.000000 -0.159111  0.159111\n",
       "age_ta -0.159111  1.000000 -1.000000\n",
       "id_ta   0.159111 -1.000000  1.000000"
      ]
     },
     "execution_count": 867,
     "metadata": {},
     "output_type": "execute_result"
    }
   ],
   "source": [
    "data[['Rating','age_ta','id_ta']].corr()"
   ]
  },
  {
   "cell_type": "markdown",
   "id": "914d09ef",
   "metadata": {},
   "source": [
    "### Создание столбца age_ta_categories\n",
    "Разобьем числовой столбец давности регистрации на ТА на категории и создадим новый столбец для "
   ]
  },
  {
   "cell_type": "code",
   "execution_count": 868,
   "id": "9de1b30c",
   "metadata": {},
   "outputs": [],
   "source": [
    "bins_age = 25 # Настраиваемый параметр - количество градаций параметра 'age_ta_categories'.\n",
    "# Такое значение было подобрано эмпирически по максимальной корреляции с целевой переменной."
   ]
  },
  {
   "cell_type": "code",
   "execution_count": 869,
   "id": "dda06c86",
   "metadata": {},
   "outputs": [],
   "source": [
    "def age_categorization(x):\n",
    "    one_category = data.age_ta.max() / bins_age\n",
    "    return round(x / one_category, 0)"
   ]
  },
  {
   "cell_type": "code",
   "execution_count": 870,
   "id": "59321510",
   "metadata": {},
   "outputs": [],
   "source": [
    "data['age_ta_categories'] = data['age_ta'].apply(age_categorization)"
   ]
  },
  {
   "cell_type": "code",
   "execution_count": 871,
   "id": "213551e5",
   "metadata": {},
   "outputs": [
    {
     "data": {
      "text/html": [
       "<div>\n",
       "<style scoped>\n",
       "    .dataframe tbody tr th:only-of-type {\n",
       "        vertical-align: middle;\n",
       "    }\n",
       "\n",
       "    .dataframe tbody tr th {\n",
       "        vertical-align: top;\n",
       "    }\n",
       "\n",
       "    .dataframe thead th {\n",
       "        text-align: right;\n",
       "    }\n",
       "</style>\n",
       "<table border=\"1\" class=\"dataframe\">\n",
       "  <thead>\n",
       "    <tr style=\"text-align: right;\">\n",
       "      <th></th>\n",
       "      <th>Rating</th>\n",
       "      <th>age_ta</th>\n",
       "      <th>id_ta</th>\n",
       "      <th>age_ta_categories</th>\n",
       "    </tr>\n",
       "  </thead>\n",
       "  <tbody>\n",
       "    <tr>\n",
       "      <th>Rating</th>\n",
       "      <td>1.000000</td>\n",
       "      <td>-0.159111</td>\n",
       "      <td>0.159111</td>\n",
       "      <td>-0.158864</td>\n",
       "    </tr>\n",
       "    <tr>\n",
       "      <th>age_ta</th>\n",
       "      <td>-0.159111</td>\n",
       "      <td>1.000000</td>\n",
       "      <td>-1.000000</td>\n",
       "      <td>0.999295</td>\n",
       "    </tr>\n",
       "    <tr>\n",
       "      <th>id_ta</th>\n",
       "      <td>0.159111</td>\n",
       "      <td>-1.000000</td>\n",
       "      <td>1.000000</td>\n",
       "      <td>-0.999295</td>\n",
       "    </tr>\n",
       "    <tr>\n",
       "      <th>age_ta_categories</th>\n",
       "      <td>-0.158864</td>\n",
       "      <td>0.999295</td>\n",
       "      <td>-0.999295</td>\n",
       "      <td>1.000000</td>\n",
       "    </tr>\n",
       "  </tbody>\n",
       "</table>\n",
       "</div>"
      ],
      "text/plain": [
       "                     Rating    age_ta     id_ta  age_ta_categories\n",
       "Rating             1.000000 -0.159111  0.159111          -0.158864\n",
       "age_ta            -0.159111  1.000000 -1.000000           0.999295\n",
       "id_ta              0.159111 -1.000000  1.000000          -0.999295\n",
       "age_ta_categories -0.158864  0.999295 -0.999295           1.000000"
      ]
     },
     "execution_count": 871,
     "metadata": {},
     "output_type": "execute_result"
    }
   ],
   "source": [
    "data[['Rating','age_ta','id_ta','age_ta_categories']].corr()"
   ]
  },
  {
   "cell_type": "code",
   "execution_count": 872,
   "id": "a0dc3e77",
   "metadata": {},
   "outputs": [
    {
     "data": {
      "text/html": [
       "<div>\n",
       "<style scoped>\n",
       "    .dataframe tbody tr th:only-of-type {\n",
       "        vertical-align: middle;\n",
       "    }\n",
       "\n",
       "    .dataframe tbody tr th {\n",
       "        vertical-align: top;\n",
       "    }\n",
       "\n",
       "    .dataframe thead th {\n",
       "        text-align: right;\n",
       "    }\n",
       "</style>\n",
       "<table border=\"1\" class=\"dataframe\">\n",
       "  <thead>\n",
       "    <tr style=\"text-align: right;\">\n",
       "      <th></th>\n",
       "      <th>number_of_reviews</th>\n",
       "      <th>Rating</th>\n",
       "    </tr>\n",
       "  </thead>\n",
       "  <tbody>\n",
       "    <tr>\n",
       "      <th>number_of_reviews</th>\n",
       "      <td>1.000000</td>\n",
       "      <td>0.030964</td>\n",
       "    </tr>\n",
       "    <tr>\n",
       "      <th>Rating</th>\n",
       "      <td>0.030964</td>\n",
       "      <td>1.000000</td>\n",
       "    </tr>\n",
       "  </tbody>\n",
       "</table>\n",
       "</div>"
      ],
      "text/plain": [
       "                   number_of_reviews    Rating\n",
       "number_of_reviews           1.000000  0.030964\n",
       "Rating                      0.030964  1.000000"
      ]
     },
     "execution_count": 872,
     "metadata": {},
     "output_type": "execute_result"
    }
   ],
   "source": [
    "data[['number_of_reviews','Rating']].corr()"
   ]
  },
  {
   "cell_type": "markdown",
   "id": "bca0dcef",
   "metadata": {},
   "source": [
    "### Создание столбца country\n",
    "Вручную создадим словарь соответствия города своей стране."
   ]
  },
  {
   "cell_type": "code",
   "execution_count": 873,
   "id": "9a6cc9dc",
   "metadata": {},
   "outputs": [],
   "source": [
    "city_country_dict  = {'Prague': 'Czech',\n",
    "                     'Geneva': 'Switzerland',\n",
    "                     'Oslo': 'Norway',\n",
    "                     'Munich': 'Germany',\n",
    "                     'London': 'Great Britain',\n",
    "                     'Bratislava': 'Slovakia',\n",
    "                     'Lyon': 'France',\n",
    "                     'Krakow': 'Poland',\n",
    "                     'Ljubljana': 'Slovenia',\n",
    "                     'Zurich': 'Switzerland',\n",
    "                     'Copenhagen': 'Denmark',\n",
    "                     'Amsterdam': 'Netherlands',\n",
    "                     'Oporto': 'Portugal',\n",
    "                     'Brussels': 'Belgium',\n",
    "                     'Budapest': 'Hungary',\n",
    "                     'Rome': 'Italy',\n",
    "                     'Warsaw': 'Poland',\n",
    "                     'Paris': 'France',\n",
    "                     'Vienna': 'Austria',\n",
    "                     'Barcelona': 'Spain',\n",
    "                     'Berlin': 'Germany',\n",
    "                     'Luxembourg': 'Luxembourg',\n",
    "                     'Edinburgh': 'Great Britain',\n",
    "                     'Madrid': 'Spain',\n",
    "                     'Helsinki': 'Finland',\n",
    "                     'Athens': 'Greece',\n",
    "                     'Stockholm': 'Sweden',\n",
    "                     'Dublin': 'Great Britain',\n",
    "                     'Hamburg': 'Germany',\n",
    "                     'Milan': 'Italy',\n",
    "                     'Lisbon': 'Portugal'}\n",
    "                          "
   ]
  },
  {
   "cell_type": "markdown",
   "id": "dd01a8b8",
   "metadata": {},
   "source": [
    "Создаем столбец на основе словаря."
   ]
  },
  {
   "cell_type": "code",
   "execution_count": 874,
   "id": "b48daf59",
   "metadata": {},
   "outputs": [],
   "source": [
    "data['country'] = data.apply(lambda x: city_country_dict[x['city']], axis = 1)"
   ]
  },
  {
   "cell_type": "code",
   "execution_count": 875,
   "id": "7f6cad78",
   "metadata": {},
   "outputs": [
    {
     "data": {
      "text/plain": [
       "<AxesSubplot:xlabel='country'>"
      ]
     },
     "execution_count": 875,
     "metadata": {},
     "output_type": "execute_result"
    },
    {
     "data": {
      "image/png": "[encoded data removed]",
      "text/plain": [
       "<Figure size 432x288 with 1 Axes>"
      ]
     },
     "metadata": {
      "needs_background": "light"
     },
     "output_type": "display_data"
    }
   ],
   "source": [
    "data.groupby('country').number_of_reviews.mean().sort_values().plot(kind = 'bar')"
   ]
  },
  {
   "cell_type": "code",
   "execution_count": 876,
   "id": "1a2d733d",
   "metadata": {},
   "outputs": [
    {
     "data": {
      "text/plain": [
       "<AxesSubplot:xlabel='city'>"
      ]
     },
     "execution_count": 876,
     "metadata": {},
     "output_type": "execute_result"
    },
    {
     "data": {
      "image/png": "[encoded data removed]",
      "text/plain": [
       "<Figure size 432x288 with 1 Axes>"
      ]
     },
     "metadata": {
      "needs_background": "light"
     },
     "output_type": "display_data"
    }
   ],
   "source": [
    "data.groupby('city').number_of_reviews.mean().sort_values().plot(kind = 'bar')"
   ]
  },
  {
   "cell_type": "markdown",
   "id": "712d2f75",
   "metadata": {},
   "source": [
    "### Заполнение пропусков в столбце number_of_reviews\n",
    " "
   ]
  },
  {
   "cell_type": "markdown",
   "id": "ab841c5d",
   "metadata": {},
   "source": [
    "Перед заполнением сохраним в новом столбце информацию о том, где были пропуски."
   ]
  },
  {
   "cell_type": "code",
   "execution_count": 877,
   "id": "ae194bd8",
   "metadata": {},
   "outputs": [],
   "source": [
    "data['number_of_reviews_isnan'] = pd.isna(data['number_of_reviews']).astype('uint8')"
   ]
  },
  {
   "cell_type": "code",
   "execution_count": 878,
   "id": "12c9f1bd",
   "metadata": {},
   "outputs": [
    {
     "data": {
      "text/plain": [
       "<AxesSubplot:>"
      ]
     },
     "execution_count": 878,
     "metadata": {},
     "output_type": "execute_result"
    },
    {
     "data": {
      "image/png": "[encoded data removed]",
      "text/plain": [
       "<Figure size 432x288 with 1 Axes>"
      ]
     },
     "metadata": {
      "needs_background": "light"
     },
     "output_type": "display_data"
    }
   ],
   "source": [
    "data.number_of_reviews.hist(bins = 100)"
   ]
  },
  {
   "cell_type": "markdown",
   "id": "dd25a6f3",
   "metadata": {},
   "source": [
    "В этом столбце значения распределены не равномерно, имеется длинный хвост, причем начиная с 2000 отзывов каждое значение встречается лишь единожды и очень далеко отстоит от предыдущего значения. "
   ]
  },
  {
   "cell_type": "code",
   "execution_count": 879,
   "id": "22e00a0c",
   "metadata": {},
   "outputs": [
    {
     "data": {
      "text/html": [
       "<div>\n",
       "<style scoped>\n",
       "    .dataframe tbody tr th:only-of-type {\n",
       "        vertical-align: middle;\n",
       "    }\n",
       "\n",
       "    .dataframe tbody tr th {\n",
       "        vertical-align: top;\n",
       "    }\n",
       "\n",
       "    .dataframe thead th {\n",
       "        text-align: right;\n",
       "    }\n",
       "</style>\n",
       "<table border=\"1\" class=\"dataframe\">\n",
       "  <thead>\n",
       "    <tr style=\"text-align: right;\">\n",
       "      <th></th>\n",
       "      <th>number_of_reviews</th>\n",
       "      <th>Rating</th>\n",
       "    </tr>\n",
       "  </thead>\n",
       "  <tbody>\n",
       "    <tr>\n",
       "      <th>number_of_reviews</th>\n",
       "      <td>1.000000</td>\n",
       "      <td>0.030964</td>\n",
       "    </tr>\n",
       "    <tr>\n",
       "      <th>Rating</th>\n",
       "      <td>0.030964</td>\n",
       "      <td>1.000000</td>\n",
       "    </tr>\n",
       "  </tbody>\n",
       "</table>\n",
       "</div>"
      ],
      "text/plain": [
       "                   number_of_reviews    Rating\n",
       "number_of_reviews           1.000000  0.030964\n",
       "Rating                      0.030964  1.000000"
      ]
     },
     "execution_count": 879,
     "metadata": {},
     "output_type": "execute_result"
    }
   ],
   "source": [
    "data[['number_of_reviews','Rating']].corr()"
   ]
  },
  {
   "cell_type": "markdown",
   "id": "0aa6c74a",
   "metadata": {},
   "source": [
    "Удалим экстремальные значения. Позднее заполним эти пропуски вместе с остальными."
   ]
  },
  {
   "cell_type": "code",
   "execution_count": 880,
   "id": "5419dfde",
   "metadata": {},
   "outputs": [],
   "source": [
    "data['number_of_reviews'] = data['number_of_reviews'].apply(lambda x: np.nan if x > 4700 else x)"
   ]
  },
  {
   "cell_type": "code",
   "execution_count": 881,
   "id": "1d7c158b",
   "metadata": {},
   "outputs": [
    {
     "data": {
      "text/html": [
       "<div>\n",
       "<style scoped>\n",
       "    .dataframe tbody tr th:only-of-type {\n",
       "        vertical-align: middle;\n",
       "    }\n",
       "\n",
       "    .dataframe tbody tr th {\n",
       "        vertical-align: top;\n",
       "    }\n",
       "\n",
       "    .dataframe thead th {\n",
       "        text-align: right;\n",
       "    }\n",
       "</style>\n",
       "<table border=\"1\" class=\"dataframe\">\n",
       "  <thead>\n",
       "    <tr style=\"text-align: right;\">\n",
       "      <th></th>\n",
       "      <th>number_of_reviews</th>\n",
       "      <th>Rating</th>\n",
       "    </tr>\n",
       "  </thead>\n",
       "  <tbody>\n",
       "    <tr>\n",
       "      <th>number_of_reviews</th>\n",
       "      <td>1.000000</td>\n",
       "      <td>0.034177</td>\n",
       "    </tr>\n",
       "    <tr>\n",
       "      <th>Rating</th>\n",
       "      <td>0.034177</td>\n",
       "      <td>1.000000</td>\n",
       "    </tr>\n",
       "  </tbody>\n",
       "</table>\n",
       "</div>"
      ],
      "text/plain": [
       "                   number_of_reviews    Rating\n",
       "number_of_reviews           1.000000  0.034177\n",
       "Rating                      0.034177  1.000000"
      ]
     },
     "execution_count": 881,
     "metadata": {},
     "output_type": "execute_result"
    }
   ],
   "source": [
    "data[['number_of_reviews','Rating']].corr()"
   ]
  },
  {
   "cell_type": "code",
   "execution_count": null,
   "id": "8f935492",
   "metadata": {},
   "outputs": [],
   "source": []
  },
  {
   "cell_type": "markdown",
   "id": "99b11537",
   "metadata": {},
   "source": [
    "Начнем заполнять пропуски в разрезе трех категориальных столбцов: country, ranking_categories, age_ta_categories. От этих признаков количество отзывов зависит больше всего."
   ]
  },
  {
   "cell_type": "code",
   "execution_count": 893,
   "id": "89c2c2bd",
   "metadata": {},
   "outputs": [
    {
     "data": {
      "text/plain": [
       "<AxesSubplot:xlabel='country'>"
      ]
     },
     "execution_count": 893,
     "metadata": {},
     "output_type": "execute_result"
    },
    {
     "data": {
      "image/png": "[encoded data removed]",
      "text/plain": [
       "<Figure size 432x288 with 1 Axes>"
      ]
     },
     "metadata": {
      "needs_background": "light"
     },
     "output_type": "display_data"
    }
   ],
   "source": [
    "data.groupby('country').number_of_reviews.mean().sort_values().plot(kind = 'bar')"
   ]
  },
  {
   "cell_type": "code",
   "execution_count": 894,
   "id": "dbd1ba94",
   "metadata": {},
   "outputs": [
    {
     "data": {
      "text/plain": [
       "<AxesSubplot:xlabel='ranking_categories'>"
      ]
     },
     "execution_count": 894,
     "metadata": {},
     "output_type": "execute_result"
    },
    {
     "data": {
      "image/png": "[encoded data removed]",
      "text/plain": [
       "<Figure size 432x288 with 1 Axes>"
      ]
     },
     "metadata": {
      "needs_background": "light"
     },
     "output_type": "display_data"
    }
   ],
   "source": [
    "data.groupby('ranking_categories').number_of_reviews.mean().sort_values().plot(kind = 'bar')"
   ]
  },
  {
   "cell_type": "code",
   "execution_count": 895,
   "id": "1e85ddd3",
   "metadata": {},
   "outputs": [
    {
     "data": {
      "text/plain": [
       "<AxesSubplot:xlabel='age_ta_categories'>"
      ]
     },
     "execution_count": 895,
     "metadata": {},
     "output_type": "execute_result"
    },
    {
     "data": {
      "image/png": "[encoded data removed]",
      "text/plain": [
       "<Figure size 432x288 with 1 Axes>"
      ]
     },
     "metadata": {
      "needs_background": "light"
     },
     "output_type": "display_data"
    }
   ],
   "source": [
    "data.groupby('age_ta_categories').number_of_reviews.mean().sort_values().plot(kind = 'bar')"
   ]
  },
  {
   "cell_type": "code",
   "execution_count": 882,
   "id": "8cdd1e50",
   "metadata": {},
   "outputs": [],
   "source": [
    "data.number_of_reviews.fillna(round(data.groupby(['country','ranking_categories','age_ta_categories'])\n",
    "                                    .number_of_reviews.transform('mean'),0), inplace=True)"
   ]
  },
  {
   "cell_type": "code",
   "execution_count": 883,
   "id": "e7d69acd",
   "metadata": {},
   "outputs": [
    {
     "data": {
      "text/html": [
       "<div>\n",
       "<style scoped>\n",
       "    .dataframe tbody tr th:only-of-type {\n",
       "        vertical-align: middle;\n",
       "    }\n",
       "\n",
       "    .dataframe tbody tr th {\n",
       "        vertical-align: top;\n",
       "    }\n",
       "\n",
       "    .dataframe thead th {\n",
       "        text-align: right;\n",
       "    }\n",
       "</style>\n",
       "<table border=\"1\" class=\"dataframe\">\n",
       "  <thead>\n",
       "    <tr style=\"text-align: right;\">\n",
       "      <th></th>\n",
       "      <th>Rating</th>\n",
       "      <th>number_of_reviews</th>\n",
       "    </tr>\n",
       "  </thead>\n",
       "  <tbody>\n",
       "    <tr>\n",
       "      <th>Rating</th>\n",
       "      <td>1.00000</td>\n",
       "      <td>0.03077</td>\n",
       "    </tr>\n",
       "    <tr>\n",
       "      <th>number_of_reviews</th>\n",
       "      <td>0.03077</td>\n",
       "      <td>1.00000</td>\n",
       "    </tr>\n",
       "  </tbody>\n",
       "</table>\n",
       "</div>"
      ],
      "text/plain": [
       "                    Rating  number_of_reviews\n",
       "Rating             1.00000            0.03077\n",
       "number_of_reviews  0.03077            1.00000"
      ]
     },
     "execution_count": 883,
     "metadata": {},
     "output_type": "execute_result"
    }
   ],
   "source": [
    "data[['Rating','number_of_reviews']].corr()"
   ]
  },
  {
   "cell_type": "code",
   "execution_count": 884,
   "id": "525d6f5c",
   "metadata": {},
   "outputs": [
    {
     "data": {
      "text/plain": [
       "1159"
      ]
     },
     "execution_count": 884,
     "metadata": {},
     "output_type": "execute_result"
    }
   ],
   "source": [
    "data.number_of_reviews.isnull().sum()"
   ]
  },
  {
   "cell_type": "code",
   "execution_count": null,
   "id": "d6a3a6c5",
   "metadata": {},
   "outputs": [],
   "source": []
  },
  {
   "cell_type": "code",
   "execution_count": 885,
   "id": "fa485d68",
   "metadata": {},
   "outputs": [],
   "source": [
    "data.number_of_reviews.fillna(round(data.groupby(['ranking_categories','age_ta_categories'])\n",
    "                                    .number_of_reviews.transform('mean'),0), inplace=True)"
   ]
  },
  {
   "cell_type": "code",
   "execution_count": 886,
   "id": "90f3f8c5",
   "metadata": {},
   "outputs": [
    {
     "data": {
      "text/plain": [
       "36"
      ]
     },
     "execution_count": 886,
     "metadata": {},
     "output_type": "execute_result"
    }
   ],
   "source": [
    "data.number_of_reviews.isnull().sum()"
   ]
  },
  {
   "cell_type": "code",
   "execution_count": 887,
   "id": "d8150247",
   "metadata": {},
   "outputs": [
    {
     "data": {
      "text/html": [
       "<div>\n",
       "<style scoped>\n",
       "    .dataframe tbody tr th:only-of-type {\n",
       "        vertical-align: middle;\n",
       "    }\n",
       "\n",
       "    .dataframe tbody tr th {\n",
       "        vertical-align: top;\n",
       "    }\n",
       "\n",
       "    .dataframe thead th {\n",
       "        text-align: right;\n",
       "    }\n",
       "</style>\n",
       "<table border=\"1\" class=\"dataframe\">\n",
       "  <thead>\n",
       "    <tr style=\"text-align: right;\">\n",
       "      <th></th>\n",
       "      <th>Rating</th>\n",
       "      <th>number_of_reviews</th>\n",
       "    </tr>\n",
       "  </thead>\n",
       "  <tbody>\n",
       "    <tr>\n",
       "      <th>Rating</th>\n",
       "      <td>1.000000</td>\n",
       "      <td>0.030163</td>\n",
       "    </tr>\n",
       "    <tr>\n",
       "      <th>number_of_reviews</th>\n",
       "      <td>0.030163</td>\n",
       "      <td>1.000000</td>\n",
       "    </tr>\n",
       "  </tbody>\n",
       "</table>\n",
       "</div>"
      ],
      "text/plain": [
       "                     Rating  number_of_reviews\n",
       "Rating             1.000000           0.030163\n",
       "number_of_reviews  0.030163           1.000000"
      ]
     },
     "execution_count": 887,
     "metadata": {},
     "output_type": "execute_result"
    }
   ],
   "source": [
    "data[['Rating','number_of_reviews']].corr()"
   ]
  },
  {
   "cell_type": "code",
   "execution_count": 888,
   "id": "26a5d92c",
   "metadata": {},
   "outputs": [],
   "source": [
    "data.number_of_reviews.fillna(round(data.groupby(['ranking_categories'])\n",
    "                                    .number_of_reviews.transform('mean'),0), inplace=True)"
   ]
  },
  {
   "cell_type": "code",
   "execution_count": 889,
   "id": "80e7b152",
   "metadata": {},
   "outputs": [
    {
     "data": {
      "text/plain": [
       "0"
      ]
     },
     "execution_count": 889,
     "metadata": {},
     "output_type": "execute_result"
    }
   ],
   "source": [
    "data.number_of_reviews.isnull().sum()"
   ]
  },
  {
   "cell_type": "code",
   "execution_count": 890,
   "id": "756c4646",
   "metadata": {},
   "outputs": [
    {
     "data": {
      "text/html": [
       "<div>\n",
       "<style scoped>\n",
       "    .dataframe tbody tr th:only-of-type {\n",
       "        vertical-align: middle;\n",
       "    }\n",
       "\n",
       "    .dataframe tbody tr th {\n",
       "        vertical-align: top;\n",
       "    }\n",
       "\n",
       "    .dataframe thead th {\n",
       "        text-align: right;\n",
       "    }\n",
       "</style>\n",
       "<table border=\"1\" class=\"dataframe\">\n",
       "  <thead>\n",
       "    <tr style=\"text-align: right;\">\n",
       "      <th></th>\n",
       "      <th>Rating</th>\n",
       "      <th>number_of_reviews</th>\n",
       "    </tr>\n",
       "  </thead>\n",
       "  <tbody>\n",
       "    <tr>\n",
       "      <th>Rating</th>\n",
       "      <td>1.000000</td>\n",
       "      <td>0.030339</td>\n",
       "    </tr>\n",
       "    <tr>\n",
       "      <th>number_of_reviews</th>\n",
       "      <td>0.030339</td>\n",
       "      <td>1.000000</td>\n",
       "    </tr>\n",
       "  </tbody>\n",
       "</table>\n",
       "</div>"
      ],
      "text/plain": [
       "                     Rating  number_of_reviews\n",
       "Rating             1.000000           0.030339\n",
       "number_of_reviews  0.030339           1.000000"
      ]
     },
     "execution_count": 890,
     "metadata": {},
     "output_type": "execute_result"
    }
   ],
   "source": [
    "data[['Rating','number_of_reviews']].corr()"
   ]
  },
  {
   "cell_type": "markdown",
   "id": "02df9ecc",
   "metadata": {},
   "source": [
    "### Создание признака reviews_month (количество отзывов в месяц)\n",
    "Можно сказать, что это частота озывов."
   ]
  },
  {
   "cell_type": "code",
   "execution_count": 896,
   "id": "87730481",
   "metadata": {},
   "outputs": [],
   "source": [
    "data['reviews_month'] = round(data['number_of_reviews'] / (data['age_ta'] / 30),1)"
   ]
  },
  {
   "cell_type": "markdown",
   "id": "3e15bef4",
   "metadata": {},
   "source": [
    "### Создание признаков fresh_review_1 (давность предпоследнего отзыва),  fresh_review_1 (давность последнего отзыва) и between_reviews (время между отзывами)\n",
    "Для это из даты взятия данных для датасета 2018-02-26 вычитаем дату отзывов и из даты последнего отзыва вычитаем дату предпоследнего."
   ]
  },
  {
   "cell_type": "code",
   "execution_count": 897,
   "id": "a0730e15",
   "metadata": {},
   "outputs": [],
   "source": [
    "data['fresh_review_1'] = data['date_1'].max() - data['date_1']\n",
    "data['fresh_review_2'] = data['date_2'].max() - data['date_2']\n",
    "data['between_reviews'] = data['date_2'] - data['date_1']"
   ]
  },
  {
   "cell_type": "markdown",
   "id": "ba704090",
   "metadata": {},
   "source": [
    "Для расчетов переведем тип timedelta во float."
   ]
  },
  {
   "cell_type": "code",
   "execution_count": 898,
   "id": "d3a48c6a",
   "metadata": {},
   "outputs": [],
   "source": [
    "data['fresh_review_1'] = data['fresh_review_1'].dt.days\n",
    "data['fresh_review_2'] = data['fresh_review_2'].dt.days\n",
    "data['between_reviews'] = data['between_reviews'].dt.days"
   ]
  },
  {
   "cell_type": "markdown",
   "id": "776ed996",
   "metadata": {},
   "source": [
    "### Заполнение пропусков в столбцах fresh_review_1, fresh_review_2 и between_reviews\n",
    "Так как в некоторых отзывах-строках еще до их преобразования содержались только кавычки и скобки, то после их раскрытия появились пустые отзывы без дат.\n",
    "\n",
    "Заполним эти пропуски в разрезе столбца ranking_stars."
   ]
  },
  {
   "cell_type": "code",
   "execution_count": 899,
   "id": "b3bd47b7",
   "metadata": {},
   "outputs": [],
   "source": [
    "data.fresh_review_1.fillna(round(data.groupby(['ranking_categories'])\n",
    "                                 .fresh_review_1.transform('median'),0), inplace=True)\n",
    "\n",
    "data.fresh_review_2.fillna(round(data.groupby(['ranking_categories'])\n",
    "                                 .fresh_review_2.transform('median'),0), inplace=True)\n",
    "\n",
    "data.between_reviews.fillna(round(data.groupby(['ranking_categories'])\n",
    "                                  .between_reviews.transform('median'),0), inplace=True)"
   ]
  },
  {
   "cell_type": "markdown",
   "id": "cd237f50",
   "metadata": {},
   "source": [
    "### Создание столбца michelin_population, rest_population, michelin_rest\n",
    "На основе данных из  Guide о количестве рекомендованных для посещения ресторанов в каждом из городов датасета и данных о численности населения этих городов, а также о количестве ресторанов в датасете вручную составим словарь. "
   ]
  },
  {
   "cell_type": "code",
   "execution_count": 900,
   "id": "bedb1b7e",
   "metadata": {},
   "outputs": [],
   "source": [
    "michelin_rest_populat = {'Paris': [426, 2148327, 13986.0],\n",
    "                         'Stockholm': [40, 1006984, 2464.0],\n",
    "                         'London': [390, 8908081, 16444.0],\n",
    "                         'Berlin': [64, 3644826, 6372.0],\n",
    "                         'Munich': [56, 1471508, 2763.0],\n",
    "                         'Oporto': [21, 287591, 1484.0],\n",
    "                         'Milan': [82, 1366180, 6275.0],\n",
    "                         'Bratislava': [0, 437725, 889.0],\n",
    "                         'Vienna': [54, 1911191, 3444.0],\n",
    "                         'Rome': [53, 2870500, 5946.0],\n",
    "                         'Barcelona': [63, 1664182, 7796.0],\n",
    "                         'Madrid': [97, 3334730, 8809.0],\n",
    "                         'Dublin': [43, 1173179, 1960.0],\n",
    "                         'Brussels': [36, 185103, 3004.0],\n",
    "                         'Zurich': [62, 434008, 1590.0],\n",
    "                         'Warsaw': [15, 1790658,  2141.0],\n",
    "                         'Budapest': [23, 1752286, 2438.0],\n",
    "                         'Copenhagen': [61, 794128, 1964.0],\n",
    "                         'Amsterdam': [68, 860124, 3249.0],\n",
    "                         'Lyon': [81, 2233221, 2666.0],\n",
    "                         'Hamburg': [52, 1845229, 2736.0],\n",
    "                         'Lisbon': [35, 506654, 3717.0],\n",
    "                         'Prague': [24, 1335084, 4188.0],\n",
    "                         'Oslo': [32, 693494, 1137.0],\n",
    "                         'Helsinki': [26, 656611, 1141.0],\n",
    "                         'Edinburgh': [22, 488050, 1766.0],\n",
    "                         'Geneva': [50, 201818, 1413.0],\n",
    "                         'Ljubljana': [17, 286745, 468.0],\n",
    "                         'Athens': [19, 664046, 1787.0],\n",
    "                         'Luxembourg': [56, 633622, 621.0],\n",
    "                         'Krakow': [1, 779115, 1244.0]}"
   ]
  },
  {
   "cell_type": "code",
   "execution_count": 901,
   "id": "ad9bd150",
   "metadata": {},
   "outputs": [],
   "source": [
    "data['michelin_population'] = data.apply(lambda x: michelin_rest_populat[x['city']][0]\n",
    "                                         / michelin_rest_populat[x['city']][1], axis = 1)\n",
    "# Количество мишленовских ресторанов на население города."
   ]
  },
  {
   "cell_type": "code",
   "execution_count": 902,
   "id": "2fdbc174",
   "metadata": {},
   "outputs": [],
   "source": [
    "data['rest_population'] = data.apply(lambda x: michelin_rest_populat[x['city']][2]\n",
    "                                         / michelin_rest_populat[x['city']][1], axis = 1)\n",
    "# Общее количество ресторанов на население города."
   ]
  },
  {
   "cell_type": "code",
   "execution_count": 903,
   "id": "71e02694",
   "metadata": {},
   "outputs": [],
   "source": [
    "data['michelin_rest'] = data.apply(lambda x: michelin_rest_populat[x['city']][0]\n",
    "                                         / michelin_rest_populat[x['city']][2], axis = 1)\n",
    "# Отношение мишленовских ресторанов к общему количеству ресторанов."
   ]
  },
  {
   "cell_type": "code",
   "execution_count": 906,
   "id": "bb71472c",
   "metadata": {},
   "outputs": [
    {
     "name": "stdout",
     "output_type": "stream",
     "text": [
      "<class 'pandas.core.frame.DataFrame'>\n",
      "RangeIndex: 40000 entries, 0 to 39999\n",
      "Data columns (total 31 columns):\n",
      " #   Column                   Non-Null Count  Dtype         \n",
      "---  ------                   --------------  -----         \n",
      " 0   Restaurant_id            40000 non-null  object        \n",
      " 1   city                     40000 non-null  object        \n",
      " 2   cuisine_style            40000 non-null  object        \n",
      " 3   ranking                  40000 non-null  float64       \n",
      " 4   Rating                   40000 non-null  float64       \n",
      " 5   price_range              40000 non-null  float64       \n",
      " 6   number_of_reviews        40000 non-null  float64       \n",
      " 7   reviews                  40000 non-null  object        \n",
      " 8   url_ta                   40000 non-null  object        \n",
      " 9   id_ta                    40000 non-null  int64         \n",
      " 10  review_2                 40000 non-null  object        \n",
      " 11  date_2                   33529 non-null  datetime64[ns]\n",
      " 12  review_1                 40000 non-null  object        \n",
      " 13  date_1                   28973 non-null  datetime64[ns]\n",
      " 14  name_rest                40000 non-null  object        \n",
      " 15  cuisine_style_isnan      40000 non-null  uint8         \n",
      " 16  price_range_isnan        40000 non-null  uint8         \n",
      " 17  ranking_norm             40000 non-null  float64       \n",
      " 18  ranking_standard         40000 non-null  float64       \n",
      " 19  ranking_categories       40000 non-null  float64       \n",
      " 20  age_ta                   40000 non-null  int64         \n",
      " 21  age_ta_categories        40000 non-null  float64       \n",
      " 22  country                  40000 non-null  object        \n",
      " 23  number_of_reviews_isnan  40000 non-null  uint8         \n",
      " 24  reviews_month            40000 non-null  float64       \n",
      " 25  fresh_review_1           40000 non-null  float64       \n",
      " 26  fresh_review_2           40000 non-null  float64       \n",
      " 27  between_reviews          40000 non-null  float64       \n",
      " 28  michelin_population      40000 non-null  float64       \n",
      " 29  rest_population          40000 non-null  float64       \n",
      " 30  michelin_rest            40000 non-null  float64       \n",
      "dtypes: datetime64[ns](2), float64(15), int64(2), object(9), uint8(3)\n",
      "memory usage: 8.7+ MB\n"
     ]
    }
   ],
   "source": [
    "data.info()"
   ]
  },
  {
   "cell_type": "markdown",
   "id": "a0613bef",
   "metadata": {},
   "source": [
    "### Перевод столбца city в числовой тип (Dummy-переменную)\n",
    "Столбец city - это категориальная номинативная переменная имеющая тип object. Нейросеть не понимает строковые данные, ей нужны только цифры. Создадим на основе столбца city dummy-переменную, то есть отдельный столбец для каждого города, в котором будет значение 1, если название столбца совпадает со значением в столбце city, а в остальных случаях - 0."
   ]
  },
  {
   "cell_type": "code",
   "execution_count": 908,
   "id": "b16e7547",
   "metadata": {},
   "outputs": [
    {
     "ename": "KeyError",
     "evalue": "\"None of [Index(['city'], dtype='object')] are in the [columns]\"",
     "output_type": "error",
     "traceback": [
      "\u001b[1;31m---------------------------------------------------------------------------\u001b[0m",
      "\u001b[1;31mKeyError\u001b[0m                                  Traceback (most recent call last)",
      "\u001b[1;32m<ipython-input-908-95a6ee1b9bf3>\u001b[0m in \u001b[0;36m<module>\u001b[1;34m\u001b[0m\n\u001b[1;32m----> 1\u001b[1;33m \u001b[0mdata\u001b[0m \u001b[1;33m=\u001b[0m \u001b[0mpd\u001b[0m\u001b[1;33m.\u001b[0m\u001b[0mget_dummies\u001b[0m\u001b[1;33m(\u001b[0m\u001b[0mdata\u001b[0m\u001b[1;33m,\u001b[0m \u001b[0mcolumns\u001b[0m \u001b[1;33m=\u001b[0m \u001b[1;33m[\u001b[0m\u001b[1;34m'city'\u001b[0m\u001b[1;33m]\u001b[0m\u001b[1;33m,\u001b[0m \u001b[0mdummy_na\u001b[0m \u001b[1;33m=\u001b[0m \u001b[1;32mTrue\u001b[0m\u001b[1;33m)\u001b[0m\u001b[1;33m\u001b[0m\u001b[1;33m\u001b[0m\u001b[0m\n\u001b[0m",
      "\u001b[1;32mC:\\ANACONDA\\lib\\site-packages\\pandas\\core\\reshape\\reshape.py\u001b[0m in \u001b[0;36mget_dummies\u001b[1;34m(data, prefix, prefix_sep, dummy_na, columns, sparse, drop_first, dtype)\u001b[0m\n\u001b[0;32m    845\u001b[0m             \u001b[1;32mraise\u001b[0m \u001b[0mTypeError\u001b[0m\u001b[1;33m(\u001b[0m\u001b[1;34m\"Input must be a list-like for parameter `columns`\"\u001b[0m\u001b[1;33m)\u001b[0m\u001b[1;33m\u001b[0m\u001b[1;33m\u001b[0m\u001b[0m\n\u001b[0;32m    846\u001b[0m         \u001b[1;32melse\u001b[0m\u001b[1;33m:\u001b[0m\u001b[1;33m\u001b[0m\u001b[1;33m\u001b[0m\u001b[0m\n\u001b[1;32m--> 847\u001b[1;33m             \u001b[0mdata_to_encode\u001b[0m \u001b[1;33m=\u001b[0m \u001b[0mdata\u001b[0m\u001b[1;33m[\u001b[0m\u001b[0mcolumns\u001b[0m\u001b[1;33m]\u001b[0m\u001b[1;33m\u001b[0m\u001b[1;33m\u001b[0m\u001b[0m\n\u001b[0m\u001b[0;32m    848\u001b[0m \u001b[1;33m\u001b[0m\u001b[0m\n\u001b[0;32m    849\u001b[0m         \u001b[1;31m# validate prefixes and separator to avoid silently dropping cols\u001b[0m\u001b[1;33m\u001b[0m\u001b[1;33m\u001b[0m\u001b[1;33m\u001b[0m\u001b[0m\n",
      "\u001b[1;32mC:\\ANACONDA\\lib\\site-packages\\pandas\\core\\frame.py\u001b[0m in \u001b[0;36m__getitem__\u001b[1;34m(self, key)\u001b[0m\n\u001b[0;32m   3028\u001b[0m             \u001b[1;32mif\u001b[0m \u001b[0mis_iterator\u001b[0m\u001b[1;33m(\u001b[0m\u001b[0mkey\u001b[0m\u001b[1;33m)\u001b[0m\u001b[1;33m:\u001b[0m\u001b[1;33m\u001b[0m\u001b[1;33m\u001b[0m\u001b[0m\n\u001b[0;32m   3029\u001b[0m                 \u001b[0mkey\u001b[0m \u001b[1;33m=\u001b[0m \u001b[0mlist\u001b[0m\u001b[1;33m(\u001b[0m\u001b[0mkey\u001b[0m\u001b[1;33m)\u001b[0m\u001b[1;33m\u001b[0m\u001b[1;33m\u001b[0m\u001b[0m\n\u001b[1;32m-> 3030\u001b[1;33m             \u001b[0mindexer\u001b[0m \u001b[1;33m=\u001b[0m \u001b[0mself\u001b[0m\u001b[1;33m.\u001b[0m\u001b[0mloc\u001b[0m\u001b[1;33m.\u001b[0m\u001b[0m_get_listlike_indexer\u001b[0m\u001b[1;33m(\u001b[0m\u001b[0mkey\u001b[0m\u001b[1;33m,\u001b[0m \u001b[0maxis\u001b[0m\u001b[1;33m=\u001b[0m\u001b[1;36m1\u001b[0m\u001b[1;33m,\u001b[0m \u001b[0mraise_missing\u001b[0m\u001b[1;33m=\u001b[0m\u001b[1;32mTrue\u001b[0m\u001b[1;33m)\u001b[0m\u001b[1;33m[\u001b[0m\u001b[1;36m1\u001b[0m\u001b[1;33m]\u001b[0m\u001b[1;33m\u001b[0m\u001b[1;33m\u001b[0m\u001b[0m\n\u001b[0m\u001b[0;32m   3031\u001b[0m \u001b[1;33m\u001b[0m\u001b[0m\n\u001b[0;32m   3032\u001b[0m         \u001b[1;31m# take() does not accept boolean indexers\u001b[0m\u001b[1;33m\u001b[0m\u001b[1;33m\u001b[0m\u001b[1;33m\u001b[0m\u001b[0m\n",
      "\u001b[1;32mC:\\ANACONDA\\lib\\site-packages\\pandas\\core\\indexing.py\u001b[0m in \u001b[0;36m_get_listlike_indexer\u001b[1;34m(self, key, axis, raise_missing)\u001b[0m\n\u001b[0;32m   1264\u001b[0m             \u001b[0mkeyarr\u001b[0m\u001b[1;33m,\u001b[0m \u001b[0mindexer\u001b[0m\u001b[1;33m,\u001b[0m \u001b[0mnew_indexer\u001b[0m \u001b[1;33m=\u001b[0m \u001b[0max\u001b[0m\u001b[1;33m.\u001b[0m\u001b[0m_reindex_non_unique\u001b[0m\u001b[1;33m(\u001b[0m\u001b[0mkeyarr\u001b[0m\u001b[1;33m)\u001b[0m\u001b[1;33m\u001b[0m\u001b[1;33m\u001b[0m\u001b[0m\n\u001b[0;32m   1265\u001b[0m \u001b[1;33m\u001b[0m\u001b[0m\n\u001b[1;32m-> 1266\u001b[1;33m         \u001b[0mself\u001b[0m\u001b[1;33m.\u001b[0m\u001b[0m_validate_read_indexer\u001b[0m\u001b[1;33m(\u001b[0m\u001b[0mkeyarr\u001b[0m\u001b[1;33m,\u001b[0m \u001b[0mindexer\u001b[0m\u001b[1;33m,\u001b[0m \u001b[0maxis\u001b[0m\u001b[1;33m,\u001b[0m \u001b[0mraise_missing\u001b[0m\u001b[1;33m=\u001b[0m\u001b[0mraise_missing\u001b[0m\u001b[1;33m)\u001b[0m\u001b[1;33m\u001b[0m\u001b[1;33m\u001b[0m\u001b[0m\n\u001b[0m\u001b[0;32m   1267\u001b[0m         \u001b[1;32mreturn\u001b[0m \u001b[0mkeyarr\u001b[0m\u001b[1;33m,\u001b[0m \u001b[0mindexer\u001b[0m\u001b[1;33m\u001b[0m\u001b[1;33m\u001b[0m\u001b[0m\n\u001b[0;32m   1268\u001b[0m \u001b[1;33m\u001b[0m\u001b[0m\n",
      "\u001b[1;32mC:\\ANACONDA\\lib\\site-packages\\pandas\\core\\indexing.py\u001b[0m in \u001b[0;36m_validate_read_indexer\u001b[1;34m(self, key, indexer, axis, raise_missing)\u001b[0m\n\u001b[0;32m   1306\u001b[0m             \u001b[1;32mif\u001b[0m \u001b[0mmissing\u001b[0m \u001b[1;33m==\u001b[0m \u001b[0mlen\u001b[0m\u001b[1;33m(\u001b[0m\u001b[0mindexer\u001b[0m\u001b[1;33m)\u001b[0m\u001b[1;33m:\u001b[0m\u001b[1;33m\u001b[0m\u001b[1;33m\u001b[0m\u001b[0m\n\u001b[0;32m   1307\u001b[0m                 \u001b[0maxis_name\u001b[0m \u001b[1;33m=\u001b[0m \u001b[0mself\u001b[0m\u001b[1;33m.\u001b[0m\u001b[0mobj\u001b[0m\u001b[1;33m.\u001b[0m\u001b[0m_get_axis_name\u001b[0m\u001b[1;33m(\u001b[0m\u001b[0maxis\u001b[0m\u001b[1;33m)\u001b[0m\u001b[1;33m\u001b[0m\u001b[1;33m\u001b[0m\u001b[0m\n\u001b[1;32m-> 1308\u001b[1;33m                 \u001b[1;32mraise\u001b[0m \u001b[0mKeyError\u001b[0m\u001b[1;33m(\u001b[0m\u001b[1;34mf\"None of [{key}] are in the [{axis_name}]\"\u001b[0m\u001b[1;33m)\u001b[0m\u001b[1;33m\u001b[0m\u001b[1;33m\u001b[0m\u001b[0m\n\u001b[0m\u001b[0;32m   1309\u001b[0m \u001b[1;33m\u001b[0m\u001b[0m\n\u001b[0;32m   1310\u001b[0m             \u001b[0max\u001b[0m \u001b[1;33m=\u001b[0m \u001b[0mself\u001b[0m\u001b[1;33m.\u001b[0m\u001b[0mobj\u001b[0m\u001b[1;33m.\u001b[0m\u001b[0m_get_axis\u001b[0m\u001b[1;33m(\u001b[0m\u001b[0maxis\u001b[0m\u001b[1;33m)\u001b[0m\u001b[1;33m\u001b[0m\u001b[1;33m\u001b[0m\u001b[0m\n",
      "\u001b[1;31mKeyError\u001b[0m: \"None of [Index(['city'], dtype='object')] are in the [columns]\""
     ]
    }
   ],
   "source": [
    "data = pd.get_dummies(data, columns = ['city'], dummy_na = True)"
   ]
  },
  {
   "cell_type": "markdown",
   "id": "3cf5508a",
   "metadata": {},
   "source": [
    "### Перевод столбца country в числовой тип (Dummy-переменную)"
   ]
  },
  {
   "cell_type": "code",
   "execution_count": 909,
   "id": "2557ce09",
   "metadata": {},
   "outputs": [],
   "source": [
    "data = pd.get_dummies(data, columns = ['country'], dummy_na = True)"
   ]
  },
  {
   "cell_type": "markdown",
   "id": "16172f97",
   "metadata": {},
   "source": [
    "### Перевод столбца cuisine в числовой вид (создание Dummy-переменной)"
   ]
  },
  {
   "cell_type": "code",
   "execution_count": 910,
   "id": "3698d654",
   "metadata": {},
   "outputs": [],
   "source": [
    "for cuisine in cuisine_list_improv:\n",
    "    data[cuisine] = data['cuisine_style'].apply(lambda x: 1 if cuisine in x else 0)"
   ]
  },
  {
   "cell_type": "markdown",
   "id": "13713f61",
   "metadata": {},
   "source": [
    "### Удаление не нужных столбцов"
   ]
  },
  {
   "cell_type": "code",
   "execution_count": 911,
   "id": "8a836e08",
   "metadata": {},
   "outputs": [],
   "source": [
    "data1 = data.copy()"
   ]
  },
  {
   "cell_type": "code",
   "execution_count": 912,
   "id": "67881d6c",
   "metadata": {},
   "outputs": [],
   "source": [
    "data1.drop(['Restaurant_id','url_ta','reviews','review_2','review_1', 'date_2', 'date_1',\n",
    "       'cuisine_style','name_rest'], axis = 1, inplace = True)"
   ]
  },
  {
   "cell_type": "markdown",
   "id": "ca393f11",
   "metadata": {},
   "source": [
    "# Разбиваем датафрейм на части, необходимые для обучения и тестирования модели"
   ]
  },
  {
   "cell_type": "code",
   "execution_count": 913,
   "id": "195957cf",
   "metadata": {},
   "outputs": [],
   "source": [
    "# Х - данные с информацией о ресторанах, у - целевая переменная (рейтинги ресторанов)\n",
    "X = data1.drop(['Rating'], axis = 1)\n",
    "y = data1['Rating']"
   ]
  },
  {
   "cell_type": "code",
   "execution_count": 914,
   "id": "e6871cf1",
   "metadata": {},
   "outputs": [],
   "source": [
    "# Загружаем специальный инструмент для разбивки:\n",
    "from sklearn.model_selection import train_test_split"
   ]
  },
  {
   "cell_type": "code",
   "execution_count": 915,
   "id": "93a091ab",
   "metadata": {},
   "outputs": [],
   "source": [
    "# Наборы данных с меткой \"train\" будут использоваться для обучения модели, \"test\" - для тестирования.\n",
    "# Для тестирования мы будем использовать 25% от исходного датасета.\n",
    "X_train, X_test, y_train, y_test = train_test_split(X, y, test_size=0.25)"
   ]
  },
  {
   "cell_type": "markdown",
   "id": "c9a2f848",
   "metadata": {},
   "source": [
    "# Создаём, обучаем и тестируем модель"
   ]
  },
  {
   "cell_type": "code",
   "execution_count": 916,
   "id": "1ede86ad",
   "metadata": {},
   "outputs": [],
   "source": [
    "# Импортируем необходимые библиотеки:\n",
    "from sklearn.ensemble import RandomForestRegressor # инструмент для создания и обучения модели\n",
    "from sklearn import metrics # инструменты для оценки точности модели"
   ]
  },
  {
   "cell_type": "code",
   "execution_count": 917,
   "id": "69b4ef15",
   "metadata": {},
   "outputs": [],
   "source": [
    "# Создаём модель\n",
    "regr = RandomForestRegressor(n_estimators=100)\n",
    "\n",
    "# Обучаем модель на тестовом наборе данных\n",
    "regr.fit(X_train, y_train)\n",
    "\n",
    "# Используем обученную модель для предсказания рейтинга ресторанов в тестовой выборке.\n",
    "# Предсказанные значения записываем в переменную y_pred\n",
    "y_pred = regr.predict(X_test)"
   ]
  },
  {
   "cell_type": "code",
   "execution_count": 918,
   "id": "2f929e0f",
   "metadata": {},
   "outputs": [
    {
     "name": "stdout",
     "output_type": "stream",
     "text": [
      "MAE: 0.20106149999999998\n"
     ]
    }
   ],
   "source": [
    "# Сравниваем предсказанные значения (y_pred) с реальными (y_test), и смотрим насколько они в среднем отличаются\n",
    "# Метрика называется Mean Absolute Error (MAE) и показывает среднее отклонение предсказанных значений от фактических.\n",
    "print('MAE:', metrics.mean_absolute_error(y_test, y_pred))"
   ]
  },
  {
   "cell_type": "code",
   "execution_count": null,
   "id": "927a1387",
   "metadata": {},
   "outputs": [],
   "source": []
  }
 ],
 "metadata": {
  "kernelspec": {
   "display_name": "Python 3",
   "language": "python",
   "name": "python3"
  },
  "language_info": {
   "codemirror_mode": {
    "name": "ipython",
    "version": 3
   },
   "file_extension": ".py",
   "mimetype": "text/x-python",
   "name": "python",
   "nbconvert_exporter": "python",
   "pygments_lexer": "ipython3",
   "version": "3.8.8"
  }
 },
 "nbformat": 4,
 "nbformat_minor": 5
}
