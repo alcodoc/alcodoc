{
 "cells": [
  {
   "cell_type": "code",
   "execution_count": 215,
   "id": "307b3043",
   "metadata": {},
   "outputs": [],
   "source": [
    "import numpy as np\n",
    "import pandas as pd\n",
    "import matplotlib.pyplot as plt\n",
    "plt.style.use('seaborn-white')\n",
    "%matplotlib inline\n",
    "import seaborn as sns\n",
    "from itertools import combinations\n",
    "from scipy.stats import ttest_ind\n",
    "from scipy.stats import shapiro\n",
    "from scipy.stats import normaltest\n",
    "\n",
    "stud_0 = pd.read_csv('stud_math.csv')\n",
    "\n",
    "\n",
    "def stat_dif(column): # Принимает столбец.\n",
    "    cols = stud[column].value_counts().index\n",
    "    # Получаем список возможных значений в стольбце.\n",
    "    combinations_all = list(combinations(column, 2))\n",
    "    # Получаем список возможных попарных комбинаций значений.\n",
    "    for comb in combinations_all:\n",
    "    # Берем одну комбинацию (пару) из списка комбинаций.\n",
    "        if ttest_ind(stud.loc[stud[column] == comb[0], 'score'],\n",
    "                     stud.loc[stud[column] == comb[1], 'score']).pvalue <= 0.05:\n",
    "        # Проверка условия - вероятность ошибки меньше предельной (0.05)/число комбинаций(поправка Бонферони)\n",
    "        # 1 атрибут - выбранный столбей фильтруем по значению первого элемента в паре [0] (комбинации).\n",
    "        # 2 атрибут - выбранный столбей фильтруем по значению второго элемента в паре [1] (комбинации).\n",
    "            print('Найдены статистически значимые различия между категориями колонки', column)\n",
    "        else:\n",
    "            print('Не найдено статистически значимых различий между категориями колонки', column) \n",
    "\n",
    "\n",
    "def abs_cat(x):         # Функция разбивающая весь диапазон значений \n",
    "    if x <= 3:          # количественной переменнойной  absences на \n",
    "        x = 'diligent'  # заданные диапазоны, и присваивающая имена\n",
    "    elif x <= 10:       # этим диапазонам. Предназначена для создания\n",
    "        x = 'normal'    # категориальной переменной из количественной.\n",
    "    else:\n",
    "        x = 'truant'\n",
    "    return x\n",
    "\n",
    "\n",
    "def win_los(x):       # Функвия для создания категориального столбца  \n",
    "    if x < 2:         # на основе количественного столбца 'failures'.\n",
    "        x = 'winner'  # Разбивает количество неудач на 2 большие категории:\n",
    "    else:             # победители и неудачники.\n",
    "        x = 'loser'   \n",
    "    return x  \n",
    "\n",
    "\n",
    "def show_box_stat(column):\n",
    "    fig, ax = plt.subplots(figsize = (6, 6))\n",
    "    sns.boxplot(x=column, y='score', data=stud)\n",
    "    ax.set_title('Boxplot for ' + column)\n",
    "    plt.show()\n",
    "    print(stud.groupby(column).score.describe())\n",
    "# Функция выводит диаграмму \"ящик с усами\" и основные статистики\n",
    "# для каждого категориального столбца в отношении целевого параметра 'score'.\n",
    "# В качестве аргумента принимает список категориальных столбцов."
   ]
  },
  {
   "cell_type": "markdown",
   "id": "0d6f3294",
   "metadata": {},
   "source": [
    "### Данные хранящиеся в столбцах\n",
    "\n",
    "1  **school** — аббревиатура школы, в которой учится ученик\n",
    "\n",
    "2  **sex** — пол ученика ('F' - женский, 'M' - мужской)\n",
    "\n",
    "3  **age** — возраст ученика (от 15 до 22)\n",
    "\n",
    "4  **address** — тип адреса ученика ('U' - городской, 'R' - за городом)\n",
    "\n",
    "5  **famsize** — размер семьи('LE3' <= 3, 'GT3' >3)\n",
    "\n",
    "6  **Pstatus** — статус совместного жилья родителей ('T' - живут вместе 'A' - раздельно)\n",
    "\n",
    "7  **Medu** — образование матери \n",
    "(0 - нет, 1 - 4 класса, 2 - 5-9 классы, 3 - среднее специальное или 11 классов, 4 - высшее)\n",
    "\n",
    "8  **Fedu** — образование отца \n",
    "(0- нет, 1 - 4 класса, 2 - 5-9 классы, 3 - среднее специальное или 11 классов, 4 - высшее)\n",
    "\n",
    "9 **Mjob** — работа матери ('teacher' - учитель, 'health' - сфера здравоохранения, 'services' - гос служба, 'at_home' - не работает, 'other' - другое)\n",
    "\n",
    "10 **Fjob** — работа отца ('teacher' - учитель, 'health' - сфера здравоохранения, 'services' - гос служба, 'at_home' - не работает, 'other' - другое)\n",
    "\n",
    "11 **reason** — причина выбора школы ('home' - близость к дому, 'reputation' - репутация школы, 'course' - образовательная программа, 'other' - другое)\n",
    "\n",
    "12 **guardian** — опекун ('mother' - мать, 'father' - отец, 'other' - другое)\n",
    "\n",
    "13 **traveltime** — время в пути до школы (1 - <15 мин., 2 - 15-30 мин., 3 - 30-60 мин., 4 - >60 мин.)\n",
    "\n",
    "14 **studytime** — время на учёбу помимо школы в неделю (1 - <2 часов, 2 - 2-5 часов, 3 - 5-10 часов, 4 - >10 часов)\n",
    "\n",
    "15 **failures** — количество внеучебных неудач (n, если 1<=n<=3, иначе 0)\n",
    "\n",
    "16 **schoolsup** — дополнительная образовательная поддержка (yes или no)\n",
    "\n",
    "17 **famsup** — семейная образовательная поддержка (yes или no)\n",
    "\n",
    "18 **paid** — дополнительные платные занятия по математике (yes или no)\n",
    "\n",
    "19 **activities** — дополнительные внеучебные занятия (yes или no)\n",
    "\n",
    "20 **nursery** — посещал детский сад (yes или no)\n",
    "\n",
    "21 **higher** — хочет получить высшее образование (yes или no)\n",
    "\n",
    "22 **internet** — наличие интернета дома (yes или no)\n",
    "\n",
    "23 **romantic** — в романтических отношениях (yes или no)\n",
    "\n",
    "24 **famrel** — семейные отношения (от 1 - очень плохо до 5 - очень хорошо)\n",
    "\n",
    "25 **freetime** — свободное время после школы (от 1 - очень мало до 5 - очень мого)\n",
    "\n",
    "26 **goout** — проведение времени с друзьями (от 1 - очень мало до 5 - очень много)\n",
    "\n",
    "27 **healt** — текущее состояние здоровья (от 1 - очень плохо до 5 - очень хорошо)\n",
    "\n",
    "28 **absences** — количество пропущенных занятий\n",
    "\n",
    "29 **score** — баллы по госэкзамену по математике"
   ]
  },
  {
   "cell_type": "code",
   "execution_count": 216,
   "id": "8305b31f",
   "metadata": {},
   "outputs": [
    {
     "data": {
      "text/html": [
       "<div>\n",
       "<style scoped>\n",
       "    .dataframe tbody tr th:only-of-type {\n",
       "        vertical-align: middle;\n",
       "    }\n",
       "\n",
       "    .dataframe tbody tr th {\n",
       "        vertical-align: top;\n",
       "    }\n",
       "\n",
       "    .dataframe thead th {\n",
       "        text-align: right;\n",
       "    }\n",
       "</style>\n",
       "<table border=\"1\" class=\"dataframe\">\n",
       "  <thead>\n",
       "    <tr style=\"text-align: right;\">\n",
       "      <th></th>\n",
       "      <th>school</th>\n",
       "      <th>sex</th>\n",
       "      <th>age</th>\n",
       "      <th>address</th>\n",
       "      <th>famsize</th>\n",
       "      <th>Pstatus</th>\n",
       "      <th>Medu</th>\n",
       "      <th>Fedu</th>\n",
       "      <th>Mjob</th>\n",
       "      <th>Fjob</th>\n",
       "      <th>...</th>\n",
       "      <th>studytime, granular</th>\n",
       "      <th>higher</th>\n",
       "      <th>internet</th>\n",
       "      <th>romantic</th>\n",
       "      <th>famrel</th>\n",
       "      <th>freetime</th>\n",
       "      <th>goout</th>\n",
       "      <th>health</th>\n",
       "      <th>absences</th>\n",
       "      <th>score</th>\n",
       "    </tr>\n",
       "  </thead>\n",
       "  <tbody>\n",
       "    <tr>\n",
       "      <th>0</th>\n",
       "      <td>GP</td>\n",
       "      <td>F</td>\n",
       "      <td>18</td>\n",
       "      <td>U</td>\n",
       "      <td>NaN</td>\n",
       "      <td>A</td>\n",
       "      <td>4.0</td>\n",
       "      <td>4.0</td>\n",
       "      <td>at_home</td>\n",
       "      <td>teacher</td>\n",
       "      <td>...</td>\n",
       "      <td>-6.0</td>\n",
       "      <td>yes</td>\n",
       "      <td>NaN</td>\n",
       "      <td>no</td>\n",
       "      <td>4.0</td>\n",
       "      <td>3.0</td>\n",
       "      <td>4.0</td>\n",
       "      <td>3.0</td>\n",
       "      <td>6.0</td>\n",
       "      <td>30.0</td>\n",
       "    </tr>\n",
       "    <tr>\n",
       "      <th>1</th>\n",
       "      <td>GP</td>\n",
       "      <td>F</td>\n",
       "      <td>17</td>\n",
       "      <td>U</td>\n",
       "      <td>GT3</td>\n",
       "      <td>NaN</td>\n",
       "      <td>1.0</td>\n",
       "      <td>1.0</td>\n",
       "      <td>at_home</td>\n",
       "      <td>other</td>\n",
       "      <td>...</td>\n",
       "      <td>-6.0</td>\n",
       "      <td>yes</td>\n",
       "      <td>yes</td>\n",
       "      <td>no</td>\n",
       "      <td>5.0</td>\n",
       "      <td>3.0</td>\n",
       "      <td>3.0</td>\n",
       "      <td>3.0</td>\n",
       "      <td>4.0</td>\n",
       "      <td>30.0</td>\n",
       "    </tr>\n",
       "    <tr>\n",
       "      <th>2</th>\n",
       "      <td>GP</td>\n",
       "      <td>F</td>\n",
       "      <td>15</td>\n",
       "      <td>U</td>\n",
       "      <td>LE3</td>\n",
       "      <td>T</td>\n",
       "      <td>1.0</td>\n",
       "      <td>1.0</td>\n",
       "      <td>at_home</td>\n",
       "      <td>other</td>\n",
       "      <td>...</td>\n",
       "      <td>-6.0</td>\n",
       "      <td>yes</td>\n",
       "      <td>yes</td>\n",
       "      <td>NaN</td>\n",
       "      <td>4.0</td>\n",
       "      <td>3.0</td>\n",
       "      <td>2.0</td>\n",
       "      <td>3.0</td>\n",
       "      <td>10.0</td>\n",
       "      <td>50.0</td>\n",
       "    </tr>\n",
       "    <tr>\n",
       "      <th>3</th>\n",
       "      <td>GP</td>\n",
       "      <td>F</td>\n",
       "      <td>15</td>\n",
       "      <td>U</td>\n",
       "      <td>GT3</td>\n",
       "      <td>T</td>\n",
       "      <td>4.0</td>\n",
       "      <td>2.0</td>\n",
       "      <td>health</td>\n",
       "      <td>NaN</td>\n",
       "      <td>...</td>\n",
       "      <td>-9.0</td>\n",
       "      <td>yes</td>\n",
       "      <td>yes</td>\n",
       "      <td>yes</td>\n",
       "      <td>3.0</td>\n",
       "      <td>2.0</td>\n",
       "      <td>2.0</td>\n",
       "      <td>5.0</td>\n",
       "      <td>2.0</td>\n",
       "      <td>75.0</td>\n",
       "    </tr>\n",
       "    <tr>\n",
       "      <th>4</th>\n",
       "      <td>GP</td>\n",
       "      <td>F</td>\n",
       "      <td>16</td>\n",
       "      <td>U</td>\n",
       "      <td>GT3</td>\n",
       "      <td>T</td>\n",
       "      <td>3.0</td>\n",
       "      <td>3.0</td>\n",
       "      <td>other</td>\n",
       "      <td>other</td>\n",
       "      <td>...</td>\n",
       "      <td>-6.0</td>\n",
       "      <td>yes</td>\n",
       "      <td>no</td>\n",
       "      <td>no</td>\n",
       "      <td>4.0</td>\n",
       "      <td>3.0</td>\n",
       "      <td>2.0</td>\n",
       "      <td>5.0</td>\n",
       "      <td>4.0</td>\n",
       "      <td>50.0</td>\n",
       "    </tr>\n",
       "  </tbody>\n",
       "</table>\n",
       "<p>5 rows × 30 columns</p>\n",
       "</div>"
      ],
      "text/plain": [
       "  school sex  age address famsize Pstatus  Medu  Fedu     Mjob     Fjob  ...  \\\n",
       "0     GP   F   18       U     NaN       A   4.0   4.0  at_home  teacher  ...   \n",
       "1     GP   F   17       U     GT3     NaN   1.0   1.0  at_home    other  ...   \n",
       "2     GP   F   15       U     LE3       T   1.0   1.0  at_home    other  ...   \n",
       "3     GP   F   15       U     GT3       T   4.0   2.0   health      NaN  ...   \n",
       "4     GP   F   16       U     GT3       T   3.0   3.0    other    other  ...   \n",
       "\n",
       "  studytime, granular higher  internet  romantic  famrel freetime goout  \\\n",
       "0                -6.0    yes       NaN        no     4.0      3.0   4.0   \n",
       "1                -6.0    yes       yes        no     5.0      3.0   3.0   \n",
       "2                -6.0    yes       yes       NaN     4.0      3.0   2.0   \n",
       "3                -9.0    yes       yes       yes     3.0      2.0   2.0   \n",
       "4                -6.0    yes        no        no     4.0      3.0   2.0   \n",
       "\n",
       "  health absences score  \n",
       "0    3.0      6.0  30.0  \n",
       "1    3.0      4.0  30.0  \n",
       "2    3.0     10.0  50.0  \n",
       "3    5.0      2.0  75.0  \n",
       "4    5.0      4.0  50.0  \n",
       "\n",
       "[5 rows x 30 columns]"
      ]
     },
     "execution_count": 216,
     "metadata": {},
     "output_type": "execute_result"
    }
   ],
   "source": [
    "stud_0.head()"
   ]
  },
  {
   "cell_type": "markdown",
   "id": "1efa1bb6",
   "metadata": {},
   "source": [
    "### Удаление столбца 'studytime, granular'.\n",
    "Столбец 'studytime, granular' (время учебы) имеет отрицательные значения, что невозможно для времени. Кроме того все значения этого столбца распределены по 4 группам, это распределение полностью повторяет распределение значений в столбце 'studytime' с той только разницей, что значения в 'studytime, granular' умножены на -3. Столбец 'studytime, granular' просто искаженно повторяет столбец 'studytime' и не содержит никакой дополнительной информации. Этот столбец удаляем."
   ]
  },
  {
   "cell_type": "code",
   "execution_count": 217,
   "id": "02fb05cb",
   "metadata": {},
   "outputs": [
    {
     "data": {
      "text/plain": [
       "-6.0     194\n",
       "-3.0     103\n",
       "-9.0      64\n",
       "-12.0     27\n",
       "Name: studytime, granular, dtype: int64"
      ]
     },
     "metadata": {},
     "output_type": "display_data"
    },
    {
     "data": {
      "text/plain": [
       "2.0    194\n",
       "1.0    103\n",
       "3.0     64\n",
       "4.0     27\n",
       "Name: studytime, dtype: int64"
      ]
     },
     "metadata": {},
     "output_type": "display_data"
    }
   ],
   "source": [
    "display(stud_0['studytime, granular'].value_counts(),\n",
    "        stud_0['studytime'].value_counts())\n",
    "# Сравниваем группировку значений в столбцах. "
   ]
  },
  {
   "cell_type": "code",
   "execution_count": 218,
   "id": "57fd2fe7",
   "metadata": {},
   "outputs": [
    {
     "data": {
      "text/html": [
       "<div>\n",
       "<style scoped>\n",
       "    .dataframe tbody tr th:only-of-type {\n",
       "        vertical-align: middle;\n",
       "    }\n",
       "\n",
       "    .dataframe tbody tr th {\n",
       "        vertical-align: top;\n",
       "    }\n",
       "\n",
       "    .dataframe thead th {\n",
       "        text-align: right;\n",
       "    }\n",
       "</style>\n",
       "<table border=\"1\" class=\"dataframe\">\n",
       "  <thead>\n",
       "    <tr style=\"text-align: right;\">\n",
       "      <th></th>\n",
       "      <th>studytime</th>\n",
       "      <th>studytime, granular</th>\n",
       "    </tr>\n",
       "  </thead>\n",
       "  <tbody>\n",
       "    <tr>\n",
       "      <th>studytime</th>\n",
       "      <td>1.0</td>\n",
       "      <td>1.0</td>\n",
       "    </tr>\n",
       "    <tr>\n",
       "      <th>studytime, granular</th>\n",
       "      <td>1.0</td>\n",
       "      <td>1.0</td>\n",
       "    </tr>\n",
       "  </tbody>\n",
       "</table>\n",
       "</div>"
      ],
      "text/plain": [
       "                     studytime  studytime, granular\n",
       "studytime                  1.0                  1.0\n",
       "studytime, granular        1.0                  1.0"
      ]
     },
     "execution_count": 218,
     "metadata": {},
     "output_type": "execute_result"
    }
   ],
   "source": [
    "stud_0['studytime, granular'] = stud_0['studytime, granular']/-3 \n",
    "# Изменяем столбец согласно предположению отличии столбцов на -3.\n",
    "stud_0[['studytime','studytime, granular']].corr() \n",
    "# После изменения столбцы полностью коррелируют."
   ]
  },
  {
   "cell_type": "code",
   "execution_count": 219,
   "id": "2bfedd8f",
   "metadata": {},
   "outputs": [
    {
     "data": {
      "text/plain": [
       "Index(['school', 'sex', 'age', 'address', 'famsize', 'Pstatus', 'Medu', 'Fedu',\n",
       "       'Mjob', 'Fjob', 'reason', 'guardian', 'traveltime', 'studytime',\n",
       "       'failures', 'schoolsup', 'famsup', 'paid', 'activities', 'nursery',\n",
       "       'higher', 'internet', 'romantic', 'famrel', 'freetime', 'goout',\n",
       "       'health', 'absences', 'score'],\n",
       "      dtype='object')"
      ]
     },
     "execution_count": 219,
     "metadata": {},
     "output_type": "execute_result"
    }
   ],
   "source": [
    "stud_0.drop('studytime, granular',axis = 1,inplace = True) # Удаляем ненужный столбец.\n",
    "stud_0.columns # Проверяем исполнение."
   ]
  },
  {
   "cell_type": "markdown",
   "id": "436e6e43",
   "metadata": {},
   "source": [
    "# Работа с типами данных, некорректными значениями и пропусками.\n",
    "Из описания столбцов в задании нам известно, какие данные в них хранятся и какие значения могут принимать. Посмотрим, какие значения принимают переменные в каждом столбце, чтобы сразу исправить недопустимые для столбца значения.\n",
    "## Некорректные значения."
   ]
  },
  {
   "cell_type": "code",
   "execution_count": 220,
   "id": "713fdb58",
   "metadata": {},
   "outputs": [
    {
     "name": "stdout",
     "output_type": "stream",
     "text": [
      "\"school\"   значения: ['GP' 'MS']\n",
      "\n",
      "\"sex\"   значения: ['F' 'M']\n",
      "\n",
      "\"age\"   значения: [18 17 15 16 19 22 20 21]\n",
      "\n",
      "\"address\"   значения: ['U' nan 'R']\n",
      "\n",
      "\"famsize\"   значения: [nan 'GT3' 'LE3']\n",
      "\n",
      "\"Pstatus\"   значения: ['A' nan 'T']\n",
      "\n",
      "\"Medu\"   значения: [ 4.  1.  3.  2. nan  0.]\n",
      "\n",
      "\"Fedu\"   значения: [ 4.  1.  2.  3. 40. nan  0.]\n",
      "\n",
      "\"Mjob\"   значения: ['at_home' 'health' 'other' 'services' 'teacher' nan]\n",
      "\n",
      "\"Fjob\"   значения: ['teacher' 'other' nan 'health' 'services' 'at_home']\n",
      "\n",
      "\"reason\"   значения: ['course' 'other' 'home' 'reputation' nan]\n",
      "\n",
      "\"guardian\"   значения: ['mother' 'father' 'other' nan]\n",
      "\n",
      "\"traveltime\"   значения: [ 2.  1.  3. nan  4.]\n",
      "\n",
      "\"studytime\"   значения: [ 2.  3.  1. nan  4.]\n",
      "\n",
      "\"failures\"   значения: [ 0.  3. nan  2.  1.]\n",
      "\n",
      "\"schoolsup\"   значения: ['yes' 'no' nan]\n",
      "\n",
      "\"famsup\"   значения: ['no' 'yes' nan]\n",
      "\n",
      "\"paid\"   значения: ['no' nan 'yes']\n",
      "\n",
      "\"activities\"   значения: ['no' 'yes' nan]\n",
      "\n",
      "\"nursery\"   значения: ['yes' 'no' nan]\n",
      "\n",
      "\"higher\"   значения: ['yes' nan 'no']\n",
      "\n",
      "\"internet\"   значения: [nan 'yes' 'no']\n",
      "\n",
      "\"romantic\"   значения: ['no' nan 'yes']\n",
      "\n",
      "\"famrel\"   значения: [ 4.  5.  3. nan -1.  2.  1.]\n",
      "\n",
      "\"freetime\"   значения: [ 3.  2.  4.  1.  5. nan]\n",
      "\n",
      "\"goout\"   значения: [ 4.  3.  2.  1.  5. nan]\n",
      "\n",
      "\"health\"   значения: [ 3.  5.  1.  2.  4. nan]\n",
      "\n",
      "\"absences\"   значения: [  6.   4.  10.   2.   0.  16.  nan  14.   7.   8.  25.  12.  54.  18.\n",
      "  26.  20.  56.  24.  28.   5.  13.  15.  22.   3. 385.  21.   1.  75.\n",
      "  30.  19.   9.  11.  38.  40.  23.  17. 212.]\n",
      "\n",
      "\"score\"   значения: [ 30.  50.  75.  55.  95.  45.  60.  70.  80.  25.  40.  85.  90.  65.\n",
      " 100.  35.   0.  nan  20.]\n",
      "\n"
     ]
    }
   ],
   "source": [
    "for col in stud_0.columns:\n",
    "    value = stud_0[col].unique()\n",
    "    print(f'\"{col}\"   значения: {value}\\n')"
   ]
  },
  {
   "cell_type": "markdown",
   "id": "1a079334",
   "metadata": {},
   "source": [
    "Обращает на себя внимание значение 40.0 в столбце Fedu. Этот параметр может принимать значения от 1 до 4. 40.0 - это похоже неверно записанная 4.0. Исправим эту запись."
   ]
  },
  {
   "cell_type": "code",
   "execution_count": 221,
   "id": "048afdfc",
   "metadata": {},
   "outputs": [
    {
     "data": {
      "text/plain": [
       "2.0    106\n",
       "3.0     96\n",
       "4.0     89\n",
       "1.0     78\n",
       "0.0      2\n",
       "Name: Fedu, dtype: int64"
      ]
     },
     "execution_count": 221,
     "metadata": {},
     "output_type": "execute_result"
    }
   ],
   "source": [
    "stud_0.loc[stud_0.Fedu == 40.0, 'Fedu'] = 4.0 \n",
    "# Присваиваем корректное значение.\n",
    "stud_0.Fedu.value_counts()\n",
    "# Проверяем."
   ]
  },
  {
   "cell_type": "markdown",
   "id": "18d90631",
   "metadata": {},
   "source": [
    "Обращает на себя внимание значение -1.0 в столбце famrel. Этот параметр может принимать значения от 1 до 4. -1.0 - это похоже неверно записанная 1.0. Исправим эту запись."
   ]
  },
  {
   "cell_type": "code",
   "execution_count": 222,
   "id": "fb904a3a",
   "metadata": {},
   "outputs": [
    {
     "data": {
      "text/plain": [
       "4.0    182\n",
       "5.0     99\n",
       "3.0     62\n",
       "2.0     17\n",
       "1.0      8\n",
       "Name: famrel, dtype: int64"
      ]
     },
     "execution_count": 222,
     "metadata": {},
     "output_type": "execute_result"
    }
   ],
   "source": [
    "stud_0.loc[stud_0.famrel == -1, 'famrel'] = 1.0\n",
    "# Присваиваем корректное значение.\n",
    "stud_0.famrel.value_counts()\n",
    "# Проверяем."
   ]
  },
  {
   "cell_type": "markdown",
   "id": "9b0e0179",
   "metadata": {},
   "source": [
    "Остальные столбцы содержат только значения допустимые для своей переменной."
   ]
  },
  {
   "cell_type": "markdown",
   "id": "4724a4bc",
   "metadata": {},
   "source": [
    "## Типы данных\n",
    "На основании анализа описания столбцов данного в задании можно разделить все столбцы по следующим типам.\n",
    "\n",
    "\n",
    "1. Столбцы с **количественными дискретными** типами данных: **age**, **failures**, **absences**, **score**.\n",
    "\n",
    "\n",
    "2. Столбцы с **категориальными порядковыми** типами данных: **famsize**, **Medu**, **Fedu**, **traveltime**, **studytime**, **famrel**, **freetime**, **goout**, **health**.\n",
    "\n",
    "\n",
    "3. Столбцы с **категориальными номинативными** типами данных: **school**, **sex**, **address**, **Pstatus**, **Mjob**, **Fjob**, **reason**, **guardian**, **schoolsup**, **famsup**, **paid**, **activities**, **nursery**, **higher**, **internet**, **romantic**."
   ]
  },
  {
   "cell_type": "code",
   "execution_count": 223,
   "id": "737b27b9",
   "metadata": {},
   "outputs": [
    {
     "name": "stdout",
     "output_type": "stream",
     "text": [
      "<class 'pandas.core.frame.DataFrame'>\n",
      "RangeIndex: 395 entries, 0 to 394\n",
      "Data columns (total 29 columns):\n",
      " #   Column      Non-Null Count  Dtype  \n",
      "---  ------      --------------  -----  \n",
      " 0   school      395 non-null    object \n",
      " 1   sex         395 non-null    object \n",
      " 2   age         395 non-null    int64  \n",
      " 3   address     378 non-null    object \n",
      " 4   famsize     368 non-null    object \n",
      " 5   Pstatus     350 non-null    object \n",
      " 6   Medu        392 non-null    float64\n",
      " 7   Fedu        371 non-null    float64\n",
      " 8   Mjob        376 non-null    object \n",
      " 9   Fjob        359 non-null    object \n",
      " 10  reason      378 non-null    object \n",
      " 11  guardian    364 non-null    object \n",
      " 12  traveltime  367 non-null    float64\n",
      " 13  studytime   388 non-null    float64\n",
      " 14  failures    373 non-null    float64\n",
      " 15  schoolsup   386 non-null    object \n",
      " 16  famsup      356 non-null    object \n",
      " 17  paid        355 non-null    object \n",
      " 18  activities  381 non-null    object \n",
      " 19  nursery     379 non-null    object \n",
      " 20  higher      375 non-null    object \n",
      " 21  internet    361 non-null    object \n",
      " 22  romantic    364 non-null    object \n",
      " 23  famrel      368 non-null    float64\n",
      " 24  freetime    384 non-null    float64\n",
      " 25  goout       387 non-null    float64\n",
      " 26  health      380 non-null    float64\n",
      " 27  absences    383 non-null    float64\n",
      " 28  score       389 non-null    float64\n",
      "dtypes: float64(11), int64(1), object(17)\n",
      "memory usage: 89.6+ KB\n"
     ]
    }
   ],
   "source": [
    "stud_0.info()"
   ]
  },
  {
   "cell_type": "markdown",
   "id": "75342a81",
   "metadata": {},
   "source": [
    "В датасете 11 столбцов типа float64 и один int64. Из описания столбцов в задании видно, что должно быть 4 количественных дискретных столбца, то есть типа int, а остальные категориальные. Для удобства работы приведем все float64 и int64 к типу int32. Приведением категориальных типов займемся позже."
   ]
  },
  {
   "cell_type": "code",
   "execution_count": 224,
   "id": "5c22d2b8",
   "metadata": {},
   "outputs": [
    {
     "name": "stdout",
     "output_type": "stream",
     "text": [
      "<class 'pandas.core.frame.DataFrame'>\n",
      "RangeIndex: 395 entries, 0 to 394\n",
      "Data columns (total 29 columns):\n",
      " #   Column      Non-Null Count  Dtype \n",
      "---  ------      --------------  ----- \n",
      " 0   school      395 non-null    object\n",
      " 1   sex         395 non-null    object\n",
      " 2   age         395 non-null    Int32 \n",
      " 3   address     378 non-null    object\n",
      " 4   famsize     368 non-null    object\n",
      " 5   Pstatus     350 non-null    object\n",
      " 6   Medu        392 non-null    Int32 \n",
      " 7   Fedu        371 non-null    Int32 \n",
      " 8   Mjob        376 non-null    object\n",
      " 9   Fjob        359 non-null    object\n",
      " 10  reason      378 non-null    object\n",
      " 11  guardian    364 non-null    object\n",
      " 12  traveltime  367 non-null    Int32 \n",
      " 13  studytime   388 non-null    Int32 \n",
      " 14  failures    373 non-null    Int32 \n",
      " 15  schoolsup   386 non-null    object\n",
      " 16  famsup      356 non-null    object\n",
      " 17  paid        355 non-null    object\n",
      " 18  activities  381 non-null    object\n",
      " 19  nursery     379 non-null    object\n",
      " 20  higher      375 non-null    object\n",
      " 21  internet    361 non-null    object\n",
      " 22  romantic    364 non-null    object\n",
      " 23  famrel      368 non-null    Int32 \n",
      " 24  freetime    384 non-null    Int32 \n",
      " 25  goout       387 non-null    Int32 \n",
      " 26  health      380 non-null    Int32 \n",
      " 27  absences    383 non-null    Int32 \n",
      " 28  score       389 non-null    Int32 \n",
      "dtypes: Int32(12), object(17)\n",
      "memory usage: 75.7+ KB\n"
     ]
    }
   ],
   "source": [
    "float_int = ['age','Medu','Fedu','traveltime','studytime','failures',\n",
    "             'famrel','freetime','goout','health','absences','score']\n",
    "# Список столбцов с типом float64 и int64.\n",
    "stud_0[float_int] = stud_0[float_int].astype('Int32')\n",
    "# Приводим типы к int32.\n",
    "stud_0.info() # Проверяем."
   ]
  },
  {
   "cell_type": "markdown",
   "id": "792b10aa",
   "metadata": {},
   "source": [
    "## Пропуски.\n",
    "В датасете 395 записей. Только первые 3 столбца не имеют пропусков, все остальные имеют различное количество пропусков."
   ]
  },
  {
   "cell_type": "code",
   "execution_count": 225,
   "id": "3bbb258a",
   "metadata": {},
   "outputs": [
    {
     "data": {
      "text/plain": [
       "school         0.00\n",
       "sex            0.00\n",
       "age            0.00\n",
       "address        4.30\n",
       "famsize        6.84\n",
       "Pstatus       11.39\n",
       "Medu           0.76\n",
       "Fedu           6.08\n",
       "Mjob           4.81\n",
       "Fjob           9.11\n",
       "reason         4.30\n",
       "guardian       7.85\n",
       "traveltime     7.09\n",
       "studytime      1.77\n",
       "failures       5.57\n",
       "schoolsup      2.28\n",
       "famsup         9.87\n",
       "paid          10.13\n",
       "activities     3.54\n",
       "nursery        4.05\n",
       "higher         5.06\n",
       "internet       8.61\n",
       "romantic       7.85\n",
       "famrel         6.84\n",
       "freetime       2.78\n",
       "goout          2.03\n",
       "health         3.80\n",
       "absences       3.04\n",
       "score          1.52\n",
       "dtype: float64"
      ]
     },
     "execution_count": 225,
     "metadata": {},
     "output_type": "execute_result"
    }
   ],
   "source": [
    "round(stud_0[stud_0.columns].isnull().sum()/395*100,2)\n",
    "# Количество пропусков  в процентах оругленное до 2 знаков после точки."
   ]
  },
  {
   "cell_type": "markdown",
   "id": "21f632d6",
   "metadata": {},
   "source": [
    "Критично большое количество пропусков только в 2 стольбцах: Pstatus и paid, поэтому после заполнения пропусков будем критично относиться к их влиянию на целевой показатель. \n",
    "### Заполнение пропусков в количественных столбцах.    \n",
    "Пропуски в количественных столбцах заполним медианой, так как она не чувствительна к выбросам. С количественным столбцом **score** будем работать отдельно, так как это целевой показатель. Количественные столбцы содержащие пропуски:**failures** и **absences**."
   ]
  },
  {
   "cell_type": "code",
   "execution_count": 226,
   "id": "0a346758",
   "metadata": {},
   "outputs": [
    {
     "data": {
      "text/plain": [
       "failures    0\n",
       "absences    0\n",
       "dtype: int64"
      ]
     },
     "execution_count": 226,
     "metadata": {},
     "output_type": "execute_result"
    }
   ],
   "source": [
    "stud_0['failures'].fillna(stud_0['failures'].median(), inplace = True)\n",
    "stud_0['absences'].fillna(stud_0['absences'].median(), inplace = True)\n",
    "# Заполняем пропуски медианой.\n",
    "stud_0[['failures','absences']].isnull().sum()\n",
    "# убеждаемся, что пропусков не осталось."
   ]
  },
  {
   "cell_type": "markdown",
   "id": "f0663d69",
   "metadata": {},
   "source": [
    "### Заполнение пропусков в категориальных столбцах.\n",
    "Категориальные столбцы имеют не так много пропусков, поэтому использовать трудоемкие способы заполнения пропусков, основанные на анализе зависимостей столбцов или пропорций значений в толбце, не будем. Заполнять пропуски во всех категориальных столбцах будем модой."
   ]
  },
  {
   "cell_type": "code",
   "execution_count": 227,
   "id": "01ff9218",
   "metadata": {},
   "outputs": [],
   "source": [
    "cat_col = ['school', 'sex', 'address', 'famsize', 'Pstatus', 'Medu', 'Fedu',\n",
    "       'Mjob', 'Fjob', 'reason', 'guardian', 'traveltime', 'studytime',\n",
    "       'schoolsup', 'famsup', 'paid', 'activities', 'nursery',\n",
    "       'higher', 'internet', 'romantic', 'famrel', 'freetime', 'goout',\n",
    "       'health']\n",
    "# выбираем категориальные столбцы.\n",
    "for col in cat_col:\n",
    "    stud_0[col].fillna(stud_0[col].mode()[0], inplace = True)\n",
    "# Заполняем пропуски модой."
   ]
  },
  {
   "cell_type": "code",
   "execution_count": 228,
   "id": "e2a48fbf",
   "metadata": {},
   "outputs": [
    {
     "data": {
      "text/plain": [
       "school        0.00\n",
       "sex           0.00\n",
       "age           0.00\n",
       "address       0.00\n",
       "famsize       0.00\n",
       "Pstatus       0.00\n",
       "Medu          0.00\n",
       "Fedu          0.00\n",
       "Mjob          0.00\n",
       "Fjob          0.00\n",
       "reason        0.00\n",
       "guardian      0.00\n",
       "traveltime    0.00\n",
       "studytime     0.00\n",
       "failures      0.00\n",
       "schoolsup     0.00\n",
       "famsup        0.00\n",
       "paid          0.00\n",
       "activities    0.00\n",
       "nursery       0.00\n",
       "higher        0.00\n",
       "internet      0.00\n",
       "romantic      0.00\n",
       "famrel        0.00\n",
       "freetime      0.00\n",
       "goout         0.00\n",
       "health        0.00\n",
       "absences      0.00\n",
       "score         1.52\n",
       "dtype: float64"
      ]
     },
     "execution_count": 228,
     "metadata": {},
     "output_type": "execute_result"
    }
   ],
   "source": [
    "round(stud_0[stud_0.columns].isnull().sum()/395*100,2)\n",
    "# После работы с пропусками снова проверим их наличие."
   ]
  },
  {
   "cell_type": "markdown",
   "id": "dfb947a1",
   "metadata": {},
   "source": [
    "## Переименование столбцов.\n",
    "Приведем названия всех столбцов к общему стилю."
   ]
  },
  {
   "cell_type": "code",
   "execution_count": 229,
   "id": "6b245160",
   "metadata": {},
   "outputs": [],
   "source": [
    "stud_0.rename(columns={'Pstatus': 'p_status',\n",
    "                        'Medu': 'm_edu',\n",
    "                        'Fedu': 'f_edu',\n",
    "                        'Mjob': 'm_job',\n",
    "                        'Fjob': 'f_job'}, inplace=True)"
   ]
  },
  {
   "cell_type": "code",
   "execution_count": 230,
   "id": "2aa49363",
   "metadata": {},
   "outputs": [
    {
     "name": "stdout",
     "output_type": "stream",
     "text": [
      "<class 'pandas.core.frame.DataFrame'>\n",
      "RangeIndex: 395 entries, 0 to 394\n",
      "Data columns (total 29 columns):\n",
      " #   Column      Non-Null Count  Dtype \n",
      "---  ------      --------------  ----- \n",
      " 0   school      395 non-null    object\n",
      " 1   sex         395 non-null    object\n",
      " 2   age         395 non-null    Int32 \n",
      " 3   address     395 non-null    object\n",
      " 4   famsize     395 non-null    object\n",
      " 5   p_status    395 non-null    object\n",
      " 6   m_edu       395 non-null    Int32 \n",
      " 7   f_edu       395 non-null    Int32 \n",
      " 8   m_job       395 non-null    object\n",
      " 9   f_job       395 non-null    object\n",
      " 10  reason      395 non-null    object\n",
      " 11  guardian    395 non-null    object\n",
      " 12  traveltime  395 non-null    Int32 \n",
      " 13  studytime   395 non-null    Int32 \n",
      " 14  failures    395 non-null    Int32 \n",
      " 15  schoolsup   395 non-null    object\n",
      " 16  famsup      395 non-null    object\n",
      " 17  paid        395 non-null    object\n",
      " 18  activities  395 non-null    object\n",
      " 19  nursery     395 non-null    object\n",
      " 20  higher      395 non-null    object\n",
      " 21  internet    395 non-null    object\n",
      " 22  romantic    395 non-null    object\n",
      " 23  famrel      395 non-null    Int32 \n",
      " 24  freetime    395 non-null    Int32 \n",
      " 25  goout       395 non-null    Int32 \n",
      " 26  health      395 non-null    Int32 \n",
      " 27  absences    395 non-null    Int32 \n",
      " 28  score       389 non-null    Int32 \n",
      "dtypes: Int32(12), object(17)\n",
      "memory usage: 75.7+ KB\n"
     ]
    }
   ],
   "source": [
    "stud_0.info() # Проверим работу по очистке датасета."
   ]
  },
  {
   "cell_type": "markdown",
   "id": "11b418db",
   "metadata": {},
   "source": [
    "## Целевой показатель - столбец  'score'\n",
    "Столбец score - это целевой показатель, поэтому его очистку проведем отдельно.\n",
    "\n",
    "Столбец 'scoere' содержит результаты госэкзамена по математике. Это целевой показатель. Для точности прогнозов он имеет важнейшее значение, поэтому заполнять отсутствующие значения какими-либо расчетными значениями и тем самым искажать целевой показатель не будем. Строки с отсутствующими значениями удаляем."
   ]
  },
  {
   "cell_type": "code",
   "execution_count": 231,
   "id": "588edb74",
   "metadata": {},
   "outputs": [
    {
     "data": {
      "text/plain": [
       "0"
      ]
     },
     "execution_count": 231,
     "metadata": {},
     "output_type": "execute_result"
    }
   ],
   "source": [
    "stud_0 = stud_0[stud_0.score.notnull()]  # Избавляемся от NaN переприсваивая переменную.\n",
    "stud_0.score.isnull().sum()              # Проверяем, что пропусков не осталось."
   ]
  },
  {
   "cell_type": "markdown",
   "id": "08b11758",
   "metadata": {},
   "source": [
    "Оценка по математике это количественная дискретная переменная. Оценим ее распределение на гистограмме."
   ]
  },
  {
   "cell_type": "code",
   "execution_count": 232,
   "id": "b851adbb",
   "metadata": {},
   "outputs": [
    {
     "data": {
      "text/plain": [
       "<AxesSubplot:>"
      ]
     },
     "execution_count": 232,
     "metadata": {},
     "output_type": "execute_result"
    },
    {
     "data": {
      "image/png": "[encoded data removed]",
      "text/plain": [
       "<Figure size 432x288 with 1 Axes>"
      ]
     },
     "metadata": {
      "needs_background": "light"
     },
     "output_type": "display_data"
    }
   ],
   "source": [
    "stud_0.score.hist(bins = 100)\n",
    "# Система оценки стобальная - bins = 100."
   ]
  },
  {
   "cell_type": "markdown",
   "id": "543e346e",
   "metadata": {},
   "source": [
    "На гистограмме виден выброс - нулевые оценки за экзамен."
   ]
  },
  {
   "cell_type": "code",
   "execution_count": 233,
   "id": "9b995c37",
   "metadata": {},
   "outputs": [
    {
     "data": {
      "text/plain": [
       "50     54\n",
       "55     46\n",
       "0      37\n",
       "75     33\n",
       "65     31\n",
       "60     31\n",
       "40     31\n",
       "45     27\n",
       "70     27\n",
       "80     16\n",
       "30     15\n",
       "90     12\n",
       "35      9\n",
       "25      7\n",
       "85      6\n",
       "95      5\n",
       "20      1\n",
       "100     1\n",
       "Name: score, dtype: Int64"
      ]
     },
     "execution_count": 233,
     "metadata": {},
     "output_type": "execute_result"
    }
   ],
   "source": [
    "stud_0.score.value_counts()"
   ]
  },
  {
   "cell_type": "markdown",
   "id": "21012e13",
   "metadata": {},
   "source": [
    "Выброс составляет 37 нулевых значений. Несмотря на то, что 0 - это допустимое значение по шкале (от 0 до 100), считать оценку 0 реальной оценкой знаний обычногоо ученика, который учился вместе с остальными, не верно.\n",
    "\n",
    "Проверим не обращают ли эти ученики на себя внимание по остальным показателям."
   ]
  },
  {
   "cell_type": "code",
   "execution_count": 234,
   "id": "30c560bc",
   "metadata": {},
   "outputs": [
    {
     "data": {
      "text/html": [
       "<div>\n",
       "<style scoped>\n",
       "    .dataframe tbody tr th:only-of-type {\n",
       "        vertical-align: middle;\n",
       "    }\n",
       "\n",
       "    .dataframe tbody tr th {\n",
       "        vertical-align: top;\n",
       "    }\n",
       "\n",
       "    .dataframe thead th {\n",
       "        text-align: right;\n",
       "    }\n",
       "</style>\n",
       "<table border=\"1\" class=\"dataframe\">\n",
       "  <thead>\n",
       "    <tr style=\"text-align: right;\">\n",
       "      <th></th>\n",
       "      <th>school</th>\n",
       "      <th>sex</th>\n",
       "      <th>age</th>\n",
       "      <th>address</th>\n",
       "      <th>famsize</th>\n",
       "      <th>p_status</th>\n",
       "      <th>m_edu</th>\n",
       "      <th>f_edu</th>\n",
       "      <th>m_job</th>\n",
       "      <th>f_job</th>\n",
       "      <th>...</th>\n",
       "      <th>nursery</th>\n",
       "      <th>higher</th>\n",
       "      <th>internet</th>\n",
       "      <th>romantic</th>\n",
       "      <th>famrel</th>\n",
       "      <th>freetime</th>\n",
       "      <th>goout</th>\n",
       "      <th>health</th>\n",
       "      <th>absences</th>\n",
       "      <th>score</th>\n",
       "    </tr>\n",
       "  </thead>\n",
       "  <tbody>\n",
       "    <tr>\n",
       "      <th>128</th>\n",
       "      <td>GP</td>\n",
       "      <td>M</td>\n",
       "      <td>18</td>\n",
       "      <td>R</td>\n",
       "      <td>GT3</td>\n",
       "      <td>T</td>\n",
       "      <td>2</td>\n",
       "      <td>2</td>\n",
       "      <td>other</td>\n",
       "      <td>other</td>\n",
       "      <td>...</td>\n",
       "      <td>yes</td>\n",
       "      <td>yes</td>\n",
       "      <td>yes</td>\n",
       "      <td>no</td>\n",
       "      <td>3</td>\n",
       "      <td>3</td>\n",
       "      <td>3</td>\n",
       "      <td>4</td>\n",
       "      <td>0</td>\n",
       "      <td>0</td>\n",
       "    </tr>\n",
       "    <tr>\n",
       "      <th>130</th>\n",
       "      <td>GP</td>\n",
       "      <td>F</td>\n",
       "      <td>15</td>\n",
       "      <td>R</td>\n",
       "      <td>GT3</td>\n",
       "      <td>T</td>\n",
       "      <td>3</td>\n",
       "      <td>4</td>\n",
       "      <td>services</td>\n",
       "      <td>teacher</td>\n",
       "      <td>...</td>\n",
       "      <td>yes</td>\n",
       "      <td>yes</td>\n",
       "      <td>yes</td>\n",
       "      <td>yes</td>\n",
       "      <td>4</td>\n",
       "      <td>2</td>\n",
       "      <td>2</td>\n",
       "      <td>5</td>\n",
       "      <td>0</td>\n",
       "      <td>0</td>\n",
       "    </tr>\n",
       "    <tr>\n",
       "      <th>131</th>\n",
       "      <td>GP</td>\n",
       "      <td>F</td>\n",
       "      <td>15</td>\n",
       "      <td>U</td>\n",
       "      <td>GT3</td>\n",
       "      <td>T</td>\n",
       "      <td>1</td>\n",
       "      <td>1</td>\n",
       "      <td>at_home</td>\n",
       "      <td>other</td>\n",
       "      <td>...</td>\n",
       "      <td>no</td>\n",
       "      <td>yes</td>\n",
       "      <td>yes</td>\n",
       "      <td>yes</td>\n",
       "      <td>4</td>\n",
       "      <td>3</td>\n",
       "      <td>3</td>\n",
       "      <td>4</td>\n",
       "      <td>0</td>\n",
       "      <td>0</td>\n",
       "    </tr>\n",
       "    <tr>\n",
       "      <th>134</th>\n",
       "      <td>GP</td>\n",
       "      <td>M</td>\n",
       "      <td>15</td>\n",
       "      <td>R</td>\n",
       "      <td>GT3</td>\n",
       "      <td>T</td>\n",
       "      <td>3</td>\n",
       "      <td>4</td>\n",
       "      <td>at_home</td>\n",
       "      <td>teacher</td>\n",
       "      <td>...</td>\n",
       "      <td>yes</td>\n",
       "      <td>yes</td>\n",
       "      <td>no</td>\n",
       "      <td>yes</td>\n",
       "      <td>5</td>\n",
       "      <td>3</td>\n",
       "      <td>3</td>\n",
       "      <td>5</td>\n",
       "      <td>0</td>\n",
       "      <td>0</td>\n",
       "    </tr>\n",
       "    <tr>\n",
       "      <th>135</th>\n",
       "      <td>GP</td>\n",
       "      <td>F</td>\n",
       "      <td>15</td>\n",
       "      <td>U</td>\n",
       "      <td>GT3</td>\n",
       "      <td>T</td>\n",
       "      <td>4</td>\n",
       "      <td>4</td>\n",
       "      <td>services</td>\n",
       "      <td>other</td>\n",
       "      <td>...</td>\n",
       "      <td>yes</td>\n",
       "      <td>yes</td>\n",
       "      <td>yes</td>\n",
       "      <td>yes</td>\n",
       "      <td>4</td>\n",
       "      <td>3</td>\n",
       "      <td>3</td>\n",
       "      <td>5</td>\n",
       "      <td>0</td>\n",
       "      <td>0</td>\n",
       "    </tr>\n",
       "    <tr>\n",
       "      <th>136</th>\n",
       "      <td>GP</td>\n",
       "      <td>M</td>\n",
       "      <td>17</td>\n",
       "      <td>R</td>\n",
       "      <td>GT3</td>\n",
       "      <td>T</td>\n",
       "      <td>3</td>\n",
       "      <td>4</td>\n",
       "      <td>at_home</td>\n",
       "      <td>other</td>\n",
       "      <td>...</td>\n",
       "      <td>yes</td>\n",
       "      <td>yes</td>\n",
       "      <td>no</td>\n",
       "      <td>no</td>\n",
       "      <td>4</td>\n",
       "      <td>4</td>\n",
       "      <td>5</td>\n",
       "      <td>5</td>\n",
       "      <td>0</td>\n",
       "      <td>0</td>\n",
       "    </tr>\n",
       "    <tr>\n",
       "      <th>137</th>\n",
       "      <td>GP</td>\n",
       "      <td>F</td>\n",
       "      <td>16</td>\n",
       "      <td>U</td>\n",
       "      <td>GT3</td>\n",
       "      <td>A</td>\n",
       "      <td>3</td>\n",
       "      <td>2</td>\n",
       "      <td>other</td>\n",
       "      <td>other</td>\n",
       "      <td>...</td>\n",
       "      <td>no</td>\n",
       "      <td>yes</td>\n",
       "      <td>yes</td>\n",
       "      <td>yes</td>\n",
       "      <td>4</td>\n",
       "      <td>3</td>\n",
       "      <td>2</td>\n",
       "      <td>5</td>\n",
       "      <td>0</td>\n",
       "      <td>0</td>\n",
       "    </tr>\n",
       "    <tr>\n",
       "      <th>140</th>\n",
       "      <td>GP</td>\n",
       "      <td>M</td>\n",
       "      <td>15</td>\n",
       "      <td>U</td>\n",
       "      <td>GT3</td>\n",
       "      <td>T</td>\n",
       "      <td>4</td>\n",
       "      <td>3</td>\n",
       "      <td>teacher</td>\n",
       "      <td>services</td>\n",
       "      <td>...</td>\n",
       "      <td>yes</td>\n",
       "      <td>yes</td>\n",
       "      <td>yes</td>\n",
       "      <td>no</td>\n",
       "      <td>2</td>\n",
       "      <td>2</td>\n",
       "      <td>2</td>\n",
       "      <td>3</td>\n",
       "      <td>0</td>\n",
       "      <td>0</td>\n",
       "    </tr>\n",
       "    <tr>\n",
       "      <th>144</th>\n",
       "      <td>GP</td>\n",
       "      <td>M</td>\n",
       "      <td>17</td>\n",
       "      <td>U</td>\n",
       "      <td>GT3</td>\n",
       "      <td>T</td>\n",
       "      <td>2</td>\n",
       "      <td>1</td>\n",
       "      <td>other</td>\n",
       "      <td>other</td>\n",
       "      <td>...</td>\n",
       "      <td>yes</td>\n",
       "      <td>yes</td>\n",
       "      <td>yes</td>\n",
       "      <td>no</td>\n",
       "      <td>5</td>\n",
       "      <td>4</td>\n",
       "      <td>5</td>\n",
       "      <td>5</td>\n",
       "      <td>0</td>\n",
       "      <td>0</td>\n",
       "    </tr>\n",
       "    <tr>\n",
       "      <th>146</th>\n",
       "      <td>GP</td>\n",
       "      <td>F</td>\n",
       "      <td>15</td>\n",
       "      <td>U</td>\n",
       "      <td>GT3</td>\n",
       "      <td>T</td>\n",
       "      <td>3</td>\n",
       "      <td>2</td>\n",
       "      <td>health</td>\n",
       "      <td>services</td>\n",
       "      <td>...</td>\n",
       "      <td>yes</td>\n",
       "      <td>yes</td>\n",
       "      <td>yes</td>\n",
       "      <td>no</td>\n",
       "      <td>3</td>\n",
       "      <td>3</td>\n",
       "      <td>2</td>\n",
       "      <td>3</td>\n",
       "      <td>0</td>\n",
       "      <td>0</td>\n",
       "    </tr>\n",
       "    <tr>\n",
       "      <th>148</th>\n",
       "      <td>GP</td>\n",
       "      <td>M</td>\n",
       "      <td>16</td>\n",
       "      <td>U</td>\n",
       "      <td>GT3</td>\n",
       "      <td>T</td>\n",
       "      <td>4</td>\n",
       "      <td>4</td>\n",
       "      <td>teacher</td>\n",
       "      <td>teacher</td>\n",
       "      <td>...</td>\n",
       "      <td>yes</td>\n",
       "      <td>no</td>\n",
       "      <td>yes</td>\n",
       "      <td>yes</td>\n",
       "      <td>3</td>\n",
       "      <td>3</td>\n",
       "      <td>2</td>\n",
       "      <td>5</td>\n",
       "      <td>0</td>\n",
       "      <td>0</td>\n",
       "    </tr>\n",
       "    <tr>\n",
       "      <th>150</th>\n",
       "      <td>GP</td>\n",
       "      <td>M</td>\n",
       "      <td>18</td>\n",
       "      <td>U</td>\n",
       "      <td>LE3</td>\n",
       "      <td>T</td>\n",
       "      <td>1</td>\n",
       "      <td>1</td>\n",
       "      <td>other</td>\n",
       "      <td>other</td>\n",
       "      <td>...</td>\n",
       "      <td>yes</td>\n",
       "      <td>no</td>\n",
       "      <td>yes</td>\n",
       "      <td>yes</td>\n",
       "      <td>2</td>\n",
       "      <td>3</td>\n",
       "      <td>5</td>\n",
       "      <td>4</td>\n",
       "      <td>4</td>\n",
       "      <td>0</td>\n",
       "    </tr>\n",
       "    <tr>\n",
       "      <th>153</th>\n",
       "      <td>GP</td>\n",
       "      <td>M</td>\n",
       "      <td>19</td>\n",
       "      <td>U</td>\n",
       "      <td>GT3</td>\n",
       "      <td>T</td>\n",
       "      <td>3</td>\n",
       "      <td>2</td>\n",
       "      <td>services</td>\n",
       "      <td>at_home</td>\n",
       "      <td>...</td>\n",
       "      <td>yes</td>\n",
       "      <td>no</td>\n",
       "      <td>yes</td>\n",
       "      <td>yes</td>\n",
       "      <td>4</td>\n",
       "      <td>5</td>\n",
       "      <td>4</td>\n",
       "      <td>5</td>\n",
       "      <td>0</td>\n",
       "      <td>0</td>\n",
       "    </tr>\n",
       "    <tr>\n",
       "      <th>160</th>\n",
       "      <td>GP</td>\n",
       "      <td>M</td>\n",
       "      <td>17</td>\n",
       "      <td>R</td>\n",
       "      <td>LE3</td>\n",
       "      <td>T</td>\n",
       "      <td>2</td>\n",
       "      <td>1</td>\n",
       "      <td>at_home</td>\n",
       "      <td>other</td>\n",
       "      <td>...</td>\n",
       "      <td>yes</td>\n",
       "      <td>no</td>\n",
       "      <td>yes</td>\n",
       "      <td>yes</td>\n",
       "      <td>4</td>\n",
       "      <td>3</td>\n",
       "      <td>2</td>\n",
       "      <td>5</td>\n",
       "      <td>0</td>\n",
       "      <td>0</td>\n",
       "    </tr>\n",
       "    <tr>\n",
       "      <th>162</th>\n",
       "      <td>GP</td>\n",
       "      <td>M</td>\n",
       "      <td>16</td>\n",
       "      <td>U</td>\n",
       "      <td>LE3</td>\n",
       "      <td>T</td>\n",
       "      <td>1</td>\n",
       "      <td>2</td>\n",
       "      <td>other</td>\n",
       "      <td>other</td>\n",
       "      <td>...</td>\n",
       "      <td>yes</td>\n",
       "      <td>yes</td>\n",
       "      <td>yes</td>\n",
       "      <td>no</td>\n",
       "      <td>4</td>\n",
       "      <td>4</td>\n",
       "      <td>4</td>\n",
       "      <td>5</td>\n",
       "      <td>0</td>\n",
       "      <td>0</td>\n",
       "    </tr>\n",
       "    <tr>\n",
       "      <th>168</th>\n",
       "      <td>GP</td>\n",
       "      <td>F</td>\n",
       "      <td>16</td>\n",
       "      <td>U</td>\n",
       "      <td>GT3</td>\n",
       "      <td>T</td>\n",
       "      <td>2</td>\n",
       "      <td>2</td>\n",
       "      <td>other</td>\n",
       "      <td>other</td>\n",
       "      <td>...</td>\n",
       "      <td>no</td>\n",
       "      <td>yes</td>\n",
       "      <td>yes</td>\n",
       "      <td>no</td>\n",
       "      <td>5</td>\n",
       "      <td>1</td>\n",
       "      <td>5</td>\n",
       "      <td>4</td>\n",
       "      <td>0</td>\n",
       "      <td>0</td>\n",
       "    </tr>\n",
       "    <tr>\n",
       "      <th>170</th>\n",
       "      <td>GP</td>\n",
       "      <td>M</td>\n",
       "      <td>16</td>\n",
       "      <td>U</td>\n",
       "      <td>GT3</td>\n",
       "      <td>T</td>\n",
       "      <td>3</td>\n",
       "      <td>4</td>\n",
       "      <td>other</td>\n",
       "      <td>other</td>\n",
       "      <td>...</td>\n",
       "      <td>no</td>\n",
       "      <td>yes</td>\n",
       "      <td>yes</td>\n",
       "      <td>no</td>\n",
       "      <td>3</td>\n",
       "      <td>4</td>\n",
       "      <td>5</td>\n",
       "      <td>2</td>\n",
       "      <td>0</td>\n",
       "      <td>0</td>\n",
       "    </tr>\n",
       "    <tr>\n",
       "      <th>173</th>\n",
       "      <td>GP</td>\n",
       "      <td>F</td>\n",
       "      <td>16</td>\n",
       "      <td>U</td>\n",
       "      <td>GT3</td>\n",
       "      <td>T</td>\n",
       "      <td>1</td>\n",
       "      <td>3</td>\n",
       "      <td>at_home</td>\n",
       "      <td>services</td>\n",
       "      <td>...</td>\n",
       "      <td>no</td>\n",
       "      <td>yes</td>\n",
       "      <td>yes</td>\n",
       "      <td>yes</td>\n",
       "      <td>4</td>\n",
       "      <td>3</td>\n",
       "      <td>5</td>\n",
       "      <td>3</td>\n",
       "      <td>0</td>\n",
       "      <td>0</td>\n",
       "    </tr>\n",
       "    <tr>\n",
       "      <th>221</th>\n",
       "      <td>GP</td>\n",
       "      <td>F</td>\n",
       "      <td>17</td>\n",
       "      <td>U</td>\n",
       "      <td>GT3</td>\n",
       "      <td>T</td>\n",
       "      <td>1</td>\n",
       "      <td>1</td>\n",
       "      <td>at_home</td>\n",
       "      <td>other</td>\n",
       "      <td>...</td>\n",
       "      <td>yes</td>\n",
       "      <td>yes</td>\n",
       "      <td>no</td>\n",
       "      <td>yes</td>\n",
       "      <td>4</td>\n",
       "      <td>3</td>\n",
       "      <td>3</td>\n",
       "      <td>5</td>\n",
       "      <td>0</td>\n",
       "      <td>0</td>\n",
       "    </tr>\n",
       "    <tr>\n",
       "      <th>239</th>\n",
       "      <td>GP</td>\n",
       "      <td>M</td>\n",
       "      <td>18</td>\n",
       "      <td>U</td>\n",
       "      <td>GT3</td>\n",
       "      <td>T</td>\n",
       "      <td>4</td>\n",
       "      <td>2</td>\n",
       "      <td>other</td>\n",
       "      <td>services</td>\n",
       "      <td>...</td>\n",
       "      <td>yes</td>\n",
       "      <td>no</td>\n",
       "      <td>yes</td>\n",
       "      <td>no</td>\n",
       "      <td>5</td>\n",
       "      <td>5</td>\n",
       "      <td>4</td>\n",
       "      <td>2</td>\n",
       "      <td>0</td>\n",
       "      <td>0</td>\n",
       "    </tr>\n",
       "    <tr>\n",
       "      <th>242</th>\n",
       "      <td>GP</td>\n",
       "      <td>M</td>\n",
       "      <td>16</td>\n",
       "      <td>U</td>\n",
       "      <td>LE3</td>\n",
       "      <td>T</td>\n",
       "      <td>4</td>\n",
       "      <td>3</td>\n",
       "      <td>teacher</td>\n",
       "      <td>other</td>\n",
       "      <td>...</td>\n",
       "      <td>no</td>\n",
       "      <td>yes</td>\n",
       "      <td>yes</td>\n",
       "      <td>no</td>\n",
       "      <td>5</td>\n",
       "      <td>4</td>\n",
       "      <td>5</td>\n",
       "      <td>3</td>\n",
       "      <td>0</td>\n",
       "      <td>0</td>\n",
       "    </tr>\n",
       "    <tr>\n",
       "      <th>259</th>\n",
       "      <td>GP</td>\n",
       "      <td>F</td>\n",
       "      <td>17</td>\n",
       "      <td>U</td>\n",
       "      <td>LE3</td>\n",
       "      <td>T</td>\n",
       "      <td>2</td>\n",
       "      <td>2</td>\n",
       "      <td>services</td>\n",
       "      <td>services</td>\n",
       "      <td>...</td>\n",
       "      <td>yes</td>\n",
       "      <td>yes</td>\n",
       "      <td>yes</td>\n",
       "      <td>yes</td>\n",
       "      <td>3</td>\n",
       "      <td>4</td>\n",
       "      <td>1</td>\n",
       "      <td>5</td>\n",
       "      <td>0</td>\n",
       "      <td>0</td>\n",
       "    </tr>\n",
       "    <tr>\n",
       "      <th>264</th>\n",
       "      <td>GP</td>\n",
       "      <td>F</td>\n",
       "      <td>18</td>\n",
       "      <td>U</td>\n",
       "      <td>GT3</td>\n",
       "      <td>T</td>\n",
       "      <td>2</td>\n",
       "      <td>2</td>\n",
       "      <td>at_home</td>\n",
       "      <td>services</td>\n",
       "      <td>...</td>\n",
       "      <td>yes</td>\n",
       "      <td>yes</td>\n",
       "      <td>yes</td>\n",
       "      <td>yes</td>\n",
       "      <td>4</td>\n",
       "      <td>3</td>\n",
       "      <td>3</td>\n",
       "      <td>3</td>\n",
       "      <td>0</td>\n",
       "      <td>0</td>\n",
       "    </tr>\n",
       "    <tr>\n",
       "      <th>269</th>\n",
       "      <td>GP</td>\n",
       "      <td>F</td>\n",
       "      <td>18</td>\n",
       "      <td>R</td>\n",
       "      <td>GT3</td>\n",
       "      <td>T</td>\n",
       "      <td>2</td>\n",
       "      <td>1</td>\n",
       "      <td>other</td>\n",
       "      <td>other</td>\n",
       "      <td>...</td>\n",
       "      <td>yes</td>\n",
       "      <td>no</td>\n",
       "      <td>yes</td>\n",
       "      <td>yes</td>\n",
       "      <td>4</td>\n",
       "      <td>3</td>\n",
       "      <td>5</td>\n",
       "      <td>3</td>\n",
       "      <td>0</td>\n",
       "      <td>0</td>\n",
       "    </tr>\n",
       "    <tr>\n",
       "      <th>296</th>\n",
       "      <td>GP</td>\n",
       "      <td>F</td>\n",
       "      <td>19</td>\n",
       "      <td>U</td>\n",
       "      <td>GT3</td>\n",
       "      <td>T</td>\n",
       "      <td>4</td>\n",
       "      <td>4</td>\n",
       "      <td>health</td>\n",
       "      <td>other</td>\n",
       "      <td>...</td>\n",
       "      <td>yes</td>\n",
       "      <td>yes</td>\n",
       "      <td>yes</td>\n",
       "      <td>no</td>\n",
       "      <td>2</td>\n",
       "      <td>3</td>\n",
       "      <td>4</td>\n",
       "      <td>2</td>\n",
       "      <td>0</td>\n",
       "      <td>0</td>\n",
       "    </tr>\n",
       "    <tr>\n",
       "      <th>310</th>\n",
       "      <td>GP</td>\n",
       "      <td>F</td>\n",
       "      <td>19</td>\n",
       "      <td>U</td>\n",
       "      <td>LE3</td>\n",
       "      <td>T</td>\n",
       "      <td>1</td>\n",
       "      <td>2</td>\n",
       "      <td>services</td>\n",
       "      <td>services</td>\n",
       "      <td>...</td>\n",
       "      <td>no</td>\n",
       "      <td>yes</td>\n",
       "      <td>no</td>\n",
       "      <td>yes</td>\n",
       "      <td>4</td>\n",
       "      <td>2</td>\n",
       "      <td>4</td>\n",
       "      <td>3</td>\n",
       "      <td>0</td>\n",
       "      <td>0</td>\n",
       "    </tr>\n",
       "    <tr>\n",
       "      <th>316</th>\n",
       "      <td>GP</td>\n",
       "      <td>F</td>\n",
       "      <td>18</td>\n",
       "      <td>U</td>\n",
       "      <td>GT3</td>\n",
       "      <td>T</td>\n",
       "      <td>2</td>\n",
       "      <td>1</td>\n",
       "      <td>services</td>\n",
       "      <td>other</td>\n",
       "      <td>...</td>\n",
       "      <td>yes</td>\n",
       "      <td>yes</td>\n",
       "      <td>yes</td>\n",
       "      <td>no</td>\n",
       "      <td>5</td>\n",
       "      <td>3</td>\n",
       "      <td>3</td>\n",
       "      <td>1</td>\n",
       "      <td>0</td>\n",
       "      <td>0</td>\n",
       "    </tr>\n",
       "    <tr>\n",
       "      <th>332</th>\n",
       "      <td>GP</td>\n",
       "      <td>F</td>\n",
       "      <td>18</td>\n",
       "      <td>U</td>\n",
       "      <td>GT3</td>\n",
       "      <td>T</td>\n",
       "      <td>3</td>\n",
       "      <td>3</td>\n",
       "      <td>services</td>\n",
       "      <td>services</td>\n",
       "      <td>...</td>\n",
       "      <td>yes</td>\n",
       "      <td>yes</td>\n",
       "      <td>yes</td>\n",
       "      <td>no</td>\n",
       "      <td>5</td>\n",
       "      <td>3</td>\n",
       "      <td>4</td>\n",
       "      <td>4</td>\n",
       "      <td>0</td>\n",
       "      <td>0</td>\n",
       "    </tr>\n",
       "    <tr>\n",
       "      <th>333</th>\n",
       "      <td>GP</td>\n",
       "      <td>F</td>\n",
       "      <td>18</td>\n",
       "      <td>U</td>\n",
       "      <td>LE3</td>\n",
       "      <td>T</td>\n",
       "      <td>2</td>\n",
       "      <td>2</td>\n",
       "      <td>other</td>\n",
       "      <td>other</td>\n",
       "      <td>...</td>\n",
       "      <td>no</td>\n",
       "      <td>yes</td>\n",
       "      <td>yes</td>\n",
       "      <td>yes</td>\n",
       "      <td>4</td>\n",
       "      <td>3</td>\n",
       "      <td>3</td>\n",
       "      <td>2</td>\n",
       "      <td>0</td>\n",
       "      <td>0</td>\n",
       "    </tr>\n",
       "    <tr>\n",
       "      <th>334</th>\n",
       "      <td>GP</td>\n",
       "      <td>F</td>\n",
       "      <td>18</td>\n",
       "      <td>R</td>\n",
       "      <td>GT3</td>\n",
       "      <td>T</td>\n",
       "      <td>2</td>\n",
       "      <td>2</td>\n",
       "      <td>at_home</td>\n",
       "      <td>other</td>\n",
       "      <td>...</td>\n",
       "      <td>yes</td>\n",
       "      <td>yes</td>\n",
       "      <td>no</td>\n",
       "      <td>no</td>\n",
       "      <td>4</td>\n",
       "      <td>4</td>\n",
       "      <td>4</td>\n",
       "      <td>4</td>\n",
       "      <td>0</td>\n",
       "      <td>0</td>\n",
       "    </tr>\n",
       "    <tr>\n",
       "      <th>337</th>\n",
       "      <td>GP</td>\n",
       "      <td>F</td>\n",
       "      <td>17</td>\n",
       "      <td>U</td>\n",
       "      <td>GT3</td>\n",
       "      <td>T</td>\n",
       "      <td>3</td>\n",
       "      <td>2</td>\n",
       "      <td>other</td>\n",
       "      <td>other</td>\n",
       "      <td>...</td>\n",
       "      <td>yes</td>\n",
       "      <td>yes</td>\n",
       "      <td>yes</td>\n",
       "      <td>yes</td>\n",
       "      <td>4</td>\n",
       "      <td>3</td>\n",
       "      <td>2</td>\n",
       "      <td>2</td>\n",
       "      <td>0</td>\n",
       "      <td>0</td>\n",
       "    </tr>\n",
       "    <tr>\n",
       "      <th>341</th>\n",
       "      <td>GP</td>\n",
       "      <td>M</td>\n",
       "      <td>18</td>\n",
       "      <td>U</td>\n",
       "      <td>GT3</td>\n",
       "      <td>T</td>\n",
       "      <td>4</td>\n",
       "      <td>4</td>\n",
       "      <td>teacher</td>\n",
       "      <td>other</td>\n",
       "      <td>...</td>\n",
       "      <td>yes</td>\n",
       "      <td>yes</td>\n",
       "      <td>yes</td>\n",
       "      <td>no</td>\n",
       "      <td>4</td>\n",
       "      <td>3</td>\n",
       "      <td>3</td>\n",
       "      <td>2</td>\n",
       "      <td>0</td>\n",
       "      <td>0</td>\n",
       "    </tr>\n",
       "    <tr>\n",
       "      <th>343</th>\n",
       "      <td>GP</td>\n",
       "      <td>F</td>\n",
       "      <td>17</td>\n",
       "      <td>U</td>\n",
       "      <td>GT3</td>\n",
       "      <td>A</td>\n",
       "      <td>2</td>\n",
       "      <td>2</td>\n",
       "      <td>at_home</td>\n",
       "      <td>at_home</td>\n",
       "      <td>...</td>\n",
       "      <td>yes</td>\n",
       "      <td>yes</td>\n",
       "      <td>yes</td>\n",
       "      <td>yes</td>\n",
       "      <td>3</td>\n",
       "      <td>3</td>\n",
       "      <td>1</td>\n",
       "      <td>4</td>\n",
       "      <td>0</td>\n",
       "      <td>0</td>\n",
       "    </tr>\n",
       "    <tr>\n",
       "      <th>367</th>\n",
       "      <td>MS</td>\n",
       "      <td>F</td>\n",
       "      <td>17</td>\n",
       "      <td>R</td>\n",
       "      <td>GT3</td>\n",
       "      <td>T</td>\n",
       "      <td>1</td>\n",
       "      <td>1</td>\n",
       "      <td>other</td>\n",
       "      <td>services</td>\n",
       "      <td>...</td>\n",
       "      <td>yes</td>\n",
       "      <td>yes</td>\n",
       "      <td>yes</td>\n",
       "      <td>yes</td>\n",
       "      <td>5</td>\n",
       "      <td>2</td>\n",
       "      <td>1</td>\n",
       "      <td>1</td>\n",
       "      <td>0</td>\n",
       "      <td>0</td>\n",
       "    </tr>\n",
       "    <tr>\n",
       "      <th>383</th>\n",
       "      <td>MS</td>\n",
       "      <td>M</td>\n",
       "      <td>19</td>\n",
       "      <td>R</td>\n",
       "      <td>GT3</td>\n",
       "      <td>T</td>\n",
       "      <td>1</td>\n",
       "      <td>1</td>\n",
       "      <td>other</td>\n",
       "      <td>services</td>\n",
       "      <td>...</td>\n",
       "      <td>yes</td>\n",
       "      <td>yes</td>\n",
       "      <td>no</td>\n",
       "      <td>no</td>\n",
       "      <td>4</td>\n",
       "      <td>3</td>\n",
       "      <td>2</td>\n",
       "      <td>5</td>\n",
       "      <td>0</td>\n",
       "      <td>0</td>\n",
       "    </tr>\n",
       "    <tr>\n",
       "      <th>387</th>\n",
       "      <td>MS</td>\n",
       "      <td>F</td>\n",
       "      <td>19</td>\n",
       "      <td>R</td>\n",
       "      <td>GT3</td>\n",
       "      <td>T</td>\n",
       "      <td>2</td>\n",
       "      <td>3</td>\n",
       "      <td>services</td>\n",
       "      <td>other</td>\n",
       "      <td>...</td>\n",
       "      <td>no</td>\n",
       "      <td>yes</td>\n",
       "      <td>yes</td>\n",
       "      <td>no</td>\n",
       "      <td>5</td>\n",
       "      <td>4</td>\n",
       "      <td>2</td>\n",
       "      <td>5</td>\n",
       "      <td>0</td>\n",
       "      <td>0</td>\n",
       "    </tr>\n",
       "    <tr>\n",
       "      <th>389</th>\n",
       "      <td>MS</td>\n",
       "      <td>F</td>\n",
       "      <td>18</td>\n",
       "      <td>U</td>\n",
       "      <td>GT3</td>\n",
       "      <td>T</td>\n",
       "      <td>1</td>\n",
       "      <td>1</td>\n",
       "      <td>other</td>\n",
       "      <td>other</td>\n",
       "      <td>...</td>\n",
       "      <td>yes</td>\n",
       "      <td>yes</td>\n",
       "      <td>yes</td>\n",
       "      <td>no</td>\n",
       "      <td>1</td>\n",
       "      <td>1</td>\n",
       "      <td>1</td>\n",
       "      <td>5</td>\n",
       "      <td>0</td>\n",
       "      <td>0</td>\n",
       "    </tr>\n",
       "  </tbody>\n",
       "</table>\n",
       "<p>37 rows × 29 columns</p>\n",
       "</div>"
      ],
      "text/plain": [
       "    school sex  age address famsize p_status  m_edu  f_edu     m_job  \\\n",
       "128     GP   M   18       R     GT3        T      2      2     other   \n",
       "130     GP   F   15       R     GT3        T      3      4  services   \n",
       "131     GP   F   15       U     GT3        T      1      1   at_home   \n",
       "134     GP   M   15       R     GT3        T      3      4   at_home   \n",
       "135     GP   F   15       U     GT3        T      4      4  services   \n",
       "136     GP   M   17       R     GT3        T      3      4   at_home   \n",
       "137     GP   F   16       U     GT3        A      3      2     other   \n",
       "140     GP   M   15       U     GT3        T      4      3   teacher   \n",
       "144     GP   M   17       U     GT3        T      2      1     other   \n",
       "146     GP   F   15       U     GT3        T      3      2    health   \n",
       "148     GP   M   16       U     GT3        T      4      4   teacher   \n",
       "150     GP   M   18       U     LE3        T      1      1     other   \n",
       "153     GP   M   19       U     GT3        T      3      2  services   \n",
       "160     GP   M   17       R     LE3        T      2      1   at_home   \n",
       "162     GP   M   16       U     LE3        T      1      2     other   \n",
       "168     GP   F   16       U     GT3        T      2      2     other   \n",
       "170     GP   M   16       U     GT3        T      3      4     other   \n",
       "173     GP   F   16       U     GT3        T      1      3   at_home   \n",
       "221     GP   F   17       U     GT3        T      1      1   at_home   \n",
       "239     GP   M   18       U     GT3        T      4      2     other   \n",
       "242     GP   M   16       U     LE3        T      4      3   teacher   \n",
       "259     GP   F   17       U     LE3        T      2      2  services   \n",
       "264     GP   F   18       U     GT3        T      2      2   at_home   \n",
       "269     GP   F   18       R     GT3        T      2      1     other   \n",
       "296     GP   F   19       U     GT3        T      4      4    health   \n",
       "310     GP   F   19       U     LE3        T      1      2  services   \n",
       "316     GP   F   18       U     GT3        T      2      1  services   \n",
       "332     GP   F   18       U     GT3        T      3      3  services   \n",
       "333     GP   F   18       U     LE3        T      2      2     other   \n",
       "334     GP   F   18       R     GT3        T      2      2   at_home   \n",
       "337     GP   F   17       U     GT3        T      3      2     other   \n",
       "341     GP   M   18       U     GT3        T      4      4   teacher   \n",
       "343     GP   F   17       U     GT3        A      2      2   at_home   \n",
       "367     MS   F   17       R     GT3        T      1      1     other   \n",
       "383     MS   M   19       R     GT3        T      1      1     other   \n",
       "387     MS   F   19       R     GT3        T      2      3  services   \n",
       "389     MS   F   18       U     GT3        T      1      1     other   \n",
       "\n",
       "        f_job  ... nursery higher  internet  romantic  famrel freetime goout  \\\n",
       "128     other  ...     yes    yes       yes        no       3        3     3   \n",
       "130   teacher  ...     yes    yes       yes       yes       4        2     2   \n",
       "131     other  ...      no    yes       yes       yes       4        3     3   \n",
       "134   teacher  ...     yes    yes        no       yes       5        3     3   \n",
       "135     other  ...     yes    yes       yes       yes       4        3     3   \n",
       "136     other  ...     yes    yes        no        no       4        4     5   \n",
       "137     other  ...      no    yes       yes       yes       4        3     2   \n",
       "140  services  ...     yes    yes       yes        no       2        2     2   \n",
       "144     other  ...     yes    yes       yes        no       5        4     5   \n",
       "146  services  ...     yes    yes       yes        no       3        3     2   \n",
       "148   teacher  ...     yes     no       yes       yes       3        3     2   \n",
       "150     other  ...     yes     no       yes       yes       2        3     5   \n",
       "153   at_home  ...     yes     no       yes       yes       4        5     4   \n",
       "160     other  ...     yes     no       yes       yes       4        3     2   \n",
       "162     other  ...     yes    yes       yes        no       4        4     4   \n",
       "168     other  ...      no    yes       yes        no       5        1     5   \n",
       "170     other  ...      no    yes       yes        no       3        4     5   \n",
       "173  services  ...      no    yes       yes       yes       4        3     5   \n",
       "221     other  ...     yes    yes        no       yes       4        3     3   \n",
       "239  services  ...     yes     no       yes        no       5        5     4   \n",
       "242     other  ...      no    yes       yes        no       5        4     5   \n",
       "259  services  ...     yes    yes       yes       yes       3        4     1   \n",
       "264  services  ...     yes    yes       yes       yes       4        3     3   \n",
       "269     other  ...     yes     no       yes       yes       4        3     5   \n",
       "296     other  ...     yes    yes       yes        no       2        3     4   \n",
       "310  services  ...      no    yes        no       yes       4        2     4   \n",
       "316     other  ...     yes    yes       yes        no       5        3     3   \n",
       "332  services  ...     yes    yes       yes        no       5        3     4   \n",
       "333     other  ...      no    yes       yes       yes       4        3     3   \n",
       "334     other  ...     yes    yes        no        no       4        4     4   \n",
       "337     other  ...     yes    yes       yes       yes       4        3     2   \n",
       "341     other  ...     yes    yes       yes        no       4        3     3   \n",
       "343   at_home  ...     yes    yes       yes       yes       3        3     1   \n",
       "367  services  ...     yes    yes       yes       yes       5        2     1   \n",
       "383  services  ...     yes    yes        no        no       4        3     2   \n",
       "387     other  ...      no    yes       yes        no       5        4     2   \n",
       "389     other  ...     yes    yes       yes        no       1        1     1   \n",
       "\n",
       "    health absences score  \n",
       "128      4        0     0  \n",
       "130      5        0     0  \n",
       "131      4        0     0  \n",
       "134      5        0     0  \n",
       "135      5        0     0  \n",
       "136      5        0     0  \n",
       "137      5        0     0  \n",
       "140      3        0     0  \n",
       "144      5        0     0  \n",
       "146      3        0     0  \n",
       "148      5        0     0  \n",
       "150      4        4     0  \n",
       "153      5        0     0  \n",
       "160      5        0     0  \n",
       "162      5        0     0  \n",
       "168      4        0     0  \n",
       "170      2        0     0  \n",
       "173      3        0     0  \n",
       "221      5        0     0  \n",
       "239      2        0     0  \n",
       "242      3        0     0  \n",
       "259      5        0     0  \n",
       "264      3        0     0  \n",
       "269      3        0     0  \n",
       "296      2        0     0  \n",
       "310      3        0     0  \n",
       "316      1        0     0  \n",
       "332      4        0     0  \n",
       "333      2        0     0  \n",
       "334      4        0     0  \n",
       "337      2        0     0  \n",
       "341      2        0     0  \n",
       "343      4        0     0  \n",
       "367      1        0     0  \n",
       "383      5        0     0  \n",
       "387      5        0     0  \n",
       "389      5        0     0  \n",
       "\n",
       "[37 rows x 29 columns]"
      ]
     },
     "execution_count": 234,
     "metadata": {},
     "output_type": "execute_result"
    }
   ],
   "source": [
    "stud_0[stud_0.score == 0]"
   ]
  },
  {
   "cell_type": "markdown",
   "id": "80183c32",
   "metadata": {},
   "source": [
    "В выборке учеников с нулевой оценкой обращает на себя внимание только то, что у них нет пропусков занятий (0 в колонке absences), то есть они не были прогульщиками. Судя по остальным параметрам - это были обычные ученики. Ноль могли поставить им за неявку на экзамен, нарушение правил проведения экзамена и т.п.\n",
    "\n",
    "Если оставить нулевые баллы, то они будут сильно искажать реальную картину успеваемости по математике. Заменять их средним или медианой не будем, так как это целевой показатель - искажать его нельзя. Удаляем записи с нулевой оценкой несмотря на то, что это значительно уменьшает размер данных для построения модели."
   ]
  },
  {
   "cell_type": "code",
   "execution_count": 235,
   "id": "cfc68248",
   "metadata": {},
   "outputs": [
    {
     "data": {
      "text/plain": [
       "<AxesSubplot:>"
      ]
     },
     "execution_count": 235,
     "metadata": {},
     "output_type": "execute_result"
    },
    {
     "data": {
      "image/png": "[encoded data removed]",
      "text/plain": [
       "<Figure size 432x288 with 1 Axes>"
      ]
     },
     "metadata": {
      "needs_background": "light"
     },
     "output_type": "display_data"
    }
   ],
   "source": [
    "stud = stud_0[stud_0.score != 0] \n",
    "# Избавляемся от нулевых значений переприсваивая переменную.\n",
    "stud.score.hist(bins = 100)\n",
    "# Снова смотрим распределение."
   ]
  },
  {
   "cell_type": "markdown",
   "id": "9ee1904b",
   "metadata": {},
   "source": [
    "После удаления выбросов гистограмма столбца score \"с натяжкой\" напоминает форму нормального распределения, онон немного смещено влево."
   ]
  },
  {
   "cell_type": "code",
   "execution_count": 236,
   "id": "0b6b1b66",
   "metadata": {},
   "outputs": [
    {
     "data": {
      "text/plain": [
       "count    352.000000\n",
       "mean      57.755682\n",
       "std       16.200928\n",
       "min       20.000000\n",
       "25%       45.000000\n",
       "50%       55.000000\n",
       "75%       70.000000\n",
       "max      100.000000\n",
       "Name: score, dtype: float64"
      ]
     },
     "execution_count": 236,
     "metadata": {},
     "output_type": "execute_result"
    },
    {
     "data": {
      "image/png": "[encoded data removed]",
      "text/plain": [
       "<Figure size 432x288 with 1 Axes>"
      ]
     },
     "metadata": {
      "needs_background": "light"
     },
     "output_type": "display_data"
    }
   ],
   "source": [
    "sns.boxplot( x='score', data=stud)\n",
    "stud.score.describe()"
   ]
  },
  {
   "cell_type": "markdown",
   "id": "0af50c97",
   "metadata": {},
   "source": [
    "По описательным статистикам и ящику с усами видно, что средее немного больше медианы, то есть распределение не совсем симметричное.\n",
    " \n",
    " Проверим данные в столбце score на нормальность с помощью статистических тестов."
   ]
  },
  {
   "cell_type": "markdown",
   "id": "d497ea8d",
   "metadata": {},
   "source": [
    "### Тест Шапиро-Уилка"
   ]
  },
  {
   "cell_type": "code",
   "execution_count": 237,
   "id": "30a7eb83",
   "metadata": {},
   "outputs": [
    {
     "name": "stdout",
     "output_type": "stream",
     "text": [
      "ShapiroResult(statistic=0.9814924597740173, pvalue=0.0001710323995212093)\n",
      "Распределение не похоже на нормальное. Нулевая гипотеза отвергнута\n"
     ]
    }
   ],
   "source": [
    "test1 = stat, p = shapiro(stud.score)\n",
    "print(test1)\n",
    "# Интерпретация теста.\n",
    "alpha = 0.05  # Принимаем уровень значимости 0.05\n",
    "if p > alpha:\n",
    "    print('Распределение похоже на нормальное. Нулевая гипотеза не отвергнута')\n",
    "else:\n",
    "    print('Распределение не похоже на нормальное. Нулевая гипотеза отвергнута')"
   ]
  },
  {
   "cell_type": "markdown",
   "id": "2fe2813d",
   "metadata": {},
   "source": [
    "### Тест д'Агостино"
   ]
  },
  {
   "cell_type": "code",
   "execution_count": 238,
   "id": "5f9cd2a6",
   "metadata": {},
   "outputs": [
    {
     "name": "stdout",
     "output_type": "stream",
     "text": [
      "NormaltestResult(statistic=5.920251504458122, pvalue=0.05181240123808908)\n",
      "Распределение похоже на нормальное. Нулевая гипотеза не отвергнута\n"
     ]
    }
   ],
   "source": [
    "test2 = stat, p = normaltest(stud.score)\n",
    "print(test2) \n",
    "# Интерпретация теста.\n",
    "alpha = 0.05  # Принимаем уровень значимости 0.05\n",
    "if p > alpha:\n",
    "    print('Распределение похоже на нормальное. Нулевая гипотеза не отвергнута')\n",
    "else:\n",
    "    print('Распределение не похоже на нормальное. Нулевая гипотеза отвергнута')"
   ]
  },
  {
   "cell_type": "markdown",
   "id": "df14b760",
   "metadata": {},
   "source": [
    "Резюмируя исследование столбца score, можно сказать, что распределение успеваемости нельзя уверенно назвать нормальным. Однако можно использовать методы статистического анализа предназначенные для нормального распределения относясь к результатам такого анализа с некоторой настороженностью."
   ]
  },
  {
   "cell_type": "markdown",
   "id": "67ad7048",
   "metadata": {},
   "source": [
    "### Столбец 'age'\n",
    "Количественная дискретная переменная. Для оценки связи возраста с успеваемостью посмотрим их корреляцию."
   ]
  },
  {
   "cell_type": "code",
   "execution_count": 239,
   "id": "5e34580b",
   "metadata": {},
   "outputs": [
    {
     "data": {
      "text/html": [
       "<div>\n",
       "<style scoped>\n",
       "    .dataframe tbody tr th:only-of-type {\n",
       "        vertical-align: middle;\n",
       "    }\n",
       "\n",
       "    .dataframe tbody tr th {\n",
       "        vertical-align: top;\n",
       "    }\n",
       "\n",
       "    .dataframe thead th {\n",
       "        text-align: right;\n",
       "    }\n",
       "</style>\n",
       "<table border=\"1\" class=\"dataframe\">\n",
       "  <thead>\n",
       "    <tr style=\"text-align: right;\">\n",
       "      <th></th>\n",
       "      <th>score</th>\n",
       "      <th>age</th>\n",
       "    </tr>\n",
       "  </thead>\n",
       "  <tbody>\n",
       "    <tr>\n",
       "      <th>score</th>\n",
       "      <td>1.00</td>\n",
       "      <td>-0.13</td>\n",
       "    </tr>\n",
       "    <tr>\n",
       "      <th>age</th>\n",
       "      <td>-0.13</td>\n",
       "      <td>1.00</td>\n",
       "    </tr>\n",
       "  </tbody>\n",
       "</table>\n",
       "</div>"
      ],
      "text/plain": [
       "       score   age\n",
       "score   1.00 -0.13\n",
       "age    -0.13  1.00"
      ]
     },
     "execution_count": 239,
     "metadata": {},
     "output_type": "execute_result"
    }
   ],
   "source": [
    "round(stud[['score','age']].corr(),2)"
   ]
  },
  {
   "cell_type": "markdown",
   "id": "b0e5419c",
   "metadata": {},
   "source": [
    "Корреляция возраста и успеваемости имеет низкое значение, а значит влияние возраста на успеваемость не значительно.\n",
    "\n",
    "Попробуем проверить это утверждение по-другому. Исходя из смысла исследования, учеников по возрасту отбирали не случайно, а брали в каждом классе (возрасте) в равной мере. Заполненность классов как правило полная, поэтому учеников разного возраста должно быть примерно одинаково. Это значит, что, распределение исследуемых по возрасту не должно быть нормальным или смещенным в сторону какого-либо возраста. Данная переменная в нашем исследовании носит скорее категориальный характер: каждый возраст - это класс школы (год обучения). Преобразуем этот столбец в категориальный порядковый. При этом есть одно соображение: в датасете имеютс малочисленные значения возраста 19 - 22 года. В школе учатся до 17, максимум до 18 лет. Школьники старше 18 лет - это исключения не типичные для школы (второгодники, долго болеющие, соц. неблагополучные), поэтому объединим всех старше 18 лет в одну группу."
   ]
  },
  {
   "cell_type": "code",
   "execution_count": 240,
   "id": "cfa3d45c",
   "metadata": {},
   "outputs": [
    {
     "data": {
      "text/plain": [
       "16    96\n",
       "17    90\n",
       "15    76\n",
       "18    69\n",
       "19    16\n",
       "20     3\n",
       "21     1\n",
       "22     1\n",
       "Name: age, dtype: Int64"
      ]
     },
     "execution_count": 240,
     "metadata": {},
     "output_type": "execute_result"
    },
    {
     "data": {
      "image/png": "[encoded data removed]",
      "text/plain": [
       "<Figure size 432x288 with 1 Axes>"
      ]
     },
     "metadata": {
      "needs_background": "light"
     },
     "output_type": "display_data"
    }
   ],
   "source": [
    "stud.age.plot(kind = 'hist', bins = 15) # На гистограмме возрас 20,21 и 22 стоят особняком \n",
    "stud.age.value_counts()                 # и обращают на себя внимание малым количеством."
   ]
  },
  {
   "cell_type": "markdown",
   "id": "9b7d2acb",
   "metadata": {},
   "source": [
    " Создадим новый столбец **age_cat**, в котором будут следующие группы: 15 лет, 16 лет, 17 лет, 18 лет, старше 18 лет."
   ]
  },
  {
   "cell_type": "code",
   "execution_count": 241,
   "id": "6b25238b",
   "metadata": {},
   "outputs": [
    {
     "name": "stderr",
     "output_type": "stream",
     "text": [
      "<ipython-input-241-6318a2211a08>:1: SettingWithCopyWarning: \n",
      "A value is trying to be set on a copy of a slice from a DataFrame.\n",
      "Try using .loc[row_indexer,col_indexer] = value instead\n",
      "\n",
      "See the caveats in the documentation: https://pandas.pydata.org/pandas-docs/stable/user_guide/indexing.html#returning-a-view-versus-a-copy\n",
      "  stud['age_cat'] = stud['age'].copy()   # Создаем столбец-копию.\n"
     ]
    },
    {
     "data": {
      "text/plain": [
       "age_cat\n",
       "15     76\n",
       "16     96\n",
       "17     90\n",
       "18     69\n",
       "18+    21\n",
       "Name: age_cat, dtype: int64"
      ]
     },
     "metadata": {},
     "output_type": "display_data"
    },
    {
     "data": {
      "text/plain": [
       "CategoricalDtype(categories=['15', '16', '17', '18', '18+'], ordered=True)"
      ]
     },
     "metadata": {},
     "output_type": "display_data"
    },
    {
     "data": {
      "text/plain": [
       "<AxesSubplot:xlabel='age_cat'>"
      ]
     },
     "execution_count": 241,
     "metadata": {},
     "output_type": "execute_result"
    },
    {
     "data": {
      "image/png": "[encoded data removed]",
      "text/plain": [
       "<Figure size 432x288 with 1 Axes>"
      ]
     },
     "metadata": {
      "needs_background": "light"
     },
     "output_type": "display_data"
    }
   ],
   "source": [
    "stud['age_cat'] = stud['age'].copy()   # Создаем столбец-копию.\n",
    "stud = stud.replace({'age_cat':{15:'15', 16:'16', 17:'17', 18:'18',  \n",
    "                                19:'18+', 20:'18+', 21:'18+', 22:'18+'}})\n",
    "# Распределяем числовые значения по категориям.\n",
    "stud['age_cat'] = stud['age_cat'].astype('category').cat.as_ordered()\n",
    "# Переводим тип нового столбца в категори.cat.as_ordered()альный порядковый.\n",
    "display(stud.groupby('age_cat').age_cat.count(), stud.age_cat.dtype)\n",
    "stud.groupby('age_cat').age_cat.count().plot(kind = 'bar')\n",
    "# Проверяем результат."
   ]
  },
  {
   "cell_type": "markdown",
   "id": "f38897d8",
   "metadata": {},
   "source": [
    "Проверим влияние возраста на успеваемость в категориальном столбце age_cat."
   ]
  },
  {
   "cell_type": "code",
   "execution_count": 242,
   "id": "4864438c",
   "metadata": {},
   "outputs": [
    {
     "data": {
      "text/html": [
       "<div>\n",
       "<style scoped>\n",
       "    .dataframe tbody tr th:only-of-type {\n",
       "        vertical-align: middle;\n",
       "    }\n",
       "\n",
       "    .dataframe tbody tr th {\n",
       "        vertical-align: top;\n",
       "    }\n",
       "\n",
       "    .dataframe thead th {\n",
       "        text-align: right;\n",
       "    }\n",
       "</style>\n",
       "<table border=\"1\" class=\"dataframe\">\n",
       "  <thead>\n",
       "    <tr style=\"text-align: right;\">\n",
       "      <th></th>\n",
       "      <th>count</th>\n",
       "      <th>mean</th>\n",
       "      <th>std</th>\n",
       "      <th>min</th>\n",
       "      <th>25%</th>\n",
       "      <th>50%</th>\n",
       "      <th>75%</th>\n",
       "      <th>max</th>\n",
       "    </tr>\n",
       "    <tr>\n",
       "      <th>age_cat</th>\n",
       "      <th></th>\n",
       "      <th></th>\n",
       "      <th></th>\n",
       "      <th></th>\n",
       "      <th></th>\n",
       "      <th></th>\n",
       "      <th></th>\n",
       "      <th></th>\n",
       "    </tr>\n",
       "  </thead>\n",
       "  <tbody>\n",
       "    <tr>\n",
       "      <th>15</th>\n",
       "      <td>76.0</td>\n",
       "      <td>60.723684</td>\n",
       "      <td>17.237632</td>\n",
       "      <td>25.0</td>\n",
       "      <td>50.0</td>\n",
       "      <td>60.0</td>\n",
       "      <td>75.0</td>\n",
       "      <td>95.0</td>\n",
       "    </tr>\n",
       "    <tr>\n",
       "      <th>16</th>\n",
       "      <td>96.0</td>\n",
       "      <td>59.218750</td>\n",
       "      <td>15.998818</td>\n",
       "      <td>25.0</td>\n",
       "      <td>50.0</td>\n",
       "      <td>57.5</td>\n",
       "      <td>70.0</td>\n",
       "      <td>100.0</td>\n",
       "    </tr>\n",
       "    <tr>\n",
       "      <th>17</th>\n",
       "      <td>90.0</td>\n",
       "      <td>55.944444</td>\n",
       "      <td>15.594843</td>\n",
       "      <td>20.0</td>\n",
       "      <td>45.0</td>\n",
       "      <td>55.0</td>\n",
       "      <td>65.0</td>\n",
       "      <td>90.0</td>\n",
       "    </tr>\n",
       "    <tr>\n",
       "      <th>18</th>\n",
       "      <td>69.0</td>\n",
       "      <td>56.014493</td>\n",
       "      <td>16.462518</td>\n",
       "      <td>25.0</td>\n",
       "      <td>45.0</td>\n",
       "      <td>55.0</td>\n",
       "      <td>70.0</td>\n",
       "      <td>95.0</td>\n",
       "    </tr>\n",
       "    <tr>\n",
       "      <th>18+</th>\n",
       "      <td>21.0</td>\n",
       "      <td>53.809524</td>\n",
       "      <td>13.684367</td>\n",
       "      <td>35.0</td>\n",
       "      <td>45.0</td>\n",
       "      <td>55.0</td>\n",
       "      <td>65.0</td>\n",
       "      <td>90.0</td>\n",
       "    </tr>\n",
       "  </tbody>\n",
       "</table>\n",
       "</div>"
      ],
      "text/plain": [
       "         count       mean        std   min   25%   50%   75%    max\n",
       "age_cat                                                            \n",
       "15        76.0  60.723684  17.237632  25.0  50.0  60.0  75.0   95.0\n",
       "16        96.0  59.218750  15.998818  25.0  50.0  57.5  70.0  100.0\n",
       "17        90.0  55.944444  15.594843  20.0  45.0  55.0  65.0   90.0\n",
       "18        69.0  56.014493  16.462518  25.0  45.0  55.0  70.0   95.0\n",
       "18+       21.0  53.809524  13.684367  35.0  45.0  55.0  65.0   90.0"
      ]
     },
     "execution_count": 242,
     "metadata": {},
     "output_type": "execute_result"
    },
    {
     "data": {
      "image/png": "[encoded data removed]",
      "text/plain": [
       "<Figure size 432x288 with 1 Axes>"
      ]
     },
     "metadata": {
      "needs_background": "light"
     },
     "output_type": "display_data"
    }
   ],
   "source": [
    "sns.boxplot(x='age_cat', y='score', data=stud)\n",
    "stud.groupby('age_cat').score.describe()"
   ]
  },
  {
   "cell_type": "markdown",
   "id": "19b87d0f",
   "metadata": {},
   "source": [
    "Анализ категориального столбца так же не выявил значимого влияния возраста на успеваемость.  "
   ]
  },
  {
   "cell_type": "code",
   "execution_count": 243,
   "id": "008f441a",
   "metadata": {},
   "outputs": [
    {
     "name": "stdout",
     "output_type": "stream",
     "text": [
      "Не найдено статистически значимых различий между категориями колонки age_cat\n",
      "Не найдено статистически значимых различий между категориями колонки age_cat\n",
      "Не найдено статистически значимых различий между категориями колонки age_cat\n",
      "Не найдено статистически значимых различий между категориями колонки age_cat\n",
      "Не найдено статистически значимых различий между категориями колонки age_cat\n",
      "Не найдено статистически значимых различий между категориями колонки age_cat\n",
      "Не найдено статистически значимых различий между категориями колонки age_cat\n",
      "Не найдено статистически значимых различий между категориями колонки age_cat\n",
      "Не найдено статистически значимых различий между категориями колонки age_cat\n",
      "Не найдено статистически значимых различий между категориями колонки age_cat\n",
      "Не найдено статистически значимых различий между категориями колонки age_cat\n",
      "Не найдено статистически значимых различий между категориями колонки age_cat\n",
      "Не найдено статистически значимых различий между категориями колонки age_cat\n",
      "Не найдено статистически значимых различий между категориями колонки age_cat\n",
      "Не найдено статистически значимых различий между категориями колонки age_cat\n",
      "Не найдено статистически значимых различий между категориями колонки age_cat\n",
      "Не найдено статистически значимых различий между категориями колонки age_cat\n",
      "Не найдено статистически значимых различий между категориями колонки age_cat\n",
      "Не найдено статистически значимых различий между категориями колонки age_cat\n",
      "Не найдено статистически значимых различий между категориями колонки age_cat\n",
      "Не найдено статистически значимых различий между категориями колонки age_cat\n"
     ]
    }
   ],
   "source": [
    "stat_dif('age_cat')\n",
    "# Используем ранее написанную функцию для проверки \n",
    "# статистически значимых различий между различными категориями в столбце."
   ]
  },
  {
   "cell_type": "markdown",
   "id": "32c78f65",
   "metadata": {},
   "source": [
    "**Вывод. Параметр возраст не влияет на успеваемость, поэтому не будет использоваться для построения модели.**"
   ]
  },
  {
   "cell_type": "markdown",
   "id": "4d9c1adf",
   "metadata": {},
   "source": [
    "### Столбец 'absences'\n",
    "Столбец содержит 2 значения, которые в принципе не возможны: 385 и 212. Столько занятий по математике за целый год не наберется. Это явно выбросы, удаляем их."
   ]
  },
  {
   "cell_type": "code",
   "execution_count": 244,
   "id": "25cd9763",
   "metadata": {},
   "outputs": [
    {
     "data": {
      "text/plain": [
       "absences\n",
       "0      74\n",
       "1       3\n",
       "2      60\n",
       "3       7\n",
       "4      62\n",
       "5       5\n",
       "6      30\n",
       "7       6\n",
       "8      20\n",
       "9       3\n",
       "10     17\n",
       "11      2\n",
       "12     12\n",
       "13      2\n",
       "14     12\n",
       "15      2\n",
       "16      7\n",
       "17      1\n",
       "18      5\n",
       "19      1\n",
       "20      4\n",
       "21      1\n",
       "22      3\n",
       "23      1\n",
       "24      1\n",
       "25      1\n",
       "26      1\n",
       "28      1\n",
       "30      1\n",
       "38      1\n",
       "40      1\n",
       "54      1\n",
       "56      1\n",
       "75      1\n",
       "212     1\n",
       "385     1\n",
       "Name: absences, dtype: int64"
      ]
     },
     "execution_count": 244,
     "metadata": {},
     "output_type": "execute_result"
    }
   ],
   "source": [
    "stud.groupby('absences').absences.count()"
   ]
  },
  {
   "cell_type": "code",
   "execution_count": 245,
   "id": "63c00dc7",
   "metadata": {},
   "outputs": [],
   "source": [
    "stud = stud[stud.absences < 200]"
   ]
  },
  {
   "cell_type": "code",
   "execution_count": 246,
   "id": "da4a6926",
   "metadata": {},
   "outputs": [
    {
     "data": {
      "text/plain": [
       "<AxesSubplot:>"
      ]
     },
     "execution_count": 246,
     "metadata": {},
     "output_type": "execute_result"
    },
    {
     "data": {
      "image/png": "[encoded data removed]",
      "text/plain": [
       "<Figure size 432x288 with 1 Axes>"
      ]
     },
     "metadata": {
      "needs_background": "light"
     },
     "output_type": "display_data"
    }
   ],
   "source": [
    "stud.absences.hist(bins = 75)"
   ]
  },
  {
   "cell_type": "markdown",
   "id": "98a18583",
   "metadata": {},
   "source": [
    "Распределение количества прогулов в нашей выборке совершенно точно не является нормальным, поэтому проверять в нем наличие выбросов с помощью ящика с усами, межквартильного промежутка нет смысла.\n",
    "\n",
    "Проверим корреляцию количества прогулов и успеваемости."
   ]
  },
  {
   "cell_type": "code",
   "execution_count": 247,
   "id": "4ba70b01",
   "metadata": {},
   "outputs": [
    {
     "data": {
      "text/html": [
       "<div>\n",
       "<style scoped>\n",
       "    .dataframe tbody tr th:only-of-type {\n",
       "        vertical-align: middle;\n",
       "    }\n",
       "\n",
       "    .dataframe tbody tr th {\n",
       "        vertical-align: top;\n",
       "    }\n",
       "\n",
       "    .dataframe thead th {\n",
       "        text-align: right;\n",
       "    }\n",
       "</style>\n",
       "<table border=\"1\" class=\"dataframe\">\n",
       "  <thead>\n",
       "    <tr style=\"text-align: right;\">\n",
       "      <th></th>\n",
       "      <th>absences</th>\n",
       "      <th>score</th>\n",
       "    </tr>\n",
       "  </thead>\n",
       "  <tbody>\n",
       "    <tr>\n",
       "      <th>absences</th>\n",
       "      <td>1.000000</td>\n",
       "      <td>-0.214358</td>\n",
       "    </tr>\n",
       "    <tr>\n",
       "      <th>score</th>\n",
       "      <td>-0.214358</td>\n",
       "      <td>1.000000</td>\n",
       "    </tr>\n",
       "  </tbody>\n",
       "</table>\n",
       "</div>"
      ],
      "text/plain": [
       "          absences     score\n",
       "absences  1.000000 -0.214358\n",
       "score    -0.214358  1.000000"
      ]
     },
     "execution_count": 247,
     "metadata": {},
     "output_type": "execute_result"
    }
   ],
   "source": [
    "stud[['absences','score']].corr()"
   ]
  },
  {
   "cell_type": "markdown",
   "id": "39dd203c",
   "metadata": {},
   "source": [
    "**Корреляция отрицательная, но не очень высокая. Этот столбец претендент для включения в модель.**"
   ]
  },
  {
   "cell_type": "markdown",
   "id": "e47fa4a8",
   "metadata": {},
   "source": [
    "### Столбец 'failures'\n",
    "Сильнее всего коррелирует с успеваемостью количество внеучебных неудач (-0.28). Однако это очень субъективный показатель, что считать неудачей заслуживающей внимания зависит от ососбенностей характера, то есть он скорее косвенно характеризует личность ученика.\n",
    "\n",
    "Четкой тенденции зависимости успеваемости от неудач на графике не заметно. Имеющие 3 неудачи успевают так же, как и с двумя. Сомнительным кажется ограничение количества неудач тремя, неужели больше 3 неудач не бывает? Кроме того количество учеников с 3 и 4 неудачами слишком мало, чтобы можно было доверять статистике по ним."
   ]
  },
  {
   "cell_type": "code",
   "execution_count": 248,
   "id": "483d62e8",
   "metadata": {},
   "outputs": [
    {
     "data": {
      "text/html": [
       "<div>\n",
       "<style scoped>\n",
       "    .dataframe tbody tr th:only-of-type {\n",
       "        vertical-align: middle;\n",
       "    }\n",
       "\n",
       "    .dataframe tbody tr th {\n",
       "        vertical-align: top;\n",
       "    }\n",
       "\n",
       "    .dataframe thead th {\n",
       "        text-align: right;\n",
       "    }\n",
       "</style>\n",
       "<table border=\"1\" class=\"dataframe\">\n",
       "  <thead>\n",
       "    <tr style=\"text-align: right;\">\n",
       "      <th></th>\n",
       "      <th>failures</th>\n",
       "      <th>score</th>\n",
       "    </tr>\n",
       "  </thead>\n",
       "  <tbody>\n",
       "    <tr>\n",
       "      <th>failures</th>\n",
       "      <td>1.000000</td>\n",
       "      <td>-0.283415</td>\n",
       "    </tr>\n",
       "    <tr>\n",
       "      <th>score</th>\n",
       "      <td>-0.283415</td>\n",
       "      <td>1.000000</td>\n",
       "    </tr>\n",
       "  </tbody>\n",
       "</table>\n",
       "</div>"
      ],
      "text/plain": [
       "          failures     score\n",
       "failures  1.000000 -0.283415\n",
       "score    -0.283415  1.000000"
      ]
     },
     "execution_count": 248,
     "metadata": {},
     "output_type": "execute_result"
    }
   ],
   "source": [
    "stud[['failures','score']].corr()"
   ]
  },
  {
   "cell_type": "code",
   "execution_count": 249,
   "id": "cc1d1fe8",
   "metadata": {},
   "outputs": [
    {
     "data": {
      "text/html": [
       "<div>\n",
       "<style scoped>\n",
       "    .dataframe tbody tr th:only-of-type {\n",
       "        vertical-align: middle;\n",
       "    }\n",
       "\n",
       "    .dataframe tbody tr th {\n",
       "        vertical-align: top;\n",
       "    }\n",
       "\n",
       "    .dataframe thead th {\n",
       "        text-align: right;\n",
       "    }\n",
       "</style>\n",
       "<table border=\"1\" class=\"dataframe\">\n",
       "  <thead>\n",
       "    <tr style=\"text-align: right;\">\n",
       "      <th></th>\n",
       "      <th>count</th>\n",
       "      <th>mean</th>\n",
       "      <th>std</th>\n",
       "      <th>min</th>\n",
       "      <th>25%</th>\n",
       "      <th>50%</th>\n",
       "      <th>75%</th>\n",
       "      <th>max</th>\n",
       "    </tr>\n",
       "    <tr>\n",
       "      <th>failures</th>\n",
       "      <th></th>\n",
       "      <th></th>\n",
       "      <th></th>\n",
       "      <th></th>\n",
       "      <th></th>\n",
       "      <th></th>\n",
       "      <th></th>\n",
       "      <th></th>\n",
       "    </tr>\n",
       "  </thead>\n",
       "  <tbody>\n",
       "    <tr>\n",
       "      <th>0</th>\n",
       "      <td>292.0</td>\n",
       "      <td>59.674658</td>\n",
       "      <td>15.935231</td>\n",
       "      <td>25.0</td>\n",
       "      <td>50.00</td>\n",
       "      <td>57.5</td>\n",
       "      <td>70.00</td>\n",
       "      <td>100.0</td>\n",
       "    </tr>\n",
       "    <tr>\n",
       "      <th>1</th>\n",
       "      <td>38.0</td>\n",
       "      <td>50.526316</td>\n",
       "      <td>13.294455</td>\n",
       "      <td>25.0</td>\n",
       "      <td>40.00</td>\n",
       "      <td>50.0</td>\n",
       "      <td>60.00</td>\n",
       "      <td>90.0</td>\n",
       "    </tr>\n",
       "    <tr>\n",
       "      <th>2</th>\n",
       "      <td>10.0</td>\n",
       "      <td>44.000000</td>\n",
       "      <td>16.633300</td>\n",
       "      <td>20.0</td>\n",
       "      <td>36.25</td>\n",
       "      <td>42.5</td>\n",
       "      <td>48.75</td>\n",
       "      <td>75.0</td>\n",
       "    </tr>\n",
       "    <tr>\n",
       "      <th>3</th>\n",
       "      <td>10.0</td>\n",
       "      <td>41.500000</td>\n",
       "      <td>8.834906</td>\n",
       "      <td>25.0</td>\n",
       "      <td>35.00</td>\n",
       "      <td>42.5</td>\n",
       "      <td>50.00</td>\n",
       "      <td>50.0</td>\n",
       "    </tr>\n",
       "  </tbody>\n",
       "</table>\n",
       "</div>"
      ],
      "text/plain": [
       "          count       mean        std   min    25%   50%    75%    max\n",
       "failures                                                              \n",
       "0         292.0  59.674658  15.935231  25.0  50.00  57.5  70.00  100.0\n",
       "1          38.0  50.526316  13.294455  25.0  40.00  50.0  60.00   90.0\n",
       "2          10.0  44.000000  16.633300  20.0  36.25  42.5  48.75   75.0\n",
       "3          10.0  41.500000   8.834906  25.0  35.00  42.5  50.00   50.0"
      ]
     },
     "execution_count": 249,
     "metadata": {},
     "output_type": "execute_result"
    },
    {
     "data": {
      "image/png": "[encoded data removed]",
      "text/plain": [
       "<Figure size 432x288 with 1 Axes>"
      ]
     },
     "metadata": {
      "needs_background": "light"
     },
     "output_type": "display_data"
    }
   ],
   "source": [
    "sns.boxplot(x='failures', y='score', data=stud)\n",
    "stud.groupby('failures').score.describe()"
   ]
  },
  {
   "cell_type": "markdown",
   "id": "7abb45df",
   "metadata": {},
   "source": [
    "**Корреляция отрицательная, но не очень высокая. Этот столбец претендент для включения в модель.**"
   ]
  },
  {
   "cell_type": "markdown",
   "id": "5aa09a1e",
   "metadata": {},
   "source": [
    "## Анализ влияния категориальных признаков на успеваемость.\n",
    "В нашем датасете есть несколько категориальных порядковых столбцов, значения которых обозначены числами. Понимая условность такого анализа попытаемся проверить корреляцию этих столбцов между собой и со столбцом score. Это может дать интересную информацию."
   ]
  },
  {
   "cell_type": "code",
   "execution_count": 250,
   "id": "86fa0e60",
   "metadata": {},
   "outputs": [
    {
     "data": {
      "text/html": [
       "<div>\n",
       "<style scoped>\n",
       "    .dataframe tbody tr th:only-of-type {\n",
       "        vertical-align: middle;\n",
       "    }\n",
       "\n",
       "    .dataframe tbody tr th {\n",
       "        vertical-align: top;\n",
       "    }\n",
       "\n",
       "    .dataframe thead th {\n",
       "        text-align: right;\n",
       "    }\n",
       "</style>\n",
       "<table border=\"1\" class=\"dataframe\">\n",
       "  <thead>\n",
       "    <tr style=\"text-align: right;\">\n",
       "      <th></th>\n",
       "      <th>m_edu</th>\n",
       "      <th>score</th>\n",
       "      <th>f_edu</th>\n",
       "      <th>traveltime</th>\n",
       "      <th>studytime</th>\n",
       "      <th>famrel</th>\n",
       "      <th>freetime</th>\n",
       "      <th>goout</th>\n",
       "      <th>health</th>\n",
       "    </tr>\n",
       "  </thead>\n",
       "  <tbody>\n",
       "    <tr>\n",
       "      <th>m_edu</th>\n",
       "      <td>1.00</td>\n",
       "      <td>0.18</td>\n",
       "      <td>0.57</td>\n",
       "      <td>-0.16</td>\n",
       "      <td>0.07</td>\n",
       "      <td>-0.01</td>\n",
       "      <td>0.02</td>\n",
       "      <td>0.07</td>\n",
       "      <td>-0.06</td>\n",
       "    </tr>\n",
       "    <tr>\n",
       "      <th>score</th>\n",
       "      <td>0.18</td>\n",
       "      <td>1.00</td>\n",
       "      <td>0.12</td>\n",
       "      <td>-0.07</td>\n",
       "      <td>0.14</td>\n",
       "      <td>0.05</td>\n",
       "      <td>-0.01</td>\n",
       "      <td>-0.17</td>\n",
       "      <td>-0.08</td>\n",
       "    </tr>\n",
       "    <tr>\n",
       "      <th>f_edu</th>\n",
       "      <td>0.57</td>\n",
       "      <td>0.12</td>\n",
       "      <td>1.00</td>\n",
       "      <td>-0.12</td>\n",
       "      <td>-0.01</td>\n",
       "      <td>-0.01</td>\n",
       "      <td>-0.04</td>\n",
       "      <td>0.04</td>\n",
       "      <td>-0.02</td>\n",
       "    </tr>\n",
       "    <tr>\n",
       "      <th>traveltime</th>\n",
       "      <td>-0.16</td>\n",
       "      <td>-0.07</td>\n",
       "      <td>-0.12</td>\n",
       "      <td>1.00</td>\n",
       "      <td>-0.10</td>\n",
       "      <td>-0.03</td>\n",
       "      <td>-0.02</td>\n",
       "      <td>0.04</td>\n",
       "      <td>-0.02</td>\n",
       "    </tr>\n",
       "    <tr>\n",
       "      <th>studytime</th>\n",
       "      <td>0.07</td>\n",
       "      <td>0.14</td>\n",
       "      <td>-0.01</td>\n",
       "      <td>-0.10</td>\n",
       "      <td>1.00</td>\n",
       "      <td>0.05</td>\n",
       "      <td>-0.13</td>\n",
       "      <td>-0.03</td>\n",
       "      <td>-0.07</td>\n",
       "    </tr>\n",
       "    <tr>\n",
       "      <th>famrel</th>\n",
       "      <td>-0.01</td>\n",
       "      <td>0.05</td>\n",
       "      <td>-0.01</td>\n",
       "      <td>-0.03</td>\n",
       "      <td>0.05</td>\n",
       "      <td>1.00</td>\n",
       "      <td>0.15</td>\n",
       "      <td>0.03</td>\n",
       "      <td>0.11</td>\n",
       "    </tr>\n",
       "    <tr>\n",
       "      <th>freetime</th>\n",
       "      <td>0.02</td>\n",
       "      <td>-0.01</td>\n",
       "      <td>-0.04</td>\n",
       "      <td>-0.02</td>\n",
       "      <td>-0.13</td>\n",
       "      <td>0.15</td>\n",
       "      <td>1.00</td>\n",
       "      <td>0.29</td>\n",
       "      <td>0.07</td>\n",
       "    </tr>\n",
       "    <tr>\n",
       "      <th>goout</th>\n",
       "      <td>0.07</td>\n",
       "      <td>-0.17</td>\n",
       "      <td>0.04</td>\n",
       "      <td>0.04</td>\n",
       "      <td>-0.03</td>\n",
       "      <td>0.03</td>\n",
       "      <td>0.29</td>\n",
       "      <td>1.00</td>\n",
       "      <td>-0.01</td>\n",
       "    </tr>\n",
       "    <tr>\n",
       "      <th>health</th>\n",
       "      <td>-0.06</td>\n",
       "      <td>-0.08</td>\n",
       "      <td>-0.02</td>\n",
       "      <td>-0.02</td>\n",
       "      <td>-0.07</td>\n",
       "      <td>0.11</td>\n",
       "      <td>0.07</td>\n",
       "      <td>-0.01</td>\n",
       "      <td>1.00</td>\n",
       "    </tr>\n",
       "  </tbody>\n",
       "</table>\n",
       "</div>"
      ],
      "text/plain": [
       "            m_edu  score  f_edu  traveltime  studytime  famrel  freetime  \\\n",
       "m_edu        1.00   0.18   0.57       -0.16       0.07   -0.01      0.02   \n",
       "score        0.18   1.00   0.12       -0.07       0.14    0.05     -0.01   \n",
       "f_edu        0.57   0.12   1.00       -0.12      -0.01   -0.01     -0.04   \n",
       "traveltime  -0.16  -0.07  -0.12        1.00      -0.10   -0.03     -0.02   \n",
       "studytime    0.07   0.14  -0.01       -0.10       1.00    0.05     -0.13   \n",
       "famrel      -0.01   0.05  -0.01       -0.03       0.05    1.00      0.15   \n",
       "freetime     0.02  -0.01  -0.04       -0.02      -0.13    0.15      1.00   \n",
       "goout        0.07  -0.17   0.04        0.04      -0.03    0.03      0.29   \n",
       "health      -0.06  -0.08  -0.02       -0.02      -0.07    0.11      0.07   \n",
       "\n",
       "            goout  health  \n",
       "m_edu        0.07   -0.06  \n",
       "score       -0.17   -0.08  \n",
       "f_edu        0.04   -0.02  \n",
       "traveltime   0.04   -0.02  \n",
       "studytime   -0.03   -0.07  \n",
       "famrel       0.03    0.11  \n",
       "freetime     0.29    0.07  \n",
       "goout        1.00   -0.01  \n",
       "health      -0.01    1.00  "
      ]
     },
     "execution_count": 250,
     "metadata": {},
     "output_type": "execute_result"
    }
   ],
   "source": [
    "round(stud[['m_edu','score','f_edu','traveltime','studytime',\n",
    "                      'famrel','freetime','goout','health',]].corr(), 2)"
   ]
  },
  {
   "cell_type": "markdown",
   "id": "eba16bfb",
   "metadata": {},
   "source": [
    "Анализируя полученные корреляции можно отметить, что сильная корреляция отмечается только между образованием родителей (0.57). С успеваемостью силльной корреляции нет ни у одного столбца, но сильнее других влияют:m_edu (0.18), f_edu (0.12), studytime (0.14) и goout (-0.17). "
   ]
  },
  {
   "cell_type": "markdown",
   "id": "f20c82e1",
   "metadata": {},
   "source": [
    "### Анализ влияния категориальных признаков на успеваемость."
   ]
  },
  {
   "cell_type": "code",
   "execution_count": 1,
   "id": "323fb2d7",
   "metadata": {},
   "outputs": [
    {
     "ename": "NameError",
     "evalue": "name 'cat_col' is not defined",
     "output_type": "error",
     "traceback": [
      "\u001b[1;31m---------------------------------------------------------------------------\u001b[0m",
      "\u001b[1;31mNameError\u001b[0m                                 Traceback (most recent call last)",
      "\u001b[1;32m<ipython-input-1-b7c526552ddd>\u001b[0m in \u001b[0;36m<module>\u001b[1;34m\u001b[0m\n\u001b[1;32m----> 1\u001b[1;33m \u001b[1;32mfor\u001b[0m \u001b[0mcol\u001b[0m \u001b[1;32min\u001b[0m \u001b[0mcat_col\u001b[0m\u001b[1;33m:\u001b[0m\u001b[1;33m\u001b[0m\u001b[1;33m\u001b[0m\u001b[0m\n\u001b[0m\u001b[0;32m      2\u001b[0m     \u001b[0mshow_box_stat\u001b[0m\u001b[1;33m(\u001b[0m\u001b[0mcol\u001b[0m\u001b[1;33m)\u001b[0m\u001b[1;33m\u001b[0m\u001b[1;33m\u001b[0m\u001b[0m\n\u001b[0;32m      3\u001b[0m \u001b[1;31m# Функция show_box_stat была определена в первой ячейке.\u001b[0m\u001b[1;33m\u001b[0m\u001b[1;33m\u001b[0m\u001b[1;33m\u001b[0m\u001b[0m\n",
      "\u001b[1;31mNameError\u001b[0m: name 'cat_col' is not defined"
     ]
    }
   ],
   "source": [
    "\n",
    "\n",
    "for col in cat_col:       \n",
    "    show_box_stat(col)  \n",
    "# Функция show_box_stat была определена в первой ячейке."
   ]
  },
  {
   "cell_type": "markdown",
   "id": "d7109bbc",
   "metadata": {},
   "source": [
    "### school +\n",
    "Именно в школе получают основные знания по математике. Уровень преподавания математики в школах различный: в лицее - высокий, в общеобразовательной школе - ниже. К сожалению в задании нет расшифровки аббревиатур школ GP и MS.\n",
    "\n",
    "Диаграмма показывает различный уровень успеваемости в школах GP и MS."
   ]
  },
  {
   "cell_type": "markdown",
   "id": "604482a9",
   "metadata": {},
   "source": [
    "### sex +\n",
    "График показывает более высокий уровень оценок по математике у мальчиков. "
   ]
  },
  {
   "cell_type": "markdown",
   "id": "05e58649",
   "metadata": {},
   "source": [
    "### address +\n",
    "Уровень развития образования в городе выше чем в сельских школах. Это подтверждает существенная разница показателей успеваемости городских и сельских учеников."
   ]
  },
  {
   "cell_type": "markdown",
   "id": "d29c9bc4",
   "metadata": {},
   "source": [
    "### famsize +\n",
    "В малых семьях успеваемость выше. Родители больше внимания уделяют ребенку, и у ребенка больше возможностей заниматься учебой. "
   ]
  },
  {
   "cell_type": "markdown",
   "id": "ee8db915",
   "metadata": {},
   "source": [
    "### p_edu и m_edu +\n",
    "При анализе успеваемости в зависимости от уровня образования отца и матери можно отметить:\n",
    "\n",
    "1) успеваемость совершенно одинаково зависит как от образования отца так и от образования матери;\n",
    "\n",
    "2) есть четкая тенденция, выше образование родителей - выше успеваемость;\n",
    "\n",
    "3) нет разницы в успеваемости детей, родители которых имеют незаконченное и законченное среднее образование;\n",
    "\n",
    "4) высокий уровень успеваемости детей, родители которых не имеют образования (такий наблюдений очень мало - не достоверно).\n",
    "\n",
    "Создадим столбец, который учитывал бы образование и отца и матери, они в равной степени влияют на успеваемость ученика. Просто использовать один из столбцов f_edu или m_edu было бы не верно, так как уровень образования родителей в одной семье различен. В итоговом столбце будем оставлять уровень образования наиболее образованного родителя. Значения незеконченного среднего образования (9 классов) и законченного среднего (11 классов или колледж) объединим в одно значение - среднее образование."
   ]
  },
  {
   "cell_type": "code",
   "execution_count": 252,
   "id": "2bd1452e",
   "metadata": {},
   "outputs": [],
   "source": [
    "stud['m_edu_tmp'] = stud['m_edu'].apply(lambda x: str(x))\n",
    "stud['f_edu_tmp'] = stud['f_edu'].apply(lambda x: str(x))\n",
    "# Временные столбцы для создания суммарного строкового столбца.\n",
    "stud['p_edu'] = stud['m_edu_tmp'] + stud['f_edu_tmp']\n",
    "# Столбец отражающий образование и отца и матери - образованность семьи.\n",
    "stud.drop(['m_edu_tmp','f_edu_tmp'],axis = 1,inplace = True) \n",
    "# Удаляем ненужные временные столбцы.\n",
    "stud.p_edu = stud.p_edu.apply(lambda x: x[0] if x[0]>x[1] else x[1])\n",
    "# Оставляем значение только наиболее образованного родителя.\n",
    "stud = stud.replace({'p_edu':{'0':'0','1':'elementary','2':'middle',\n",
    "                              '3':'middle','4':'univer'}})\n",
    "# Переименовываем столбцы и объединяем неполное и полное среднее образование.\n",
    "stud.p_edu = stud.p_edu.astype('category').cat.as_ordered()\n",
    "# Приводим столбец к нужному типу - категориальный порядковый."
   ]
  },
  {
   "cell_type": "code",
   "execution_count": 253,
   "id": "df1d2cdf",
   "metadata": {},
   "outputs": [
    {
     "data": {
      "text/plain": [
       "<AxesSubplot:xlabel='p_edu', ylabel='score'>"
      ]
     },
     "execution_count": 253,
     "metadata": {},
     "output_type": "execute_result"
    },
    {
     "data": {
      "image/png": "[encoded data removed]",
      "text/plain": [
       "<Figure size 432x288 with 1 Axes>"
      ]
     },
     "metadata": {
      "needs_background": "light"
     },
     "output_type": "display_data"
    }
   ],
   "source": [
    "sns.boxplot(x='p_edu', y='score', data=stud)"
   ]
  },
  {
   "cell_type": "markdown",
   "id": "7b021b9a",
   "metadata": {},
   "source": [
    "В новом столбце зависимость успеваемости ученика от уровня образованности родителей прослеживается очень четко. В семье с более образованными родителями образование является ценностью, и это транслируется в сознание детей."
   ]
  },
  {
   "cell_type": "markdown",
   "id": "30b5f2c2",
   "metadata": {},
   "source": [
    "### m_job и f_job -\n",
    "Данные признаки хоть и показывают какое-то влияние на успеваемость, имеют сомнительную ценность. В категориях смешаны конкретные профессии (например, учитель - специалист с высшим образованием), сферы деятельности (например, здравоохранение), в которых могут быть заняты люди разных профессий и уровня образования, и место работы (например, на дому), которое вообще ни о чем не говорит: ни о сфере деятельности, ни об урвне образования, ни о том, работает ли родитель в принципе. Эти два столбца не содержат какого-либо определенного признака, который можно было бы отслеживать. \n",
    "\n",
    "Если учитывать в этих столбцах только сферу деятельности, то и это будет неправильным, так как в столбцах указаны только 3 определенные сферы деятельности, причем не самые многочисленные по числу занятых в них работников. Большое число сфер деятельности просто записаны в другие.\n",
    " "
   ]
  },
  {
   "cell_type": "markdown",
   "id": "ab21ff86",
   "metadata": {},
   "source": [
    "### reason -\n",
    "При анализе влияния на успеваемость мотивов родителей при выборе школы выделяется только мотив - репутация школы, во всех остальных случаях разницы нет.  "
   ]
  },
  {
   "cell_type": "markdown",
   "id": "ed114f3e",
   "metadata": {},
   "source": [
    "### guardian  -\n",
    "Обращает на себя внимание, что отличия в успеваемости в зависимости от опекуна есть, но они не очень значительные. Группа учеников, опекуном которых являются не родители слишком мала, чтобы считать достоверной разницу в успеваемости."
   ]
  },
  {
   "cell_type": "markdown",
   "id": "df62c1b2",
   "metadata": {},
   "source": [
    "### traveltime -\n",
    "Длительность пути до школы более часа заметно снижает успеваемость, в остальных случаях разницы нет. Однако учеников, у которых путь до школы составляет более часа всего 7 человек (в этой группе еще 2 выброса). Эту разницу нельзя считать достоверной."
   ]
  },
  {
   "cell_type": "markdown",
   "id": "bcafe086",
   "metadata": {},
   "source": [
    "### studytime +\n",
    "Чем больше дополнительно занимается ученик по математике, тем лучше результаты, но только если занятий более 5 часов в неделю. Создадим новый столбец, в котором объединим категории менее 5 часов занятий в неделю."
   ]
  },
  {
   "cell_type": "code",
   "execution_count": 254,
   "id": "8a32a34a",
   "metadata": {},
   "outputs": [],
   "source": [
    "stud['studytime_1'] = stud['studytime'].copy()\n",
    "# Создаем копию-столбец.\n",
    "stud = stud.replace({'studytime_1':{1:'2-5',2:'2-5',3:'5-10',4:'>10'}})\n",
    "# Переименовываем столбцы и объединяем 1 и 2 категории.\n",
    "stud.studytime_1 = stud.studytime_1.astype('category').cat.as_ordered()\n",
    "# Приводим столбец к нужному типу - категориальный порядковый."
   ]
  },
  {
   "cell_type": "code",
   "execution_count": 255,
   "id": "881c393b",
   "metadata": {},
   "outputs": [
    {
     "data": {
      "text/plain": [
       "<AxesSubplot:xlabel='studytime_1', ylabel='score'>"
      ]
     },
     "execution_count": 255,
     "metadata": {},
     "output_type": "execute_result"
    },
    {
     "data": {
      "image/png": "[encoded data removed]",
      "text/plain": [
       "<Figure size 432x288 with 1 Axes>"
      ]
     },
     "metadata": {
      "needs_background": "light"
     },
     "output_type": "display_data"
    }
   ],
   "source": [
    "sns.boxplot(x='studytime_1', y='score', data=stud)"
   ]
  },
  {
   "cell_type": "markdown",
   "id": "f303dc99",
   "metadata": {},
   "source": [
    "### schoolsup +\n",
    "Отмечается выраженноя отрицательная связь наличия дополнительных занятий в школе. Необходимость в дополнительных занятиях - это следствие плохой успеваемости. "
   ]
  },
  {
   "cell_type": "markdown",
   "id": "951e8da3",
   "metadata": {},
   "source": [
    "### higher +-\n",
    "Среди тех, кто планирует получать высшее образование, успеваемость выше. Однако группа не планирующих учиться в ВУЗе слишко малочисленна, поэтому разница в успеваемости не совсем достоверна."
   ]
  },
  {
   "cell_type": "markdown",
   "id": "b20970f6",
   "metadata": {},
   "source": [
    "### famrel, freetime, goout, health\n",
    "Значения в этих столбцах основаны на субъективной оценке самого ученика. Значения в шкале от 1 до 5 для одного ученика это совсем не то, что у другого. Использовать значения в таких шкалах для группировки по категориям и оценки их влияния на целевой показатель не совсем корректно.\n",
    "\n",
    "Единственный показатель из них, который можно было бы использовать - это health. Однако нужно уточнить, что это будет не текущее состояние здоровья, которое может определить врач, а **самочувствие**, которое по сути является субъективным. Выделять 5 градаций для такого признака нет смысла. Разумно выделить в этом критерии 2 группы: нормальное самочувствие, когда ученика ничего не бесспокоит, и плохое, когда что-то бесспокоит. Создадим новый столбец: bad и normal.\n",
    "### health +"
   ]
  },
  {
   "cell_type": "code",
   "execution_count": 256,
   "id": "7718ad87",
   "metadata": {},
   "outputs": [],
   "source": [
    "stud['health_1'] = stud['health'].copy()\n",
    "# Создаем копию-столбец.\n",
    "stud = stud.replace({'health_1':{1:'normal',2:'normal',3:'bad',4:'bad',5:'bad'}})\n",
    "# Переименовываем столбцы и объединяем 1 и 2 категории.\n",
    "stud.health_1 = stud.health_1.astype('category')\n",
    "# Приводим столбец к нужному типу - категориальный."
   ]
  },
  {
   "cell_type": "code",
   "execution_count": 257,
   "id": "5f92bfd2",
   "metadata": {},
   "outputs": [
    {
     "data": {
      "text/html": [
       "<div>\n",
       "<style scoped>\n",
       "    .dataframe tbody tr th:only-of-type {\n",
       "        vertical-align: middle;\n",
       "    }\n",
       "\n",
       "    .dataframe tbody tr th {\n",
       "        vertical-align: top;\n",
       "    }\n",
       "\n",
       "    .dataframe thead th {\n",
       "        text-align: right;\n",
       "    }\n",
       "</style>\n",
       "<table border=\"1\" class=\"dataframe\">\n",
       "  <thead>\n",
       "    <tr style=\"text-align: right;\">\n",
       "      <th></th>\n",
       "      <th>count</th>\n",
       "      <th>mean</th>\n",
       "      <th>std</th>\n",
       "      <th>min</th>\n",
       "      <th>25%</th>\n",
       "      <th>50%</th>\n",
       "      <th>75%</th>\n",
       "      <th>max</th>\n",
       "    </tr>\n",
       "    <tr>\n",
       "      <th>health_1</th>\n",
       "      <th></th>\n",
       "      <th></th>\n",
       "      <th></th>\n",
       "      <th></th>\n",
       "      <th></th>\n",
       "      <th></th>\n",
       "      <th></th>\n",
       "      <th></th>\n",
       "    </tr>\n",
       "  </thead>\n",
       "  <tbody>\n",
       "    <tr>\n",
       "      <th>bad</th>\n",
       "      <td>269.0</td>\n",
       "      <td>56.505576</td>\n",
       "      <td>15.461223</td>\n",
       "      <td>25.0</td>\n",
       "      <td>45.0</td>\n",
       "      <td>55.0</td>\n",
       "      <td>65.0</td>\n",
       "      <td>95.0</td>\n",
       "    </tr>\n",
       "    <tr>\n",
       "      <th>normal</th>\n",
       "      <td>81.0</td>\n",
       "      <td>61.728395</td>\n",
       "      <td>17.838871</td>\n",
       "      <td>20.0</td>\n",
       "      <td>50.0</td>\n",
       "      <td>65.0</td>\n",
       "      <td>75.0</td>\n",
       "      <td>100.0</td>\n",
       "    </tr>\n",
       "  </tbody>\n",
       "</table>\n",
       "</div>"
      ],
      "text/plain": [
       "          count       mean        std   min   25%   50%   75%    max\n",
       "health_1                                                            \n",
       "bad       269.0  56.505576  15.461223  25.0  45.0  55.0  65.0   95.0\n",
       "normal     81.0  61.728395  17.838871  20.0  50.0  65.0  75.0  100.0"
      ]
     },
     "execution_count": 257,
     "metadata": {},
     "output_type": "execute_result"
    },
    {
     "data": {
      "image/png": "[encoded data removed]",
      "text/plain": [
       "<Figure size 432x288 with 1 Axes>"
      ]
     },
     "metadata": {
      "needs_background": "light"
     },
     "output_type": "display_data"
    }
   ],
   "source": [
    "sns.boxplot(x='health_1', y='score', data=stud)\n",
    "stud.groupby('health_1').score.describe()"
   ]
  },
  {
   "cell_type": "markdown",
   "id": "a3073653",
   "metadata": {},
   "source": [
    "Столбец goout включим в список кандидатов для модели, так как он показывал более сильную корреляцию с успеваемостью по сравнению со многими другими столбцами."
   ]
  },
  {
   "cell_type": "markdown",
   "id": "4bb02799",
   "metadata": {},
   "source": [
    "### Отбор столбцов и выводы.\n",
    "После анализа влияния всех показателей в датасете на успеваемость по математике можно отобрать следующие 11 наиболее сильно влияющих столбцов: 'school', 'sex', 'address', 'famsize', 'p_edu', 'failures', 'absences', 'studytime_1',  'health_1',  'schoolsup' 'goout'.\n",
    "\n",
    "\n",
    "\n",
    "'sex', 'failures', 'health_1' - характеризуют самого ученика.\n",
    "\n",
    "'famsize', 'p_edu' - характеризуют семью ученика.\n",
    "\n",
    "'school', 'address' - характеризуют школу.\n",
    "\n",
    "'absences', 'studytime_1' - характеризуют время посвященное изучению математики в школе и дома.\n",
    "\n",
    "'schoolsup' - этот показатель отражает реакцию школы на слабые показатели в течение года.\n",
    "\n",
    "Причем **не все эти столбцы будут одинаково значимы для будущей модели.**\n",
    "\n",
    "Столбцы: 'absences', 'failures', 'p_edu', 'studytime_1' носят объективный характер, их влияние на успеваемость подтверждает корреляционный анализ, поэтому для будущей модели они **будут иметь большее значение.\n",
    "\n",
    "Столбцы: 'sex', 'school', 'address', 'famsize' носят объективный характер, но **их влияние на успеваемость подтверждена только анализом графиков.\n",
    "\n",
    "Столбцы: 'health_1' и 'goout' носят субъективный характер и **сильно полагаться на них не стоит.\n",
    "\n",
    "Столбец 'schoolsup' **имеет малое прогностическое значение**, так как является не причиной, а следствием плохой успеваемости. А наша модель должна предсказывать возможные проблемы с учебой."
   ]
  },
  {
   "cell_type": "code",
   "execution_count": 258,
   "id": "412de670",
   "metadata": {},
   "outputs": [],
   "source": [
    "stud.reset_index(drop=True, inplace=True)\n",
    "# Упорядочим индексы после очистки датасета."
   ]
  },
  {
   "cell_type": "code",
   "execution_count": 265,
   "id": "831ba9ab",
   "metadata": {},
   "outputs": [],
   "source": [
    "stud = stud.replace({'famsize':{'LE3':'2-3','GT3':'4-5'}})\n",
    "# Переименуем значения для задания порядка в категориальном столбце."
   ]
  },
  {
   "cell_type": "code",
   "execution_count": 266,
   "id": "1609c305",
   "metadata": {},
   "outputs": [],
   "source": [
    "col = ['sex','famsize','school','address','schoolsup','goout']\n",
    "stud[col] = stud[col].astype('category')\n",
    "# Приводим тип к категориальному."
   ]
  },
  {
   "cell_type": "code",
   "execution_count": 267,
   "id": "2071b17b",
   "metadata": {},
   "outputs": [
    {
     "data": {
      "text/plain": [
       "['4-5', '2-3']\n",
       "Categories (2, object): ['2-3' < '4-5']"
      ]
     },
     "execution_count": 267,
     "metadata": {},
     "output_type": "execute_result"
    }
   ],
   "source": [
    "stud.famsize = stud.famsize.cat.as_ordered() # Задаем порядок в категориальном столбце.\n",
    "stud.famsize.unique()#dtype  # Проверяем."
   ]
  },
  {
   "cell_type": "code",
   "execution_count": 268,
   "id": "6354cec9",
   "metadata": {},
   "outputs": [
    {
     "data": {
      "text/plain": [
       "[4, 3, 2, 1, 5]\n",
       "Categories (5, object): [1 < 2 < 3 < 4 < 5]"
      ]
     },
     "execution_count": 268,
     "metadata": {},
     "output_type": "execute_result"
    }
   ],
   "source": [
    "stud.goout = stud.goout.cat.as_ordered() # Задаем порядок в категориальном столбце.\n",
    "stud.goout.dtype  # Проверяем.\n",
    "stud['goout'].unique()"
   ]
  },
  {
   "cell_type": "markdown",
   "id": "7a2015e3",
   "metadata": {},
   "source": [
    "#### Создадим датасет состоящий только из отобранных стольбцов."
   ]
  },
  {
   "cell_type": "code",
   "execution_count": 269,
   "id": "ec53018c",
   "metadata": {},
   "outputs": [
    {
     "data": {
      "text/html": [
       "<div>\n",
       "<style scoped>\n",
       "    .dataframe tbody tr th:only-of-type {\n",
       "        vertical-align: middle;\n",
       "    }\n",
       "\n",
       "    .dataframe tbody tr th {\n",
       "        vertical-align: top;\n",
       "    }\n",
       "\n",
       "    .dataframe thead th {\n",
       "        text-align: right;\n",
       "    }\n",
       "</style>\n",
       "<table border=\"1\" class=\"dataframe\">\n",
       "  <thead>\n",
       "    <tr style=\"text-align: right;\">\n",
       "      <th></th>\n",
       "      <th>absences</th>\n",
       "      <th>failures</th>\n",
       "      <th>p_edu</th>\n",
       "      <th>studytime_1</th>\n",
       "      <th>sex</th>\n",
       "      <th>school</th>\n",
       "      <th>address</th>\n",
       "      <th>famsize</th>\n",
       "      <th>health_1</th>\n",
       "      <th>goout</th>\n",
       "      <th>schoolsup</th>\n",
       "      <th>score</th>\n",
       "    </tr>\n",
       "  </thead>\n",
       "  <tbody>\n",
       "    <tr>\n",
       "      <th>0</th>\n",
       "      <td>6</td>\n",
       "      <td>0</td>\n",
       "      <td>univer</td>\n",
       "      <td>2-5</td>\n",
       "      <td>F</td>\n",
       "      <td>GP</td>\n",
       "      <td>U</td>\n",
       "      <td>4-5</td>\n",
       "      <td>bad</td>\n",
       "      <td>4</td>\n",
       "      <td>yes</td>\n",
       "      <td>30</td>\n",
       "    </tr>\n",
       "    <tr>\n",
       "      <th>1</th>\n",
       "      <td>4</td>\n",
       "      <td>0</td>\n",
       "      <td>elementary</td>\n",
       "      <td>2-5</td>\n",
       "      <td>F</td>\n",
       "      <td>GP</td>\n",
       "      <td>U</td>\n",
       "      <td>4-5</td>\n",
       "      <td>bad</td>\n",
       "      <td>3</td>\n",
       "      <td>no</td>\n",
       "      <td>30</td>\n",
       "    </tr>\n",
       "    <tr>\n",
       "      <th>2</th>\n",
       "      <td>10</td>\n",
       "      <td>3</td>\n",
       "      <td>elementary</td>\n",
       "      <td>2-5</td>\n",
       "      <td>F</td>\n",
       "      <td>GP</td>\n",
       "      <td>U</td>\n",
       "      <td>2-3</td>\n",
       "      <td>bad</td>\n",
       "      <td>2</td>\n",
       "      <td>yes</td>\n",
       "      <td>50</td>\n",
       "    </tr>\n",
       "    <tr>\n",
       "      <th>3</th>\n",
       "      <td>2</td>\n",
       "      <td>0</td>\n",
       "      <td>univer</td>\n",
       "      <td>5-10</td>\n",
       "      <td>F</td>\n",
       "      <td>GP</td>\n",
       "      <td>U</td>\n",
       "      <td>4-5</td>\n",
       "      <td>bad</td>\n",
       "      <td>2</td>\n",
       "      <td>no</td>\n",
       "      <td>75</td>\n",
       "    </tr>\n",
       "    <tr>\n",
       "      <th>4</th>\n",
       "      <td>4</td>\n",
       "      <td>0</td>\n",
       "      <td>middle</td>\n",
       "      <td>2-5</td>\n",
       "      <td>F</td>\n",
       "      <td>GP</td>\n",
       "      <td>U</td>\n",
       "      <td>4-5</td>\n",
       "      <td>bad</td>\n",
       "      <td>2</td>\n",
       "      <td>no</td>\n",
       "      <td>50</td>\n",
       "    </tr>\n",
       "    <tr>\n",
       "      <th>5</th>\n",
       "      <td>10</td>\n",
       "      <td>0</td>\n",
       "      <td>univer</td>\n",
       "      <td>2-5</td>\n",
       "      <td>M</td>\n",
       "      <td>GP</td>\n",
       "      <td>U</td>\n",
       "      <td>2-3</td>\n",
       "      <td>bad</td>\n",
       "      <td>2</td>\n",
       "      <td>no</td>\n",
       "      <td>75</td>\n",
       "    </tr>\n",
       "    <tr>\n",
       "      <th>6</th>\n",
       "      <td>0</td>\n",
       "      <td>0</td>\n",
       "      <td>middle</td>\n",
       "      <td>2-5</td>\n",
       "      <td>M</td>\n",
       "      <td>GP</td>\n",
       "      <td>U</td>\n",
       "      <td>2-3</td>\n",
       "      <td>bad</td>\n",
       "      <td>4</td>\n",
       "      <td>no</td>\n",
       "      <td>55</td>\n",
       "    </tr>\n",
       "    <tr>\n",
       "      <th>7</th>\n",
       "      <td>6</td>\n",
       "      <td>0</td>\n",
       "      <td>univer</td>\n",
       "      <td>2-5</td>\n",
       "      <td>F</td>\n",
       "      <td>GP</td>\n",
       "      <td>U</td>\n",
       "      <td>4-5</td>\n",
       "      <td>normal</td>\n",
       "      <td>4</td>\n",
       "      <td>yes</td>\n",
       "      <td>30</td>\n",
       "    </tr>\n",
       "    <tr>\n",
       "      <th>8</th>\n",
       "      <td>0</td>\n",
       "      <td>0</td>\n",
       "      <td>middle</td>\n",
       "      <td>2-5</td>\n",
       "      <td>M</td>\n",
       "      <td>GP</td>\n",
       "      <td>U</td>\n",
       "      <td>2-3</td>\n",
       "      <td>normal</td>\n",
       "      <td>2</td>\n",
       "      <td>no</td>\n",
       "      <td>95</td>\n",
       "    </tr>\n",
       "    <tr>\n",
       "      <th>9</th>\n",
       "      <td>0</td>\n",
       "      <td>0</td>\n",
       "      <td>univer</td>\n",
       "      <td>2-5</td>\n",
       "      <td>M</td>\n",
       "      <td>GP</td>\n",
       "      <td>U</td>\n",
       "      <td>4-5</td>\n",
       "      <td>bad</td>\n",
       "      <td>1</td>\n",
       "      <td>no</td>\n",
       "      <td>75</td>\n",
       "    </tr>\n",
       "  </tbody>\n",
       "</table>\n",
       "</div>"
      ],
      "text/plain": [
       "   absences  failures       p_edu studytime_1 sex school address famsize  \\\n",
       "0         6         0      univer         2-5   F     GP       U     4-5   \n",
       "1         4         0  elementary         2-5   F     GP       U     4-5   \n",
       "2        10         3  elementary         2-5   F     GP       U     2-3   \n",
       "3         2         0      univer        5-10   F     GP       U     4-5   \n",
       "4         4         0      middle         2-5   F     GP       U     4-5   \n",
       "5        10         0      univer         2-5   M     GP       U     2-3   \n",
       "6         0         0      middle         2-5   M     GP       U     2-3   \n",
       "7         6         0      univer         2-5   F     GP       U     4-5   \n",
       "8         0         0      middle         2-5   M     GP       U     2-3   \n",
       "9         0         0      univer         2-5   M     GP       U     4-5   \n",
       "\n",
       "  health_1 goout schoolsup  score  \n",
       "0      bad     4       yes     30  \n",
       "1      bad     3        no     30  \n",
       "2      bad     2       yes     50  \n",
       "3      bad     2        no     75  \n",
       "4      bad     2        no     50  \n",
       "5      bad     2        no     75  \n",
       "6      bad     4        no     55  \n",
       "7   normal     4       yes     30  \n",
       "8   normal     2        no     95  \n",
       "9      bad     1        no     75  "
      ]
     },
     "execution_count": 269,
     "metadata": {},
     "output_type": "execute_result"
    }
   ],
   "source": [
    "select = stud[['absences','failures','p_edu','studytime_1','sex','school',\n",
    "               'address','famsize','health_1','goout','schoolsup','score']]\n",
    "select.head(10)"
   ]
  },
  {
   "cell_type": "code",
   "execution_count": 270,
   "id": "b8db14c1",
   "metadata": {},
   "outputs": [
    {
     "name": "stdout",
     "output_type": "stream",
     "text": [
      "<class 'pandas.core.frame.DataFrame'>\n",
      "RangeIndex: 350 entries, 0 to 349\n",
      "Data columns (total 12 columns):\n",
      " #   Column       Non-Null Count  Dtype   \n",
      "---  ------       --------------  -----   \n",
      " 0   absences     350 non-null    Int32   \n",
      " 1   failures     350 non-null    Int32   \n",
      " 2   p_edu        350 non-null    category\n",
      " 3   studytime_1  350 non-null    category\n",
      " 4   sex          350 non-null    category\n",
      " 5   school       350 non-null    category\n",
      " 6   address      350 non-null    category\n",
      " 7   famsize      350 non-null    category\n",
      " 8   health_1     350 non-null    category\n",
      " 9   goout        350 non-null    category\n",
      " 10  schoolsup    350 non-null    category\n",
      " 11  score        350 non-null    Int32   \n",
      "dtypes: Int32(3), category(9)\n",
      "memory usage: 9.5 KB\n"
     ]
    }
   ],
   "source": [
    "select.info()"
   ]
  },
  {
   "cell_type": "code",
   "execution_count": null,
   "id": "a4f5be1b",
   "metadata": {},
   "outputs": [],
   "source": []
  },
  {
   "cell_type": "code",
   "execution_count": null,
   "id": "1be41a3c",
   "metadata": {},
   "outputs": [],
   "source": []
  }
 ],
 "metadata": {
  "kernelspec": {
   "display_name": "Python 3",
   "language": "python",
   "name": "python3"
  },
  "language_info": {
   "codemirror_mode": {
    "name": "ipython",
    "version": 3
   },
   "file_extension": ".py",
   "mimetype": "text/x-python",
   "name": "python",
   "nbconvert_exporter": "python",
   "pygments_lexer": "ipython3",
   "version": "3.8.8"
  }
 },
 "nbformat": 4,
 "nbformat_minor": 5
}
