{
 "cells": [
  {
   "cell_type": "code",
   "execution_count": 229,
   "id": "04d79fe0",
   "metadata": {},
   "outputs": [],
   "source": [
    "import pandas as pd\n",
    "import datetime as dt\n",
    "\n",
    "data = pd.read_csv('project_4.csv')\n",
    "data1 = pd.read_csv('project_4_1.csv')"
   ]
  },
  {
   "cell_type": "code",
   "execution_count": 230,
   "id": "0d47a3fe",
   "metadata": {},
   "outputs": [
    {
     "name": "stdout",
     "output_type": "stream",
     "text": [
      "<class 'pandas.core.frame.DataFrame'>\n",
      "RangeIndex: 245 entries, 0 to 244\n",
      "Data columns (total 13 columns):\n",
      " #   Column               Non-Null Count  Dtype  \n",
      "---  ------               --------------  -----  \n",
      " 0   flight_id            245 non-null    int64  \n",
      " 1   scheduled_departure  245 non-null    object \n",
      " 2   city_departure       245 non-null    object \n",
      " 3   city_arrival         245 non-null    object \n",
      " 4   aircraft_model       245 non-null    object \n",
      " 5   fare_conditions      236 non-null    object \n",
      " 6   available_seats      245 non-null    int64  \n",
      " 7   price_seat           236 non-null    float64\n",
      " 8   occupied_seats       245 non-null    int64  \n",
      " 9   fullness_flight      236 non-null    float64\n",
      " 10  revenue_flight       236 non-null    float64\n",
      " 11  free_seats           245 non-null    int64  \n",
      " 12  lost_profit          236 non-null    float64\n",
      "dtypes: float64(4), int64(4), object(5)\n",
      "memory usage: 25.0+ KB\n"
     ]
    }
   ],
   "source": [
    "data.info()"
   ]
  },
  {
   "cell_type": "code",
   "execution_count": 231,
   "id": "3df71fa8",
   "metadata": {},
   "outputs": [
    {
     "data": {
      "text/html": [
       "<div>\n",
       "<style scoped>\n",
       "    .dataframe tbody tr th:only-of-type {\n",
       "        vertical-align: middle;\n",
       "    }\n",
       "\n",
       "    .dataframe tbody tr th {\n",
       "        vertical-align: top;\n",
       "    }\n",
       "\n",
       "    .dataframe thead th {\n",
       "        text-align: right;\n",
       "    }\n",
       "</style>\n",
       "<table border=\"1\" class=\"dataframe\">\n",
       "  <thead>\n",
       "    <tr style=\"text-align: right;\">\n",
       "      <th></th>\n",
       "      <th>flight_id</th>\n",
       "      <th>scheduled_departure</th>\n",
       "      <th>city_departure</th>\n",
       "      <th>city_arrival</th>\n",
       "      <th>aircraft_model</th>\n",
       "      <th>fare_conditions</th>\n",
       "      <th>available_seats</th>\n",
       "      <th>price_seat</th>\n",
       "      <th>occupied_seats</th>\n",
       "      <th>fullness_flight</th>\n",
       "      <th>revenue_flight</th>\n",
       "      <th>free_seats</th>\n",
       "      <th>lost_profit</th>\n",
       "    </tr>\n",
       "  </thead>\n",
       "  <tbody>\n",
       "    <tr>\n",
       "      <th>0</th>\n",
       "      <td>136119</td>\n",
       "      <td>2017-01-03T10:05:00Z</td>\n",
       "      <td>Anapa</td>\n",
       "      <td>Moscow</td>\n",
       "      <td>Boeing 737-300</td>\n",
       "      <td>Business</td>\n",
       "      <td>12</td>\n",
       "      <td>36600.000000</td>\n",
       "      <td>11</td>\n",
       "      <td>91.0</td>\n",
       "      <td>402600.0</td>\n",
       "      <td>1</td>\n",
       "      <td>36600.000000</td>\n",
       "    </tr>\n",
       "    <tr>\n",
       "      <th>1</th>\n",
       "      <td>136119</td>\n",
       "      <td>2017-01-03T10:05:00Z</td>\n",
       "      <td>Anapa</td>\n",
       "      <td>Moscow</td>\n",
       "      <td>Boeing 737-300</td>\n",
       "      <td>Economy</td>\n",
       "      <td>118</td>\n",
       "      <td>12258.823529</td>\n",
       "      <td>102</td>\n",
       "      <td>86.0</td>\n",
       "      <td>1250400.0</td>\n",
       "      <td>16</td>\n",
       "      <td>196141.176471</td>\n",
       "    </tr>\n",
       "    <tr>\n",
       "      <th>2</th>\n",
       "      <td>136120</td>\n",
       "      <td>2017-02-24T10:05:00Z</td>\n",
       "      <td>Anapa</td>\n",
       "      <td>Moscow</td>\n",
       "      <td>Boeing 737-300</td>\n",
       "      <td>Business</td>\n",
       "      <td>12</td>\n",
       "      <td>36600.000000</td>\n",
       "      <td>11</td>\n",
       "      <td>91.0</td>\n",
       "      <td>402600.0</td>\n",
       "      <td>1</td>\n",
       "      <td>36600.000000</td>\n",
       "    </tr>\n",
       "    <tr>\n",
       "      <th>3</th>\n",
       "      <td>136120</td>\n",
       "      <td>2017-02-24T10:05:00Z</td>\n",
       "      <td>Anapa</td>\n",
       "      <td>Moscow</td>\n",
       "      <td>Boeing 737-300</td>\n",
       "      <td>Economy</td>\n",
       "      <td>118</td>\n",
       "      <td>12273.469388</td>\n",
       "      <td>98</td>\n",
       "      <td>83.0</td>\n",
       "      <td>1202800.0</td>\n",
       "      <td>20</td>\n",
       "      <td>245469.387755</td>\n",
       "    </tr>\n",
       "    <tr>\n",
       "      <th>4</th>\n",
       "      <td>136122</td>\n",
       "      <td>2017-01-08T10:05:00Z</td>\n",
       "      <td>Anapa</td>\n",
       "      <td>Moscow</td>\n",
       "      <td>Boeing 737-300</td>\n",
       "      <td>Business</td>\n",
       "      <td>12</td>\n",
       "      <td>36600.000000</td>\n",
       "      <td>10</td>\n",
       "      <td>83.0</td>\n",
       "      <td>366000.0</td>\n",
       "      <td>2</td>\n",
       "      <td>73200.000000</td>\n",
       "    </tr>\n",
       "  </tbody>\n",
       "</table>\n",
       "</div>"
      ],
      "text/plain": [
       "   flight_id   scheduled_departure city_departure city_arrival  \\\n",
       "0     136119  2017-01-03T10:05:00Z          Anapa       Moscow   \n",
       "1     136119  2017-01-03T10:05:00Z          Anapa       Moscow   \n",
       "2     136120  2017-02-24T10:05:00Z          Anapa       Moscow   \n",
       "3     136120  2017-02-24T10:05:00Z          Anapa       Moscow   \n",
       "4     136122  2017-01-08T10:05:00Z          Anapa       Moscow   \n",
       "\n",
       "   aircraft_model fare_conditions  available_seats    price_seat  \\\n",
       "0  Boeing 737-300        Business               12  36600.000000   \n",
       "1  Boeing 737-300         Economy              118  12258.823529   \n",
       "2  Boeing 737-300        Business               12  36600.000000   \n",
       "3  Boeing 737-300         Economy              118  12273.469388   \n",
       "4  Boeing 737-300        Business               12  36600.000000   \n",
       "\n",
       "   occupied_seats  fullness_flight  revenue_flight  free_seats    lost_profit  \n",
       "0              11             91.0        402600.0           1   36600.000000  \n",
       "1             102             86.0       1250400.0          16  196141.176471  \n",
       "2              11             91.0        402600.0           1   36600.000000  \n",
       "3              98             83.0       1202800.0          20  245469.387755  \n",
       "4              10             83.0        366000.0           2   73200.000000  "
      ]
     },
     "execution_count": 231,
     "metadata": {},
     "output_type": "execute_result"
    }
   ],
   "source": [
    "data.head()"
   ]
  },
  {
   "cell_type": "markdown",
   "id": "3242e234",
   "metadata": {},
   "source": [
    "### Удаление данных о рейсах в Новокузнецк"
   ]
  },
  {
   "cell_type": "markdown",
   "id": "9c62617b",
   "metadata": {},
   "source": [
    "В  полученном из базы данных датасете в столбцах с информацией о бронировании, билетах и посадочных талонов имеется одинаковое количество пропусков - 9 пропусков. В данных о рейсах пропусков нет."
   ]
  },
  {
   "cell_type": "code",
   "execution_count": 232,
   "id": "f76dcbe8",
   "metadata": {},
   "outputs": [
    {
     "data": {
      "text/plain": [
       "118    Novokuznetsk\n",
       "119    Novokuznetsk\n",
       "120    Novokuznetsk\n",
       "121    Novokuznetsk\n",
       "122    Novokuznetsk\n",
       "123    Novokuznetsk\n",
       "124    Novokuznetsk\n",
       "125    Novokuznetsk\n",
       "126    Novokuznetsk\n",
       "Name: city_arrival, dtype: object"
      ]
     },
     "execution_count": 232,
     "metadata": {},
     "output_type": "execute_result"
    }
   ],
   "source": [
    "data[data.fullness_flight.isnull()].city_arrival"
   ]
  },
  {
   "cell_type": "markdown",
   "id": "fa3861fa",
   "metadata": {},
   "source": [
    "Все пропуски относятся к рейсам в Новокузнецк. Учитывая то, что пропуски имеют **не случайный** характер, а относятся к одному сегменту данных, заполнять их используя расчетные методы нецелесообразно. Такие данные необходимо заполнять путем восстановления отсутствующего сегмента в базе данных. Поэтому все строки относящиеся к рейсам в Новокузнецк удаляем. Оценить прибыльность или убыточность рейсов без информации о проданных на них билетов не возможно."
   ]
  },
  {
   "cell_type": "code",
   "execution_count": 233,
   "id": "88e29fe2",
   "metadata": {},
   "outputs": [
    {
     "data": {
      "text/plain": [
       "array(['Moscow', 'Novokuznetsk', 'Belgorod'], dtype=object)"
      ]
     },
     "execution_count": 233,
     "metadata": {},
     "output_type": "execute_result"
    }
   ],
   "source": [
    "data.city_arrival.unique()"
   ]
  },
  {
   "cell_type": "code",
   "execution_count": 234,
   "id": "b822e222",
   "metadata": {},
   "outputs": [
    {
     "data": {
      "text/plain": [
       "127"
      ]
     },
     "execution_count": 234,
     "metadata": {},
     "output_type": "execute_result"
    }
   ],
   "source": [
    "data.flight_id.nunique()"
   ]
  },
  {
   "cell_type": "code",
   "execution_count": 235,
   "id": "eea35327",
   "metadata": {},
   "outputs": [
    {
     "data": {
      "text/plain": [
       "array(['Moscow', 'Belgorod'], dtype=object)"
      ]
     },
     "execution_count": 235,
     "metadata": {},
     "output_type": "execute_result"
    }
   ],
   "source": [
    "data.dropna(inplace = True)\n",
    "data.city_arrival.unique()\n",
    "# После удаления пропусков остались рейсы только в Москву и Белгород."
   ]
  },
  {
   "cell_type": "code",
   "execution_count": 236,
   "id": "e8665405",
   "metadata": {},
   "outputs": [
    {
     "data": {
      "text/plain": [
       "118"
      ]
     },
     "execution_count": 236,
     "metadata": {},
     "output_type": "execute_result"
    }
   ],
   "source": [
    "data.flight_id.nunique()"
   ]
  },
  {
   "cell_type": "code",
   "execution_count": 237,
   "id": "e9e0366a",
   "metadata": {},
   "outputs": [
    {
     "name": "stdout",
     "output_type": "stream",
     "text": [
      "<class 'pandas.core.frame.DataFrame'>\n",
      "Int64Index: 236 entries, 0 to 244\n",
      "Data columns (total 13 columns):\n",
      " #   Column               Non-Null Count  Dtype  \n",
      "---  ------               --------------  -----  \n",
      " 0   flight_id            236 non-null    int64  \n",
      " 1   scheduled_departure  236 non-null    object \n",
      " 2   city_departure       236 non-null    object \n",
      " 3   city_arrival         236 non-null    object \n",
      " 4   aircraft_model       236 non-null    object \n",
      " 5   fare_conditions      236 non-null    object \n",
      " 6   available_seats      236 non-null    int64  \n",
      " 7   price_seat           236 non-null    float64\n",
      " 8   occupied_seats       236 non-null    int64  \n",
      " 9   fullness_flight      236 non-null    float64\n",
      " 10  revenue_flight       236 non-null    float64\n",
      " 11  free_seats           236 non-null    int64  \n",
      " 12  lost_profit          236 non-null    float64\n",
      "dtypes: float64(4), int64(4), object(5)\n",
      "memory usage: 25.8+ KB\n"
     ]
    }
   ],
   "source": [
    "data.info()"
   ]
  },
  {
   "cell_type": "raw",
   "id": "e8ebd755",
   "metadata": {},
   "source": [
    "Пропусков нет."
   ]
  },
  {
   "cell_type": "markdown",
   "id": "624586bc",
   "metadata": {},
   "source": [
    "### Общая оценка рейсов из Анапы зимой 2017 года."
   ]
  },
  {
   "cell_type": "code",
   "execution_count": 238,
   "id": "739d83d8",
   "metadata": {},
   "outputs": [
    {
     "data": {
      "text/plain": [
       "59"
      ]
     },
     "execution_count": 238,
     "metadata": {},
     "output_type": "execute_result"
    }
   ],
   "source": [
    "data[data.city_arrival == 'Moscow'].flight_id.nunique()"
   ]
  },
  {
   "cell_type": "code",
   "execution_count": 239,
   "id": "8a59249c",
   "metadata": {},
   "outputs": [
    {
     "data": {
      "text/plain": [
       "59"
      ]
     },
     "execution_count": 239,
     "metadata": {},
     "output_type": "execute_result"
    }
   ],
   "source": [
    "data[data.city_arrival == 'Belgorod'].flight_id.nunique()"
   ]
  },
  {
   "cell_type": "markdown",
   "id": "3091aada",
   "metadata": {},
   "source": [
    "Без учета рейсов в Новокузнецк авиакомпания осуществила за зиму 2017 года 118 рейсов. В Москву и Белгород было совершено одинаковое количество рейсов."
   ]
  },
  {
   "cell_type": "code",
   "execution_count": 240,
   "id": "232bc8b0",
   "metadata": {},
   "outputs": [
    {
     "data": {
      "text/plain": [
       "city_arrival\n",
       "Belgorod    [Sukhoi Superjet-100]\n",
       "Moscow           [Boeing 737-300]\n",
       "Name: aircraft_model, dtype: object"
      ]
     },
     "execution_count": 240,
     "metadata": {},
     "output_type": "execute_result"
    }
   ],
   "source": [
    "data.groupby(['city_arrival']).aircraft_model.unique()"
   ]
  },
  {
   "cell_type": "markdown",
   "id": "8d635bf7",
   "metadata": {},
   "source": [
    "В Москву выполнялись рейсы всегда на Boeing 737-300, а в Белгород - на Sukhoi Superjet-100."
   ]
  },
  {
   "cell_type": "markdown",
   "id": "aa02f7e5",
   "metadata": {},
   "source": [
    "### Оценка влияния времени вылета на заполняемость рейса.\n",
    "Часто бывает, что рейс имеющий неудобное время вылета заполнен не полностью. Проверим эту версию."
   ]
  },
  {
   "cell_type": "code",
   "execution_count": 241,
   "id": "fba8c705",
   "metadata": {},
   "outputs": [],
   "source": [
    "data['scheduled_departure'] = pd.to_datetime(data['scheduled_departure'])\n",
    "# Приведение данных в столбцах с датой и временем к типу datetime"
   ]
  },
  {
   "cell_type": "code",
   "execution_count": 242,
   "id": "a169db02",
   "metadata": {},
   "outputs": [],
   "source": [
    "data['departure_time'] = data['scheduled_departure'].dt.time\n",
    "# Создаем столбец с плановым временем отправления\n",
    "# для удобной проверки времени отправления в разные даты."
   ]
  },
  {
   "cell_type": "code",
   "execution_count": 243,
   "id": "544089a6",
   "metadata": {},
   "outputs": [
    {
     "data": {
      "text/plain": [
       "array([datetime.time(10, 5)], dtype=object)"
      ]
     },
     "execution_count": 243,
     "metadata": {},
     "output_type": "execute_result"
    }
   ],
   "source": [
    "data[data.city_arrival == 'Moscow'].departure_time.unique()\n",
    "# У всех рейсов в Москву одно время вылета - 10:05"
   ]
  },
  {
   "cell_type": "code",
   "execution_count": 244,
   "id": "5391e1ba",
   "metadata": {},
   "outputs": [
    {
     "data": {
      "text/plain": [
       "array([datetime.time(9, 25)], dtype=object)"
      ]
     },
     "execution_count": 244,
     "metadata": {},
     "output_type": "execute_result"
    }
   ],
   "source": [
    "data[data.city_arrival == 'Belgorod'].departure_time.unique()\n",
    "# У всех рейсов в Белгород одно время вылета - 09::25"
   ]
  },
  {
   "cell_type": "markdown",
   "id": "f91dc57f",
   "metadata": {},
   "source": [
    "Так как время вылета и в Москву и в Белгород во все даты одно и то же, можно сказать, что заполняемость самолетов не зависила от времени вылета. Значит время вылета в дальнейшем анализе можно не учитывать."
   ]
  },
  {
   "cell_type": "markdown",
   "id": "55d0c103",
   "metadata": {},
   "source": [
    "### Оценка заполняемости рейсов"
   ]
  },
  {
   "cell_type": "markdown",
   "id": "6e749548",
   "metadata": {},
   "source": [
    "#### Зависимость заполняемости от города."
   ]
  },
  {
   "cell_type": "code",
   "execution_count": 245,
   "id": "90cab344",
   "metadata": {},
   "outputs": [
    {
     "data": {
      "text/plain": [
       "<AxesSubplot:xlabel='city_arrival'>"
      ]
     },
     "execution_count": 245,
     "metadata": {},
     "output_type": "execute_result"
    },
    {
     "data": {
      "image/png": "[encoded data removed]",
      "text/plain": [
       "<Figure size 432x288 with 1 Axes>"
      ]
     },
     "metadata": {
      "needs_background": "light"
     },
     "output_type": "display_data"
    }
   ],
   "source": [
    "data.groupby('city_arrival').fullness_flight.mean().plot(kind = 'bar')"
   ]
  },
  {
   "cell_type": "code",
   "execution_count": 246,
   "id": "a5788bc2",
   "metadata": {},
   "outputs": [
    {
     "data": {
      "text/plain": [
       "92.4"
      ]
     },
     "execution_count": 246,
     "metadata": {},
     "output_type": "execute_result"
    }
   ],
   "source": [
    "round(data[data.city_arrival == 'Belgorod'].fullness_flight.mean(),1)"
   ]
  },
  {
   "cell_type": "code",
   "execution_count": 247,
   "id": "4c9f2c8b",
   "metadata": {},
   "outputs": [
    {
     "data": {
      "text/plain": [
       "86.9"
      ]
     },
     "execution_count": 247,
     "metadata": {},
     "output_type": "execute_result"
    }
   ],
   "source": [
    "round(data[data.city_arrival == 'Moscow'].fullness_flight.mean(),1)"
   ]
  },
  {
   "cell_type": "markdown",
   "id": "226703da",
   "metadata": {},
   "source": [
    "Средняя заполняемость рейсов в Белгород на 5% выше чем в Москву."
   ]
  },
  {
   "cell_type": "markdown",
   "id": "03e798ac",
   "metadata": {},
   "source": [
    "#### Зависимость заполняемости от города и класса обслуживания"
   ]
  },
  {
   "cell_type": "code",
   "execution_count": 248,
   "id": "d862c308",
   "metadata": {},
   "outputs": [
    {
     "data": {
      "text/plain": [
       "<AxesSubplot:xlabel='city_arrival,fare_conditions'>"
      ]
     },
     "execution_count": 248,
     "metadata": {},
     "output_type": "execute_result"
    },
    {
     "data": {
      "image/png": "[encoded data removed]",
      "text/plain": [
       "<Figure size 432x288 with 1 Axes>"
      ]
     },
     "metadata": {
      "needs_background": "light"
     },
     "output_type": "display_data"
    }
   ],
   "source": [
    "data.groupby(['city_arrival','fare_conditions']).fullness_flight.mean().plot(kind = 'bar')"
   ]
  },
  {
   "cell_type": "markdown",
   "id": "4864895a",
   "metadata": {},
   "source": [
    "На графике видно, что заполняемость рейса не зависит от класса обслуживания. При этом нужно помнить, что в моделях самолетов летающих в эти города одинаковое количество мест бизнесс класса."
   ]
  },
  {
   "cell_type": "markdown",
   "id": "7dd97c4e",
   "metadata": {},
   "source": [
    "#### Зависимость заполняемости от даты вылета\n",
    "Для оценки влияния даты вылета на заполняемость рейса создадим новый столбец с датой без времени, так как время вылета всегда одинаково."
   ]
  },
  {
   "cell_type": "code",
   "execution_count": 249,
   "id": "50d3a895",
   "metadata": {},
   "outputs": [],
   "source": [
    "data['departure_date'] = data['scheduled_departure'].dt.date"
   ]
  },
  {
   "cell_type": "code",
   "execution_count": 250,
   "id": "880ecfa8",
   "metadata": {},
   "outputs": [
    {
     "data": {
      "text/plain": [
       "<AxesSubplot:xlabel='departure_date'>"
      ]
     },
     "execution_count": 250,
     "metadata": {},
     "output_type": "execute_result"
    },
    {
     "data": {
      "image/png": "[encoded data removed]",
      "text/plain": [
       "<Figure size 432x288 with 1 Axes>"
      ]
     },
     "metadata": {
      "needs_background": "light"
     },
     "output_type": "display_data"
    }
   ],
   "source": [
    "data[data.city_arrival == 'Moscow'].groupby(\n",
    "    'departure_date').fullness_flight.sum().sort_values(\n",
    "    ).head(10).plot(kind = 'bar')"
   ]
  },
  {
   "cell_type": "markdown",
   "id": "4b75daae",
   "metadata": {},
   "source": [
    "10 самых незаполненных рейсов в Москву."
   ]
  },
  {
   "cell_type": "code",
   "execution_count": 251,
   "id": "cae7e703",
   "metadata": {},
   "outputs": [
    {
     "data": {
      "text/plain": [
       "<AxesSubplot:xlabel='departure_date'>"
      ]
     },
     "execution_count": 251,
     "metadata": {},
     "output_type": "execute_result"
    },
    {
     "data": {
      "image/png": "[encoded data removed]",
      "text/plain": [
       "<Figure size 432x288 with 1 Axes>"
      ]
     },
     "metadata": {
      "needs_background": "light"
     },
     "output_type": "display_data"
    }
   ],
   "source": [
    "data[data.city_arrival == 'Belgorod'].groupby(\n",
    "    'departure_date').fullness_flight.sum().sort_values(\n",
    "    ).head(10).plot(kind = 'bar')"
   ]
  },
  {
   "cell_type": "markdown",
   "id": "2adbcfd4",
   "metadata": {},
   "source": [
    "10 самых незаполненных рейсов в Белгород."
   ]
  },
  {
   "cell_type": "markdown",
   "id": "c0136c6f",
   "metadata": {},
   "source": [
    "### Оценка упущенной выгоды рейса.\n",
    "Упущенная выгода расчитывалась как стоимость непроданных билетов.\n",
    "#### Зависимость упущенной выгоды от города назначения."
   ]
  },
  {
   "cell_type": "code",
   "execution_count": 252,
   "id": "85319b25",
   "metadata": {},
   "outputs": [
    {
     "data": {
      "text/plain": [
       "<AxesSubplot:xlabel='city_arrival'>"
      ]
     },
     "execution_count": 252,
     "metadata": {},
     "output_type": "execute_result"
    },
    {
     "data": {
      "image/png": "[encoded data removed]",
      "text/plain": [
       "<Figure size 432x288 with 1 Axes>"
      ]
     },
     "metadata": {
      "needs_background": "light"
     },
     "output_type": "display_data"
    }
   ],
   "source": [
    "data.groupby('city_arrival').lost_profit.mean().plot(kind = 'bar')"
   ]
  },
  {
   "cell_type": "code",
   "execution_count": 253,
   "id": "412d8397",
   "metadata": {},
   "outputs": [
    {
     "data": {
      "text/plain": [
       "27439.0"
      ]
     },
     "execution_count": 253,
     "metadata": {},
     "output_type": "execute_result"
    }
   ],
   "source": [
    "round(data[data.city_arrival == 'Belgorod'].lost_profit.mean(), 0)"
   ]
  },
  {
   "cell_type": "code",
   "execution_count": 254,
   "id": "c5879fd6",
   "metadata": {},
   "outputs": [
    {
     "data": {
      "text/plain": [
       "121631.0"
      ]
     },
     "execution_count": 254,
     "metadata": {},
     "output_type": "execute_result"
    }
   ],
   "source": [
    "round(data[data.city_arrival == 'Moscow'].lost_profit.mean(), 0)"
   ]
  },
  {
   "cell_type": "markdown",
   "id": "6f6bc2a4",
   "metadata": {},
   "source": [
    "В среднем упущенная выгода от рейсов в Москву почти в 4.5 раз выше чем в Белгород."
   ]
  },
  {
   "cell_type": "markdown",
   "id": "86f800ae",
   "metadata": {},
   "source": [
    "#### Зависимость упущенной выгоды от города и класса обслуживания"
   ]
  },
  {
   "cell_type": "code",
   "execution_count": 255,
   "id": "d7d1bcf5",
   "metadata": {},
   "outputs": [
    {
     "data": {
      "text/plain": [
       "<AxesSubplot:xlabel='city_arrival,fare_conditions'>"
      ]
     },
     "execution_count": 255,
     "metadata": {},
     "output_type": "execute_result"
    },
    {
     "data": {
      "image/png": "[encoded data removed]",
      "text/plain": [
       "<Figure size 432x288 with 1 Axes>"
      ]
     },
     "metadata": {
      "needs_background": "light"
     },
     "output_type": "display_data"
    }
   ],
   "source": [
    "data.groupby(['city_arrival','fare_conditions']).lost_profit.mean().plot(kind = 'bar')"
   ]
  },
  {
   "cell_type": "markdown",
   "id": "5240d78e",
   "metadata": {},
   "source": [
    "Самая большая недополученная прибыль от эконом класса в Москву."
   ]
  },
  {
   "cell_type": "markdown",
   "id": "f5b07cf7",
   "metadata": {},
   "source": [
    "#### Зависимость упущенной выгоды от даты вылета"
   ]
  },
  {
   "cell_type": "code",
   "execution_count": 256,
   "id": "582bad53",
   "metadata": {},
   "outputs": [
    {
     "data": {
      "text/plain": [
       "<AxesSubplot:xlabel='departure_date'>"
      ]
     },
     "execution_count": 256,
     "metadata": {},
     "output_type": "execute_result"
    },
    {
     "data": {
      "image/png": "[encoded data removed]",
      "text/plain": [
       "<Figure size 432x288 with 1 Axes>"
      ]
     },
     "metadata": {
      "needs_background": "light"
     },
     "output_type": "display_data"
    }
   ],
   "source": [
    "data[data.city_arrival == 'Moscow'].groupby(\n",
    "    'departure_date').lost_profit.sum().sort_values(\n",
    "    ).tail(10).plot(kind = 'bar')"
   ]
  },
  {
   "cell_type": "markdown",
   "id": "bc88e4aa",
   "metadata": {},
   "source": [
    "10 самых неприбыльных дней за зиму на рейсе в Москву."
   ]
  },
  {
   "cell_type": "code",
   "execution_count": 257,
   "id": "d9466d51",
   "metadata": {},
   "outputs": [
    {
     "data": {
      "text/plain": [
       "<AxesSubplot:xlabel='departure_date'>"
      ]
     },
     "execution_count": 257,
     "metadata": {},
     "output_type": "execute_result"
    },
    {
     "data": {
      "image/png": "[encoded data removed]",
      "text/plain": [
       "<Figure size 432x288 with 1 Axes>"
      ]
     },
     "metadata": {
      "needs_background": "light"
     },
     "output_type": "display_data"
    }
   ],
   "source": [
    "data[data.city_arrival == 'Belgorod'].groupby(\n",
    "    'departure_date').lost_profit.sum().sort_values(\n",
    "    ).tail(10).plot(kind = 'bar')"
   ]
  },
  {
   "cell_type": "markdown",
   "id": "ed24bca0",
   "metadata": {},
   "source": [
    "10 самых неприбыльных дней за зиму на рейсе в Белгород."
   ]
  },
  {
   "cell_type": "markdown",
   "id": "30f7a6ff",
   "metadata": {},
   "source": [
    "### Оценка выручки от рейса"
   ]
  },
  {
   "cell_type": "markdown",
   "id": "d18f539d",
   "metadata": {},
   "source": [
    "#### Зависимость средней выручки от города назначеия"
   ]
  },
  {
   "cell_type": "code",
   "execution_count": 258,
   "id": "b93c45c8",
   "metadata": {},
   "outputs": [
    {
     "data": {
      "text/plain": [
       "<AxesSubplot:xlabel='city_arrival'>"
      ]
     },
     "execution_count": 258,
     "metadata": {},
     "output_type": "execute_result"
    },
    {
     "data": {
      "image/png": "[encoded data removed]",
      "text/plain": [
       "<Figure size 432x288 with 1 Axes>"
      ]
     },
     "metadata": {
      "needs_background": "light"
     },
     "output_type": "display_data"
    }
   ],
   "source": [
    "data.groupby('city_arrival').revenue_flight.mean().plot(kind = 'bar')"
   ]
  },
  {
   "cell_type": "code",
   "execution_count": 259,
   "id": "1b550ca4",
   "metadata": {},
   "outputs": [
    {
     "data": {
      "text/plain": [
       "355217.8"
      ]
     },
     "execution_count": 259,
     "metadata": {},
     "output_type": "execute_result"
    }
   ],
   "source": [
    "round(data[data.city_arrival == 'Belgorod'].revenue_flight.mean(), 2)"
   ]
  },
  {
   "cell_type": "code",
   "execution_count": 260,
   "id": "aa7b064b",
   "metadata": {},
   "outputs": [
    {
     "data": {
      "text/plain": [
       "821288.14"
      ]
     },
     "execution_count": 260,
     "metadata": {},
     "output_type": "execute_result"
    }
   ],
   "source": [
    "round(data[data.city_arrival == 'Moscow'].revenue_flight.mean(), 2)"
   ]
  },
  {
   "cell_type": "markdown",
   "id": "d20c33bc",
   "metadata": {},
   "source": [
    "Средняя выручка от рейса в Москву 2.3 раза выше чем в Белгород."
   ]
  },
  {
   "cell_type": "markdown",
   "id": "50b4ec46",
   "metadata": {},
   "source": [
    "#### Зависимость средней выручки от города и класса обслуживания."
   ]
  },
  {
   "cell_type": "code",
   "execution_count": 261,
   "id": "a9566d8c",
   "metadata": {},
   "outputs": [
    {
     "data": {
      "text/plain": [
       "<AxesSubplot:xlabel='city_arrival,fare_conditions'>"
      ]
     },
     "execution_count": 261,
     "metadata": {},
     "output_type": "execute_result"
    },
    {
     "data": {
      "image/png": "[encoded data removed]",
      "text/plain": [
       "<Figure size 432x288 with 1 Axes>"
      ]
     },
     "metadata": {
      "needs_background": "light"
     },
     "output_type": "display_data"
    }
   ],
   "source": [
    "data.groupby(['city_arrival','fare_conditions']).revenue_flight.mean().plot(kind = 'bar')"
   ]
  },
  {
   "cell_type": "markdown",
   "id": "0d5b0053",
   "metadata": {},
   "source": [
    "Самая большая выручка от эконом класса в Москву, самая низкая - от бизнесс класса в Белгород."
   ]
  },
  {
   "cell_type": "markdown",
   "id": "42490fca",
   "metadata": {},
   "source": [
    "#### Зависимость выручки от даты"
   ]
  },
  {
   "cell_type": "code",
   "execution_count": 262,
   "id": "eb58994c",
   "metadata": {},
   "outputs": [
    {
     "data": {
      "text/plain": [
       "<AxesSubplot:xlabel='departure_date'>"
      ]
     },
     "execution_count": 262,
     "metadata": {},
     "output_type": "execute_result"
    },
    {
     "data": {
      "image/png": "[encoded data removed]",
      "text/plain": [
       "<Figure size 432x288 with 1 Axes>"
      ]
     },
     "metadata": {
      "needs_background": "light"
     },
     "output_type": "display_data"
    }
   ],
   "source": [
    "data[data.city_arrival == 'Belgorod'].groupby(\n",
    "    'departure_date').revenue_flight.sum().sort_values(\n",
    "    ).head(10).plot(kind = 'bar')"
   ]
  },
  {
   "cell_type": "markdown",
   "id": "8b19f106",
   "metadata": {},
   "source": [
    "10 дней с самой низкой выручкой в Белгород."
   ]
  },
  {
   "cell_type": "code",
   "execution_count": 263,
   "id": "cec9a66d",
   "metadata": {},
   "outputs": [
    {
     "data": {
      "text/plain": [
       "<AxesSubplot:xlabel='departure_date'>"
      ]
     },
     "execution_count": 263,
     "metadata": {},
     "output_type": "execute_result"
    },
    {
     "data": {
      "image/png": "[encoded data removed]",
      "text/plain": [
       "<Figure size 432x288 with 1 Axes>"
      ]
     },
     "metadata": {
      "needs_background": "light"
     },
     "output_type": "display_data"
    }
   ],
   "source": [
    "data[data.city_arrival == 'Moscow'].groupby(\n",
    "    'departure_date').revenue_flight.sum().sort_values(\n",
    "    ).head(10).plot(kind = 'bar')"
   ]
  },
  {
   "cell_type": "markdown",
   "id": "f78890a6",
   "metadata": {},
   "source": [
    "10 дней с самой низкой выручкой в Москву."
   ]
  },
  {
   "cell_type": "markdown",
   "id": "5f8ba7d5",
   "metadata": {},
   "source": [
    "**Рейсы в Москву хотя и приносят больше выручки в абсолютных цифрах за счет большей стоимости билетов, но часто оказываются незаполненными пассажирами, поэтому именно на рейсах в Москву авиакомпания недополучает выручку. Возможно проблему не полной заполненности рейсов в Москву можно было бы решить заменой Боинга на более компактную модель или уменьшением числа рейсов в Москву в зимнее время.**"
   ]
  },
  {
   "cell_type": "code",
   "execution_count": 264,
   "id": "fb503448",
   "metadata": {},
   "outputs": [
    {
     "data": {
      "text/html": [
       "<div>\n",
       "<style scoped>\n",
       "    .dataframe tbody tr th:only-of-type {\n",
       "        vertical-align: middle;\n",
       "    }\n",
       "\n",
       "    .dataframe tbody tr th {\n",
       "        vertical-align: top;\n",
       "    }\n",
       "\n",
       "    .dataframe thead th {\n",
       "        text-align: right;\n",
       "    }\n",
       "</style>\n",
       "<table border=\"1\" class=\"dataframe\">\n",
       "  <thead>\n",
       "    <tr style=\"text-align: right;\">\n",
       "      <th></th>\n",
       "      <th>city_departure</th>\n",
       "      <th>city_arrival</th>\n",
       "      <th>aircraft_model</th>\n",
       "      <th>range</th>\n",
       "      <th>flight_time</th>\n",
       "    </tr>\n",
       "  </thead>\n",
       "  <tbody>\n",
       "    <tr>\n",
       "      <th>0</th>\n",
       "      <td>Anapa</td>\n",
       "      <td>Belgorod</td>\n",
       "      <td>Sukhoi Superjet-100</td>\n",
       "      <td>3000</td>\n",
       "      <td>0 years 0 mons 0 days 0 hours 50 mins 5.084746...</td>\n",
       "    </tr>\n",
       "    <tr>\n",
       "      <th>1</th>\n",
       "      <td>Anapa</td>\n",
       "      <td>Moscow</td>\n",
       "      <td>Boeing 737-300</td>\n",
       "      <td>4200</td>\n",
       "      <td>0 years 0 mons 0 days 1 hours 39 mins 49.83050...</td>\n",
       "    </tr>\n",
       "    <tr>\n",
       "      <th>2</th>\n",
       "      <td>Anapa</td>\n",
       "      <td>Novokuznetsk</td>\n",
       "      <td>Boeing 737-300</td>\n",
       "      <td>4200</td>\n",
       "      <td>0 years 0 mons 0 days 5 hours 6 mins 40.00 secs</td>\n",
       "    </tr>\n",
       "  </tbody>\n",
       "</table>\n",
       "</div>"
      ],
      "text/plain": [
       "  city_departure  city_arrival       aircraft_model  range  \\\n",
       "0          Anapa      Belgorod  Sukhoi Superjet-100   3000   \n",
       "1          Anapa        Moscow       Boeing 737-300   4200   \n",
       "2          Anapa  Novokuznetsk       Boeing 737-300   4200   \n",
       "\n",
       "                                         flight_time  \n",
       "0  0 years 0 mons 0 days 0 hours 50 mins 5.084746...  \n",
       "1  0 years 0 mons 0 days 1 hours 39 mins 49.83050...  \n",
       "2    0 years 0 mons 0 days 5 hours 6 mins 40.00 secs  "
      ]
     },
     "execution_count": 264,
     "metadata": {},
     "output_type": "execute_result"
    }
   ],
   "source": [
    "data1"
   ]
  },
  {
   "cell_type": "code",
   "execution_count": 266,
   "id": "9e9f3160",
   "metadata": {},
   "outputs": [],
   "source": [
    "fuel_flow_model = {'Sukhoi Superjet-100': 1.700, 'Boeing 737-300': 2.650}\n",
    "# Расход топлива в тоннах в час разными моделями самолетов.\n",
    "flight_time = {'Moscow': 1.65, 'Belgorod': 0.83, 'Novokuznetsk': 5.1}\n",
    "# Длительность полета в часах от Анапы до разных городов.\n",
    "\n",
    "# Стоимость авиационного керосина в Анапе в 2017 г. 41637 руб/тонна.\n",
    "fuel_flow_city = {'Moscow': 4.372, 'Belgorod': 4.411, 'Novokuznetsk': 13.515}\n",
    "# Расход топлива в тоннах до разных городов.\n",
    "fuel costs = {'Moscow': 182078, 'Belgorod': 58750, 'Novokuznetsk': 562724}"
   ]
  },
  {
   "cell_type": "markdown",
   "id": "3c4460b6",
   "metadata": {},
   "source": [
    "Расчеты для оценки расходов на топливо для рассматриваемых рейсов гораздо проще и быстрее провести вручную, так как нас интересуют только два города."
   ]
  },
  {
   "cell_type": "markdown",
   "id": "dd7a3cbf",
   "metadata": {},
   "source": [
    "## Запросы SQL для создания дадасета"
   ]
  },
  {
   "cell_type": "markdown",
   "id": "e09b6f54",
   "metadata": {},
   "source": [
    "select\n",
    "    f.flight_id,\n",
    "    f.scheduled_departure,\n",
    "    ap1.city as city_departure,\n",
    "    ap.city as city_arrival,\n",
    "    ac.model as aircraft_model,\n",
    "    tf.fare_conditions,\n",
    "    count(distinct s.seat_no) as available_seats,\n",
    "    -- компоновка самолета по количеству мест разного класса обслуживания\n",
    "    avg(tf.amount) as price_seat,\n",
    "    -- цена одного места\n",
    "    count(distinct bp.seat_no) as occupied_seats,\n",
    "    -- количество проданных мест\n",
    "    count(distinct bp.seat_no) * 100 / nullif(count(distinct s.seat_no),0) as fullness_flight,\n",
    "    -- заполненность мест в самолете на рейсе\n",
    "    -- nullif используется из-за нулевых значений в рейсах на Новокузнецк\n",
    "    count(distinct bp.seat_no) * avg(tf.amount) as revenue_flight,\n",
    "    -- выручка от проданных билетов по каждому классу отдельно\n",
    "    count(distinct s.seat_no) - count(distinct bp.seat_no) as free_seats,\n",
    "    -- нераспроданные места\n",
    "    count(distinct s.seat_no) * avg(tf.amount) - count(distinct bp.seat_no) * avg(tf.amount) as lost_profit\n",
    "    -- упущенная выгода по каждому классу\n",
    "    \n",
    "from\n",
    "    dst_project.flights as f\n",
    "        join dst_project.airports as ap on f.arrival_airport = ap.airport_code\n",
    "            join dst_project.airports as ap1 on f.departure_airport = ap1.airport_code\n",
    "                join dst_project.aircrafts as ac on f.aircraft_code = ac.aircraft_code\n",
    "                    left join dst_project.ticket_flights as tf on f.flight_id = tf.flight_id\n",
    "                        left join dst_project.boarding_passes as bp on tf.ticket_no = bp.ticket_no \n",
    "                                                                    and tf.flight_id = bp.flight_id\n",
    "                            left join dst_project.tickets as t on tf.ticket_no = t.ticket_no\n",
    "                                    left join dst_project.bookings as b on t.book_ref = b.book_ref\n",
    "                                        left join dst_project.seats as s on ac.aircraft_code = s.aircraft_code\n",
    "                                                                    and s.fare_conditions = tf.fare_conditions \n",
    "    /* В запросе объединены все таблицы из базы данных dst_project. Эту конструкцию можно использовать для \n",
    "    написания других запросов к этой базе данных, если понадобится дополнительная информация. Однако в итоговый \n",
    "    датасет включена информация не из всех таблиц, так как для ответа на поставленный вопрос она будет избыточной.\n",
    "    Кроме того отказ от всей полноты базы данных дал возможность сгруппировать нужную информацию и представить ее \n",
    "    в удобном виде, который не требует дополнительной обработки на Python.\n",
    "    \n",
    "    Начиная с таблицы Ticket_flights присоединяем последующие таблицы по left join, так как в базе данных имеются \n",
    "    ресы в Новокузнецк, по которым нет данных о продаже билетов. */   \n",
    "    \n",
    "where f.departure_airport = 'AAQ'\n",
    "    and (date_trunc('month', f.scheduled_departure) in ('2017-01-01','2017-02-01', '2017-12-01'))\n",
    "    and f.status not in ('Cancelled')\n",
    "    -- Условия проекта: выполненные зимой 2017 года рейсы из Анапы.\n",
    "group by \n",
    "    f.flight_id,\n",
    "    f.scheduled_departure,\n",
    "    ap1.city,\n",
    "    ap.city,\n",
    "    ac.model,\n",
    "    tf.fare_conditions,\n",
    "    s.fare_conditions\n",
    "_________________________________________________________________________________________________________________\n",
    "    \n",
    "    ЗАПРОС для получения справочной информации о предельной дальности полета модели самолета и средней продолжительности\n",
    "полетов от Анапы до Москвы, Белгорода и Новокузнецка. Эта информация одинакова для всех рейсов в указанные города,\n",
    "имеет справочный характер, поэтому нет смысла перегружать ею основной датасет. Информация о расстоянии между \n",
    "аэропортами также носит справочный характер и общедоступна, поэтому нет смысла расчитывать ее по координатам \n",
    "аэропортов.\n",
    "\n",
    "select\n",
    "    --f.flight_id,\n",
    "    ap1.city as city_departure,\n",
    "    ap.city as city_arrival,\n",
    "    ac.model as aircraft_model,\n",
    "    ac.range,\n",
    "    avg(f.actual_arrival - f.actual_departure) as flight_time\n",
    "    \n",
    "from\n",
    "    dst_project.flights as f\n",
    "        join dst_project.airports as ap on f.arrival_airport = ap.airport_code\n",
    "            join dst_project.airports as ap1 on f.departure_airport = ap1.airport_code\n",
    "                join dst_project.aircrafts as ac on f.aircraft_code = ac.aircraft_code\n",
    "                \n",
    "where f.departure_airport = 'AAQ'\n",
    "    and (date_trunc('month', f.scheduled_departure) in ('2017-01-01','2017-02-01', '2017-12-01'))\n",
    "    and f.status not in ('Cancelled')\n",
    "    \n",
    "group by\n",
    "    ap1.city,\n",
    "    ap.city,\n",
    "    ac.model,\n",
    "    ac.range\n"
   ]
  }
 ],
 "metadata": {
  "kernelspec": {
   "display_name": "Python 3",
   "language": "python",
   "name": "python3"
  },
  "language_info": {
   "codemirror_mode": {
    "name": "ipython",
    "version": 3
   },
   "file_extension": ".py",
   "mimetype": "text/x-python",
   "name": "python",
   "nbconvert_exporter": "python",
   "pygments_lexer": "ipython3",
   "version": "3.8.8"
  }
 },
 "nbformat": 4,
 "nbformat_minor": 5
}
